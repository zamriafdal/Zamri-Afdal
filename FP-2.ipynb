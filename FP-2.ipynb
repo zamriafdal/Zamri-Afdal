{
 "cells": [
  {
   "cell_type": "markdown",
   "id": "227acf58",
   "metadata": {},
   "source": [
    "# Final Project"
   ]
  },
  {
   "cell_type": "markdown",
   "id": "0a3b6026",
   "metadata": {},
   "source": [
    "Executive Summary :\n",
    "\n",
    "Bank X detected a steep fall of credit card users which contributed significantly to their annual income. Retaining credit card user is vital to ensure their steady income through numerous fee charged from credit card transaction. Therefore, this analysis is used to help predict customers who are likely to churn based on their profile and transaction history.\n",
    "\n",
    "***Notes :\n",
    "we are given 21 features/variables where 'Attrition_Flag' acts as target variable (outcome). It is a categorical variable with binary value, 'existing customer' and 'attrited customer'"
   ]
  },
  {
   "cell_type": "code",
   "execution_count": 88,
   "id": "60dadbd1",
   "metadata": {},
   "outputs": [],
   "source": [
    "#importing essentials library without machine learning models library \n",
    "import pandas as pd\n",
    "import numpy as np\n",
    "import seaborn as sns\n",
    "import scipy.stats as stats\n",
    "import matplotlib.pyplot as plt\n",
    "import matplotlib.gridspec as gridspec\n",
    "from sklearn import preprocessing \n",
    "from collections import Counter\n",
    "\n",
    "\n",
    "%matplotlib inline"
   ]
  },
  {
   "cell_type": "code",
   "execution_count": 89,
   "id": "c3f1509e",
   "metadata": {},
   "outputs": [
    {
     "data": {
      "text/html": [
       "<div>\n",
       "<style scoped>\n",
       "    .dataframe tbody tr th:only-of-type {\n",
       "        vertical-align: middle;\n",
       "    }\n",
       "\n",
       "    .dataframe tbody tr th {\n",
       "        vertical-align: top;\n",
       "    }\n",
       "\n",
       "    .dataframe thead th {\n",
       "        text-align: right;\n",
       "    }\n",
       "</style>\n",
       "<table border=\"1\" class=\"dataframe\">\n",
       "  <thead>\n",
       "    <tr style=\"text-align: right;\">\n",
       "      <th></th>\n",
       "      <th>CLIENTNUM</th>\n",
       "      <th>Attrition_Flag</th>\n",
       "      <th>Customer_Age</th>\n",
       "      <th>Gender</th>\n",
       "      <th>Dependent_count</th>\n",
       "      <th>Education_Level</th>\n",
       "      <th>Marital_Status</th>\n",
       "      <th>Income_Category</th>\n",
       "      <th>Card_Category</th>\n",
       "      <th>Months_on_book</th>\n",
       "      <th>...</th>\n",
       "      <th>Credit_Limit</th>\n",
       "      <th>Total_Revolving_Bal</th>\n",
       "      <th>Avg_Open_To_Buy</th>\n",
       "      <th>Total_Amt_Chng_Q4_Q1</th>\n",
       "      <th>Total_Trans_Amt</th>\n",
       "      <th>Total_Trans_Ct</th>\n",
       "      <th>Total_Ct_Chng_Q4_Q1</th>\n",
       "      <th>Avg_Utilization_Ratio</th>\n",
       "      <th>Naive_Bayes_Classifier_Attrition_Flag_Card_Category_Contacts_Count_12_mon_Dependent_count_Education_Level_Months_Inactive_12_mon_1</th>\n",
       "      <th>Naive_Bayes_Classifier_Attrition_Flag_Card_Category_Contacts_Count_12_mon_Dependent_count_Education_Level_Months_Inactive_12_mon_2</th>\n",
       "    </tr>\n",
       "  </thead>\n",
       "  <tbody>\n",
       "    <tr>\n",
       "      <th>0</th>\n",
       "      <td>768805383</td>\n",
       "      <td>Existing Customer</td>\n",
       "      <td>45</td>\n",
       "      <td>M</td>\n",
       "      <td>3</td>\n",
       "      <td>High School</td>\n",
       "      <td>Married</td>\n",
       "      <td>$60K - $80K</td>\n",
       "      <td>Blue</td>\n",
       "      <td>39</td>\n",
       "      <td>...</td>\n",
       "      <td>12691.0</td>\n",
       "      <td>777</td>\n",
       "      <td>11914.0</td>\n",
       "      <td>1.335</td>\n",
       "      <td>1144</td>\n",
       "      <td>42</td>\n",
       "      <td>1.625</td>\n",
       "      <td>0.061</td>\n",
       "      <td>0.000093</td>\n",
       "      <td>0.99991</td>\n",
       "    </tr>\n",
       "    <tr>\n",
       "      <th>1</th>\n",
       "      <td>818770008</td>\n",
       "      <td>Existing Customer</td>\n",
       "      <td>49</td>\n",
       "      <td>F</td>\n",
       "      <td>5</td>\n",
       "      <td>Graduate</td>\n",
       "      <td>Single</td>\n",
       "      <td>Less than $40K</td>\n",
       "      <td>Blue</td>\n",
       "      <td>44</td>\n",
       "      <td>...</td>\n",
       "      <td>8256.0</td>\n",
       "      <td>864</td>\n",
       "      <td>7392.0</td>\n",
       "      <td>1.541</td>\n",
       "      <td>1291</td>\n",
       "      <td>33</td>\n",
       "      <td>3.714</td>\n",
       "      <td>0.105</td>\n",
       "      <td>0.000057</td>\n",
       "      <td>0.99994</td>\n",
       "    </tr>\n",
       "    <tr>\n",
       "      <th>2</th>\n",
       "      <td>713982108</td>\n",
       "      <td>Existing Customer</td>\n",
       "      <td>51</td>\n",
       "      <td>M</td>\n",
       "      <td>3</td>\n",
       "      <td>Graduate</td>\n",
       "      <td>Married</td>\n",
       "      <td>$80K - $120K</td>\n",
       "      <td>Blue</td>\n",
       "      <td>36</td>\n",
       "      <td>...</td>\n",
       "      <td>3418.0</td>\n",
       "      <td>0</td>\n",
       "      <td>3418.0</td>\n",
       "      <td>2.594</td>\n",
       "      <td>1887</td>\n",
       "      <td>20</td>\n",
       "      <td>2.333</td>\n",
       "      <td>0.000</td>\n",
       "      <td>0.000021</td>\n",
       "      <td>0.99998</td>\n",
       "    </tr>\n",
       "  </tbody>\n",
       "</table>\n",
       "<p>3 rows × 23 columns</p>\n",
       "</div>"
      ],
      "text/plain": [
       "   CLIENTNUM     Attrition_Flag  Customer_Age Gender  Dependent_count  \\\n",
       "0  768805383  Existing Customer            45      M                3   \n",
       "1  818770008  Existing Customer            49      F                5   \n",
       "2  713982108  Existing Customer            51      M                3   \n",
       "\n",
       "  Education_Level Marital_Status Income_Category Card_Category  \\\n",
       "0     High School        Married     $60K - $80K          Blue   \n",
       "1        Graduate         Single  Less than $40K          Blue   \n",
       "2        Graduate        Married    $80K - $120K          Blue   \n",
       "\n",
       "   Months_on_book  ...  Credit_Limit  Total_Revolving_Bal  Avg_Open_To_Buy  \\\n",
       "0              39  ...       12691.0                  777          11914.0   \n",
       "1              44  ...        8256.0                  864           7392.0   \n",
       "2              36  ...        3418.0                    0           3418.0   \n",
       "\n",
       "   Total_Amt_Chng_Q4_Q1  Total_Trans_Amt  Total_Trans_Ct  Total_Ct_Chng_Q4_Q1  \\\n",
       "0                 1.335             1144              42                1.625   \n",
       "1                 1.541             1291              33                3.714   \n",
       "2                 2.594             1887              20                2.333   \n",
       "\n",
       "   Avg_Utilization_Ratio  \\\n",
       "0                  0.061   \n",
       "1                  0.105   \n",
       "2                  0.000   \n",
       "\n",
       "   Naive_Bayes_Classifier_Attrition_Flag_Card_Category_Contacts_Count_12_mon_Dependent_count_Education_Level_Months_Inactive_12_mon_1  \\\n",
       "0                                           0.000093                                                                                    \n",
       "1                                           0.000057                                                                                    \n",
       "2                                           0.000021                                                                                    \n",
       "\n",
       "   Naive_Bayes_Classifier_Attrition_Flag_Card_Category_Contacts_Count_12_mon_Dependent_count_Education_Level_Months_Inactive_12_mon_2  \n",
       "0                                            0.99991                                                                                   \n",
       "1                                            0.99994                                                                                   \n",
       "2                                            0.99998                                                                                   \n",
       "\n",
       "[3 rows x 23 columns]"
      ]
     },
     "execution_count": 89,
     "metadata": {},
     "output_type": "execute_result"
    }
   ],
   "source": [
    "#importing the dataset + quick look into the first 3 row \n",
    "df = pd.read_csv('BankChurners.csv')\n",
    "df.head(3)\n",
    "#The dataset consist of 10127 rows with 23 columns "
   ]
  },
  {
   "cell_type": "code",
   "execution_count": 90,
   "id": "666fa1e3",
   "metadata": {},
   "outputs": [
    {
     "data": {
      "text/plain": [
       "(10127, 23)"
      ]
     },
     "execution_count": 90,
     "metadata": {},
     "output_type": "execute_result"
    }
   ],
   "source": [
    "df.shape"
   ]
  },
  {
   "cell_type": "code",
   "execution_count": 91,
   "id": "489cf7eb",
   "metadata": {},
   "outputs": [
    {
     "data": {
      "text/html": [
       "<div>\n",
       "<style scoped>\n",
       "    .dataframe tbody tr th:only-of-type {\n",
       "        vertical-align: middle;\n",
       "    }\n",
       "\n",
       "    .dataframe tbody tr th {\n",
       "        vertical-align: top;\n",
       "    }\n",
       "\n",
       "    .dataframe thead th {\n",
       "        text-align: right;\n",
       "    }\n",
       "</style>\n",
       "<table border=\"1\" class=\"dataframe\">\n",
       "  <thead>\n",
       "    <tr style=\"text-align: right;\">\n",
       "      <th></th>\n",
       "      <th>Attrition_Flag</th>\n",
       "      <th>Customer_Age</th>\n",
       "      <th>Gender</th>\n",
       "      <th>Dependent_count</th>\n",
       "      <th>Education_Level</th>\n",
       "      <th>Marital_Status</th>\n",
       "      <th>Income_Category</th>\n",
       "      <th>Card_Category</th>\n",
       "      <th>Months_on_book</th>\n",
       "      <th>Total_Relationship_Count</th>\n",
       "      <th>Months_Inactive_12_mon</th>\n",
       "      <th>Contacts_Count_12_mon</th>\n",
       "      <th>Credit_Limit</th>\n",
       "      <th>Total_Revolving_Bal</th>\n",
       "      <th>Avg_Open_To_Buy</th>\n",
       "      <th>Total_Amt_Chng_Q4_Q1</th>\n",
       "      <th>Total_Trans_Amt</th>\n",
       "      <th>Total_Trans_Ct</th>\n",
       "      <th>Total_Ct_Chng_Q4_Q1</th>\n",
       "      <th>Avg_Utilization_Ratio</th>\n",
       "    </tr>\n",
       "  </thead>\n",
       "  <tbody>\n",
       "    <tr>\n",
       "      <th>0</th>\n",
       "      <td>Existing Customer</td>\n",
       "      <td>45</td>\n",
       "      <td>M</td>\n",
       "      <td>3</td>\n",
       "      <td>High School</td>\n",
       "      <td>Married</td>\n",
       "      <td>$60K - $80K</td>\n",
       "      <td>Blue</td>\n",
       "      <td>39</td>\n",
       "      <td>5</td>\n",
       "      <td>1</td>\n",
       "      <td>3</td>\n",
       "      <td>12691.0</td>\n",
       "      <td>777</td>\n",
       "      <td>11914.0</td>\n",
       "      <td>1.335</td>\n",
       "      <td>1144</td>\n",
       "      <td>42</td>\n",
       "      <td>1.625</td>\n",
       "      <td>0.061</td>\n",
       "    </tr>\n",
       "    <tr>\n",
       "      <th>1</th>\n",
       "      <td>Existing Customer</td>\n",
       "      <td>49</td>\n",
       "      <td>F</td>\n",
       "      <td>5</td>\n",
       "      <td>Graduate</td>\n",
       "      <td>Single</td>\n",
       "      <td>Less than $40K</td>\n",
       "      <td>Blue</td>\n",
       "      <td>44</td>\n",
       "      <td>6</td>\n",
       "      <td>1</td>\n",
       "      <td>2</td>\n",
       "      <td>8256.0</td>\n",
       "      <td>864</td>\n",
       "      <td>7392.0</td>\n",
       "      <td>1.541</td>\n",
       "      <td>1291</td>\n",
       "      <td>33</td>\n",
       "      <td>3.714</td>\n",
       "      <td>0.105</td>\n",
       "    </tr>\n",
       "    <tr>\n",
       "      <th>2</th>\n",
       "      <td>Existing Customer</td>\n",
       "      <td>51</td>\n",
       "      <td>M</td>\n",
       "      <td>3</td>\n",
       "      <td>Graduate</td>\n",
       "      <td>Married</td>\n",
       "      <td>$80K - $120K</td>\n",
       "      <td>Blue</td>\n",
       "      <td>36</td>\n",
       "      <td>4</td>\n",
       "      <td>1</td>\n",
       "      <td>0</td>\n",
       "      <td>3418.0</td>\n",
       "      <td>0</td>\n",
       "      <td>3418.0</td>\n",
       "      <td>2.594</td>\n",
       "      <td>1887</td>\n",
       "      <td>20</td>\n",
       "      <td>2.333</td>\n",
       "      <td>0.000</td>\n",
       "    </tr>\n",
       "    <tr>\n",
       "      <th>3</th>\n",
       "      <td>Existing Customer</td>\n",
       "      <td>40</td>\n",
       "      <td>F</td>\n",
       "      <td>4</td>\n",
       "      <td>High School</td>\n",
       "      <td>Unknown</td>\n",
       "      <td>Less than $40K</td>\n",
       "      <td>Blue</td>\n",
       "      <td>34</td>\n",
       "      <td>3</td>\n",
       "      <td>4</td>\n",
       "      <td>1</td>\n",
       "      <td>3313.0</td>\n",
       "      <td>2517</td>\n",
       "      <td>796.0</td>\n",
       "      <td>1.405</td>\n",
       "      <td>1171</td>\n",
       "      <td>20</td>\n",
       "      <td>2.333</td>\n",
       "      <td>0.760</td>\n",
       "    </tr>\n",
       "    <tr>\n",
       "      <th>4</th>\n",
       "      <td>Existing Customer</td>\n",
       "      <td>40</td>\n",
       "      <td>M</td>\n",
       "      <td>3</td>\n",
       "      <td>Uneducated</td>\n",
       "      <td>Married</td>\n",
       "      <td>$60K - $80K</td>\n",
       "      <td>Blue</td>\n",
       "      <td>21</td>\n",
       "      <td>5</td>\n",
       "      <td>1</td>\n",
       "      <td>0</td>\n",
       "      <td>4716.0</td>\n",
       "      <td>0</td>\n",
       "      <td>4716.0</td>\n",
       "      <td>2.175</td>\n",
       "      <td>816</td>\n",
       "      <td>28</td>\n",
       "      <td>2.500</td>\n",
       "      <td>0.000</td>\n",
       "    </tr>\n",
       "    <tr>\n",
       "      <th>...</th>\n",
       "      <td>...</td>\n",
       "      <td>...</td>\n",
       "      <td>...</td>\n",
       "      <td>...</td>\n",
       "      <td>...</td>\n",
       "      <td>...</td>\n",
       "      <td>...</td>\n",
       "      <td>...</td>\n",
       "      <td>...</td>\n",
       "      <td>...</td>\n",
       "      <td>...</td>\n",
       "      <td>...</td>\n",
       "      <td>...</td>\n",
       "      <td>...</td>\n",
       "      <td>...</td>\n",
       "      <td>...</td>\n",
       "      <td>...</td>\n",
       "      <td>...</td>\n",
       "      <td>...</td>\n",
       "      <td>...</td>\n",
       "    </tr>\n",
       "    <tr>\n",
       "      <th>10122</th>\n",
       "      <td>Existing Customer</td>\n",
       "      <td>50</td>\n",
       "      <td>M</td>\n",
       "      <td>2</td>\n",
       "      <td>Graduate</td>\n",
       "      <td>Single</td>\n",
       "      <td>$40K - $60K</td>\n",
       "      <td>Blue</td>\n",
       "      <td>40</td>\n",
       "      <td>3</td>\n",
       "      <td>2</td>\n",
       "      <td>3</td>\n",
       "      <td>4003.0</td>\n",
       "      <td>1851</td>\n",
       "      <td>2152.0</td>\n",
       "      <td>0.703</td>\n",
       "      <td>15476</td>\n",
       "      <td>117</td>\n",
       "      <td>0.857</td>\n",
       "      <td>0.462</td>\n",
       "    </tr>\n",
       "    <tr>\n",
       "      <th>10123</th>\n",
       "      <td>Attrited Customer</td>\n",
       "      <td>41</td>\n",
       "      <td>M</td>\n",
       "      <td>2</td>\n",
       "      <td>Unknown</td>\n",
       "      <td>Divorced</td>\n",
       "      <td>$40K - $60K</td>\n",
       "      <td>Blue</td>\n",
       "      <td>25</td>\n",
       "      <td>4</td>\n",
       "      <td>2</td>\n",
       "      <td>3</td>\n",
       "      <td>4277.0</td>\n",
       "      <td>2186</td>\n",
       "      <td>2091.0</td>\n",
       "      <td>0.804</td>\n",
       "      <td>8764</td>\n",
       "      <td>69</td>\n",
       "      <td>0.683</td>\n",
       "      <td>0.511</td>\n",
       "    </tr>\n",
       "    <tr>\n",
       "      <th>10124</th>\n",
       "      <td>Attrited Customer</td>\n",
       "      <td>44</td>\n",
       "      <td>F</td>\n",
       "      <td>1</td>\n",
       "      <td>High School</td>\n",
       "      <td>Married</td>\n",
       "      <td>Less than $40K</td>\n",
       "      <td>Blue</td>\n",
       "      <td>36</td>\n",
       "      <td>5</td>\n",
       "      <td>3</td>\n",
       "      <td>4</td>\n",
       "      <td>5409.0</td>\n",
       "      <td>0</td>\n",
       "      <td>5409.0</td>\n",
       "      <td>0.819</td>\n",
       "      <td>10291</td>\n",
       "      <td>60</td>\n",
       "      <td>0.818</td>\n",
       "      <td>0.000</td>\n",
       "    </tr>\n",
       "    <tr>\n",
       "      <th>10125</th>\n",
       "      <td>Attrited Customer</td>\n",
       "      <td>30</td>\n",
       "      <td>M</td>\n",
       "      <td>2</td>\n",
       "      <td>Graduate</td>\n",
       "      <td>Unknown</td>\n",
       "      <td>$40K - $60K</td>\n",
       "      <td>Blue</td>\n",
       "      <td>36</td>\n",
       "      <td>4</td>\n",
       "      <td>3</td>\n",
       "      <td>3</td>\n",
       "      <td>5281.0</td>\n",
       "      <td>0</td>\n",
       "      <td>5281.0</td>\n",
       "      <td>0.535</td>\n",
       "      <td>8395</td>\n",
       "      <td>62</td>\n",
       "      <td>0.722</td>\n",
       "      <td>0.000</td>\n",
       "    </tr>\n",
       "    <tr>\n",
       "      <th>10126</th>\n",
       "      <td>Attrited Customer</td>\n",
       "      <td>43</td>\n",
       "      <td>F</td>\n",
       "      <td>2</td>\n",
       "      <td>Graduate</td>\n",
       "      <td>Married</td>\n",
       "      <td>Less than $40K</td>\n",
       "      <td>Silver</td>\n",
       "      <td>25</td>\n",
       "      <td>6</td>\n",
       "      <td>2</td>\n",
       "      <td>4</td>\n",
       "      <td>10388.0</td>\n",
       "      <td>1961</td>\n",
       "      <td>8427.0</td>\n",
       "      <td>0.703</td>\n",
       "      <td>10294</td>\n",
       "      <td>61</td>\n",
       "      <td>0.649</td>\n",
       "      <td>0.189</td>\n",
       "    </tr>\n",
       "  </tbody>\n",
       "</table>\n",
       "<p>10127 rows × 20 columns</p>\n",
       "</div>"
      ],
      "text/plain": [
       "          Attrition_Flag  Customer_Age Gender  Dependent_count  \\\n",
       "0      Existing Customer            45      M                3   \n",
       "1      Existing Customer            49      F                5   \n",
       "2      Existing Customer            51      M                3   \n",
       "3      Existing Customer            40      F                4   \n",
       "4      Existing Customer            40      M                3   \n",
       "...                  ...           ...    ...              ...   \n",
       "10122  Existing Customer            50      M                2   \n",
       "10123  Attrited Customer            41      M                2   \n",
       "10124  Attrited Customer            44      F                1   \n",
       "10125  Attrited Customer            30      M                2   \n",
       "10126  Attrited Customer            43      F                2   \n",
       "\n",
       "      Education_Level Marital_Status Income_Category Card_Category  \\\n",
       "0         High School        Married     $60K - $80K          Blue   \n",
       "1            Graduate         Single  Less than $40K          Blue   \n",
       "2            Graduate        Married    $80K - $120K          Blue   \n",
       "3         High School        Unknown  Less than $40K          Blue   \n",
       "4          Uneducated        Married     $60K - $80K          Blue   \n",
       "...               ...            ...             ...           ...   \n",
       "10122        Graduate         Single     $40K - $60K          Blue   \n",
       "10123         Unknown       Divorced     $40K - $60K          Blue   \n",
       "10124     High School        Married  Less than $40K          Blue   \n",
       "10125        Graduate        Unknown     $40K - $60K          Blue   \n",
       "10126        Graduate        Married  Less than $40K        Silver   \n",
       "\n",
       "       Months_on_book  Total_Relationship_Count  Months_Inactive_12_mon  \\\n",
       "0                  39                         5                       1   \n",
       "1                  44                         6                       1   \n",
       "2                  36                         4                       1   \n",
       "3                  34                         3                       4   \n",
       "4                  21                         5                       1   \n",
       "...               ...                       ...                     ...   \n",
       "10122              40                         3                       2   \n",
       "10123              25                         4                       2   \n",
       "10124              36                         5                       3   \n",
       "10125              36                         4                       3   \n",
       "10126              25                         6                       2   \n",
       "\n",
       "       Contacts_Count_12_mon  Credit_Limit  Total_Revolving_Bal  \\\n",
       "0                          3       12691.0                  777   \n",
       "1                          2        8256.0                  864   \n",
       "2                          0        3418.0                    0   \n",
       "3                          1        3313.0                 2517   \n",
       "4                          0        4716.0                    0   \n",
       "...                      ...           ...                  ...   \n",
       "10122                      3        4003.0                 1851   \n",
       "10123                      3        4277.0                 2186   \n",
       "10124                      4        5409.0                    0   \n",
       "10125                      3        5281.0                    0   \n",
       "10126                      4       10388.0                 1961   \n",
       "\n",
       "       Avg_Open_To_Buy  Total_Amt_Chng_Q4_Q1  Total_Trans_Amt  Total_Trans_Ct  \\\n",
       "0              11914.0                 1.335             1144              42   \n",
       "1               7392.0                 1.541             1291              33   \n",
       "2               3418.0                 2.594             1887              20   \n",
       "3                796.0                 1.405             1171              20   \n",
       "4               4716.0                 2.175              816              28   \n",
       "...                ...                   ...              ...             ...   \n",
       "10122           2152.0                 0.703            15476             117   \n",
       "10123           2091.0                 0.804             8764              69   \n",
       "10124           5409.0                 0.819            10291              60   \n",
       "10125           5281.0                 0.535             8395              62   \n",
       "10126           8427.0                 0.703            10294              61   \n",
       "\n",
       "       Total_Ct_Chng_Q4_Q1  Avg_Utilization_Ratio  \n",
       "0                    1.625                  0.061  \n",
       "1                    3.714                  0.105  \n",
       "2                    2.333                  0.000  \n",
       "3                    2.333                  0.760  \n",
       "4                    2.500                  0.000  \n",
       "...                    ...                    ...  \n",
       "10122                0.857                  0.462  \n",
       "10123                0.683                  0.511  \n",
       "10124                0.818                  0.000  \n",
       "10125                0.722                  0.000  \n",
       "10126                0.649                  0.189  \n",
       "\n",
       "[10127 rows x 20 columns]"
      ]
     },
     "execution_count": 91,
     "metadata": {},
     "output_type": "execute_result"
    }
   ],
   "source": [
    "#we have 10127 row with 23 variables\n",
    "#the last two column and CLIENTUM has no used therefore they will be drop accordingly\n",
    "df.drop([df.columns[0],df.columns[21],df.columns[22]],axis=1,inplace=True)\n",
    "df"
   ]
  },
  {
   "cell_type": "markdown",
   "id": "ac512c73",
   "metadata": {},
   "source": [
    "# EXPLORATORY DATA ANALYSIS"
   ]
  },
  {
   "cell_type": "code",
   "execution_count": 92,
   "id": "5c131dd9",
   "metadata": {},
   "outputs": [
    {
     "name": "stdout",
     "output_type": "stream",
     "text": [
      "<class 'pandas.core.frame.DataFrame'>\n",
      "RangeIndex: 10127 entries, 0 to 10126\n",
      "Data columns (total 20 columns):\n",
      " #   Column                    Non-Null Count  Dtype  \n",
      "---  ------                    --------------  -----  \n",
      " 0   Attrition_Flag            10127 non-null  object \n",
      " 1   Customer_Age              10127 non-null  int64  \n",
      " 2   Gender                    10127 non-null  object \n",
      " 3   Dependent_count           10127 non-null  int64  \n",
      " 4   Education_Level           10127 non-null  object \n",
      " 5   Marital_Status            10127 non-null  object \n",
      " 6   Income_Category           10127 non-null  object \n",
      " 7   Card_Category             10127 non-null  object \n",
      " 8   Months_on_book            10127 non-null  int64  \n",
      " 9   Total_Relationship_Count  10127 non-null  int64  \n",
      " 10  Months_Inactive_12_mon    10127 non-null  int64  \n",
      " 11  Contacts_Count_12_mon     10127 non-null  int64  \n",
      " 12  Credit_Limit              10127 non-null  float64\n",
      " 13  Total_Revolving_Bal       10127 non-null  int64  \n",
      " 14  Avg_Open_To_Buy           10127 non-null  float64\n",
      " 15  Total_Amt_Chng_Q4_Q1      10127 non-null  float64\n",
      " 16  Total_Trans_Amt           10127 non-null  int64  \n",
      " 17  Total_Trans_Ct            10127 non-null  int64  \n",
      " 18  Total_Ct_Chng_Q4_Q1       10127 non-null  float64\n",
      " 19  Avg_Utilization_Ratio     10127 non-null  float64\n",
      "dtypes: float64(5), int64(9), object(6)\n",
      "memory usage: 1.5+ MB\n"
     ]
    }
   ],
   "source": [
    "df.info()"
   ]
  },
  {
   "cell_type": "markdown",
   "id": "c8bd7db2",
   "metadata": {},
   "source": [
    "The dataset contain of 6 objects, 5 floats and 10 integers. The target variable is 'Attrition_Flag', coded in string/object. "
   ]
  },
  {
   "cell_type": "markdown",
   "id": "0526142e",
   "metadata": {},
   "source": [
    "# Categorical Variable "
   ]
  },
  {
   "cell_type": "code",
   "execution_count": 93,
   "id": "277c162b",
   "metadata": {},
   "outputs": [
    {
     "data": {
      "text/html": [
       "<div>\n",
       "<style scoped>\n",
       "    .dataframe tbody tr th:only-of-type {\n",
       "        vertical-align: middle;\n",
       "    }\n",
       "\n",
       "    .dataframe tbody tr th {\n",
       "        vertical-align: top;\n",
       "    }\n",
       "\n",
       "    .dataframe thead th {\n",
       "        text-align: right;\n",
       "    }\n",
       "</style>\n",
       "<table border=\"1\" class=\"dataframe\">\n",
       "  <thead>\n",
       "    <tr style=\"text-align: right;\">\n",
       "      <th></th>\n",
       "      <th>Attrition_Flag</th>\n",
       "      <th>Gender</th>\n",
       "      <th>Education_Level</th>\n",
       "      <th>Marital_Status</th>\n",
       "      <th>Income_Category</th>\n",
       "      <th>Card_Category</th>\n",
       "    </tr>\n",
       "  </thead>\n",
       "  <tbody>\n",
       "    <tr>\n",
       "      <th>0</th>\n",
       "      <td>Existing Customer</td>\n",
       "      <td>M</td>\n",
       "      <td>High School</td>\n",
       "      <td>Married</td>\n",
       "      <td>$60K - $80K</td>\n",
       "      <td>Blue</td>\n",
       "    </tr>\n",
       "    <tr>\n",
       "      <th>1</th>\n",
       "      <td>Existing Customer</td>\n",
       "      <td>F</td>\n",
       "      <td>Graduate</td>\n",
       "      <td>Single</td>\n",
       "      <td>Less than $40K</td>\n",
       "      <td>Blue</td>\n",
       "    </tr>\n",
       "  </tbody>\n",
       "</table>\n",
       "</div>"
      ],
      "text/plain": [
       "      Attrition_Flag Gender Education_Level Marital_Status Income_Category  \\\n",
       "0  Existing Customer      M     High School        Married     $60K - $80K   \n",
       "1  Existing Customer      F        Graduate         Single  Less than $40K   \n",
       "\n",
       "  Card_Category  \n",
       "0          Blue  \n",
       "1          Blue  "
      ]
     },
     "execution_count": 93,
     "metadata": {},
     "output_type": "execute_result"
    }
   ],
   "source": [
    "#Categorical Variable \n",
    "dfc = df.select_dtypes(include=[object])\n",
    "dfc.head(2)"
   ]
  },
  {
   "cell_type": "code",
   "execution_count": 94,
   "id": "320e706d",
   "metadata": {},
   "outputs": [
    {
     "name": "stdout",
     "output_type": "stream",
     "text": [
      "['Existing Customer' 'Attrited Customer']\n",
      "['M' 'F']\n",
      "['High School' 'Graduate' 'Uneducated' 'Unknown' 'College' 'Post-Graduate'\n",
      " 'Doctorate']\n",
      "['Married' 'Single' 'Unknown' 'Divorced']\n",
      "['$60K - $80K' 'Less than $40K' '$80K - $120K' '$40K - $60K' '$120K +'\n",
      " 'Unknown']\n",
      "['Blue' 'Gold' 'Silver' 'Platinum']\n"
     ]
    }
   ],
   "source": [
    "for i in dfc.columns :\n",
    "    print(dfc[i].unique())"
   ]
  },
  {
   "cell_type": "markdown",
   "id": "ad04e65d",
   "metadata": {},
   "source": [
    "**Note :\n",
    "\n",
    "There are 6 categorical features, which are :\n",
    "\n",
    "Attrition_Flag : Binary, existing vs attrtited customer\n",
    "\n",
    "Gender : Binary, M and F\n",
    "\n",
    "Education_Level : Ordinal, Uneductaed to Doctorate\n",
    "\n",
    "Marital_Status : Single to Divorced\n",
    "\n",
    "Income_Category : Oridnal, <40k to >120k\n",
    "\n",
    "Card_Category : Blue, Gold, Silver, Platinum \n",
    "\n",
    "Some features such as Education_Level, Income_Category and Marital_Status have some \"unknown\" values which will be treated as 'missing value' and subjected for preprocessing. "
   ]
  },
  {
   "cell_type": "code",
   "execution_count": 95,
   "id": "ab724e9e",
   "metadata": {},
   "outputs": [
    {
     "data": {
      "text/plain": [
       "Existing Customer    8500\n",
       "Attrited Customer    1627\n",
       "Name: Attrition_Flag, dtype: int64"
      ]
     },
     "execution_count": 95,
     "metadata": {},
     "output_type": "execute_result"
    }
   ],
   "source": [
    "#Further investigation to target variable \n",
    "dfc[\"Attrition_Flag\"].value_counts()"
   ]
  },
  {
   "cell_type": "code",
   "execution_count": 96,
   "id": "4936495f",
   "metadata": {},
   "outputs": [
    {
     "data": {
      "image/png": "[encoded data removed]",
      "text/plain": [
       "<Figure size 432x288 with 1 Axes>"
      ]
     },
     "metadata": {},
     "output_type": "display_data"
    }
   ],
   "source": [
    "#Attrition_Flag is in binary form, therefore we can use pie chart to visualize the proportions\n",
    "x = ['Existing', 'Attrited']\n",
    "y = [8500, 1627]\n",
    "labels = x\n",
    "sizes = y\n",
    "\n",
    "colors = ['blue', 'red']\n",
    "explode = (0, 0.1)  # explode 1st slice\n",
    "\n",
    "# Plot\n",
    "plt.pie(sizes, explode=explode, labels=labels, colors=colors,\n",
    "autopct='%1.1f%%', shadow=True, startangle=140)\n",
    "\n",
    "plt.title(' Proportion of attrited vs existed customers', fontsize=15)\n",
    "plt.axis('equal')\n",
    "plt.show()"
   ]
  },
  {
   "cell_type": "markdown",
   "id": "855bc311",
   "metadata": {},
   "source": [
    "The pie chart illustrates the proportion of existing and attrited customers in Bank DS.There is a significant disporportion between the two groups, where 16.1% of the customers have attrited from bank X and 83.9%  remain active. In conclusion, this target variable is imbalanced."
   ]
  },
  {
   "cell_type": "code",
   "execution_count": 97,
   "id": "04b94cba",
   "metadata": {
    "scrolled": true
   },
   "outputs": [
    {
     "data": {
      "image/png": "[encoded data removed]",
      "text/plain": [
       "<Figure size 1296x720 with 6 Axes>"
      ]
     },
     "metadata": {
      "needs_background": "light"
     },
     "output_type": "display_data"
    }
   ],
   "source": [
    "#Checking the categorical variable distribution with histogram  \n",
    "fig, axes = plt.subplots(2, 3, figsize=(18,10))\n",
    "fig.suptitle('Categorical Variable Distribution', size = 26)\n",
    "sns.histplot(df['Attrition_Flag'], ax=axes[0,0],color=\"red\")\n",
    "sns.histplot(df['Gender'], ax=axes[0,1], color = \"red\")\n",
    "sns.histplot(df['Education_Level'], ax=axes[0,2], color= \"red\")\n",
    "sns.histplot(df[\"Marital_Status\"], ax=axes[1,0],  color = \"blue\")\n",
    "sns.histplot(df[\"Income_Category\"], ax=axes[1,1], color = \"blue\")\n",
    "sns.histplot(df[\"Card_Category\"], ax=axes[1,2], color = \"blue\")\n",
    "\n",
    "\n",
    "plt.savefig('saving-a-seaborn-plot-as-eps-file.tiff')"
   ]
  },
  {
   "cell_type": "code",
   "execution_count": 98,
   "id": "f43ef57e",
   "metadata": {},
   "outputs": [
    {
     "data": {
      "image/png": "[encoded data removed]",
      "text/plain": [
       "<Figure size 1296x720 with 6 Axes>"
      ]
     },
     "metadata": {
      "needs_background": "light"
     },
     "output_type": "display_data"
    }
   ],
   "source": [
    "#Using countplot with hue to further describe how the variable relate with customer status \n",
    "fig, axes = plt.subplots(3, 2, figsize=(18,10))\n",
    "fig.suptitle('Number of Existing and Attrited Customer in each variable', size = 26)\n",
    "sns.countplot(ax=axes[0,0], x=df['Attrition_Flag'],hue=df['Attrition_Flag'], data = df, palette=\"Set1\")\n",
    "sns.countplot(ax=axes[0,1], x=df['Gender'],hue=df['Attrition_Flag'], data = df, palette=\"Set1\")\n",
    "sns.countplot(ax=axes[1,0], x=df['Education_Level'],hue=df['Attrition_Flag'], data = df, palette=\"Set1\")\n",
    "sns.countplot(ax=axes[1,1], x=df['Marital_Status'],hue=df['Attrition_Flag'], data = df, palette=\"Set1\")\n",
    "sns.countplot(ax=axes[2,0], x=df['Income_Category'],hue=df['Attrition_Flag'], data = df, palette=\"Set1\")\n",
    "sns.countplot(ax=axes[2,1], x=df['Card_Category'],hue=df['Attrition_Flag'], data = df, palette=\"Set1\")\n",
    "\n",
    "plt.savefig('cat.tiff')"
   ]
  },
  {
   "cell_type": "markdown",
   "id": "e0eb125c",
   "metadata": {},
   "source": [
    "The dataset is distributed evenly amongst gender. Majority of the customers have university degree, married with income less than $ 40.000. Almost 90% of the customers are at the Blue tier of the card. When divided between attrtied and existed customers, the trends remain unchanged. "
   ]
  },
  {
   "cell_type": "markdown",
   "id": "77e7161e",
   "metadata": {},
   "source": [
    "# Numerical Variable"
   ]
  },
  {
   "cell_type": "code",
   "execution_count": 99,
   "id": "3fa90e8f",
   "metadata": {},
   "outputs": [
    {
     "data": {
      "text/plain": [
       "0    8500\n",
       "1    1627\n",
       "Name: Attrition_Flag, dtype: int64"
      ]
     },
     "execution_count": 99,
     "metadata": {},
     "output_type": "execute_result"
    }
   ],
   "source": [
    "#Convert the target variable into numerical data 0 for Existing Customer and 1 for Attrited Customer\n",
    "df.Attrition_Flag = pd.factorize(df.Attrition_Flag)[0]\n",
    "df['Attrition_Flag'].value_counts()"
   ]
  },
  {
   "cell_type": "code",
   "execution_count": 100,
   "id": "a211b667",
   "metadata": {},
   "outputs": [
    {
     "data": {
      "text/html": [
       "<div>\n",
       "<style scoped>\n",
       "    .dataframe tbody tr th:only-of-type {\n",
       "        vertical-align: middle;\n",
       "    }\n",
       "\n",
       "    .dataframe tbody tr th {\n",
       "        vertical-align: top;\n",
       "    }\n",
       "\n",
       "    .dataframe thead th {\n",
       "        text-align: right;\n",
       "    }\n",
       "</style>\n",
       "<table border=\"1\" class=\"dataframe\">\n",
       "  <thead>\n",
       "    <tr style=\"text-align: right;\">\n",
       "      <th></th>\n",
       "      <th>Attrition_Flag</th>\n",
       "      <th>Customer_Age</th>\n",
       "      <th>Gender</th>\n",
       "      <th>Dependent_count</th>\n",
       "      <th>Education_Level</th>\n",
       "      <th>Marital_Status</th>\n",
       "      <th>Income_Category</th>\n",
       "      <th>Card_Category</th>\n",
       "      <th>Months_on_book</th>\n",
       "      <th>Total_Relationship_Count</th>\n",
       "      <th>Months_Inactive_12_mon</th>\n",
       "      <th>Contacts_Count_12_mon</th>\n",
       "      <th>Credit_Limit</th>\n",
       "      <th>Total_Revolving_Bal</th>\n",
       "      <th>Avg_Open_To_Buy</th>\n",
       "      <th>Total_Amt_Chng_Q4_Q1</th>\n",
       "      <th>Total_Trans_Amt</th>\n",
       "      <th>Total_Trans_Ct</th>\n",
       "      <th>Total_Ct_Chng_Q4_Q1</th>\n",
       "      <th>Avg_Utilization_Ratio</th>\n",
       "    </tr>\n",
       "  </thead>\n",
       "  <tbody>\n",
       "    <tr>\n",
       "      <th>0</th>\n",
       "      <td>0</td>\n",
       "      <td>45</td>\n",
       "      <td>M</td>\n",
       "      <td>3</td>\n",
       "      <td>High School</td>\n",
       "      <td>Married</td>\n",
       "      <td>$60K - $80K</td>\n",
       "      <td>Blue</td>\n",
       "      <td>39</td>\n",
       "      <td>5</td>\n",
       "      <td>1</td>\n",
       "      <td>3</td>\n",
       "      <td>12691.0</td>\n",
       "      <td>777</td>\n",
       "      <td>11914.0</td>\n",
       "      <td>1.335</td>\n",
       "      <td>1144</td>\n",
       "      <td>42</td>\n",
       "      <td>1.625</td>\n",
       "      <td>0.061</td>\n",
       "    </tr>\n",
       "    <tr>\n",
       "      <th>1</th>\n",
       "      <td>0</td>\n",
       "      <td>49</td>\n",
       "      <td>F</td>\n",
       "      <td>5</td>\n",
       "      <td>Graduate</td>\n",
       "      <td>Single</td>\n",
       "      <td>Less than $40K</td>\n",
       "      <td>Blue</td>\n",
       "      <td>44</td>\n",
       "      <td>6</td>\n",
       "      <td>1</td>\n",
       "      <td>2</td>\n",
       "      <td>8256.0</td>\n",
       "      <td>864</td>\n",
       "      <td>7392.0</td>\n",
       "      <td>1.541</td>\n",
       "      <td>1291</td>\n",
       "      <td>33</td>\n",
       "      <td>3.714</td>\n",
       "      <td>0.105</td>\n",
       "    </tr>\n",
       "    <tr>\n",
       "      <th>2</th>\n",
       "      <td>0</td>\n",
       "      <td>51</td>\n",
       "      <td>M</td>\n",
       "      <td>3</td>\n",
       "      <td>Graduate</td>\n",
       "      <td>Married</td>\n",
       "      <td>$80K - $120K</td>\n",
       "      <td>Blue</td>\n",
       "      <td>36</td>\n",
       "      <td>4</td>\n",
       "      <td>1</td>\n",
       "      <td>0</td>\n",
       "      <td>3418.0</td>\n",
       "      <td>0</td>\n",
       "      <td>3418.0</td>\n",
       "      <td>2.594</td>\n",
       "      <td>1887</td>\n",
       "      <td>20</td>\n",
       "      <td>2.333</td>\n",
       "      <td>0.000</td>\n",
       "    </tr>\n",
       "  </tbody>\n",
       "</table>\n",
       "</div>"
      ],
      "text/plain": [
       "   Attrition_Flag  Customer_Age Gender  Dependent_count Education_Level  \\\n",
       "0               0            45      M                3     High School   \n",
       "1               0            49      F                5        Graduate   \n",
       "2               0            51      M                3        Graduate   \n",
       "\n",
       "  Marital_Status Income_Category Card_Category  Months_on_book  \\\n",
       "0        Married     $60K - $80K          Blue              39   \n",
       "1         Single  Less than $40K          Blue              44   \n",
       "2        Married    $80K - $120K          Blue              36   \n",
       "\n",
       "   Total_Relationship_Count  Months_Inactive_12_mon  Contacts_Count_12_mon  \\\n",
       "0                         5                       1                      3   \n",
       "1                         6                       1                      2   \n",
       "2                         4                       1                      0   \n",
       "\n",
       "   Credit_Limit  Total_Revolving_Bal  Avg_Open_To_Buy  Total_Amt_Chng_Q4_Q1  \\\n",
       "0       12691.0                  777          11914.0                 1.335   \n",
       "1        8256.0                  864           7392.0                 1.541   \n",
       "2        3418.0                    0           3418.0                 2.594   \n",
       "\n",
       "   Total_Trans_Amt  Total_Trans_Ct  Total_Ct_Chng_Q4_Q1  Avg_Utilization_Ratio  \n",
       "0             1144              42                1.625                  0.061  \n",
       "1             1291              33                3.714                  0.105  \n",
       "2             1887              20                2.333                  0.000  "
      ]
     },
     "execution_count": 100,
     "metadata": {},
     "output_type": "execute_result"
    }
   ],
   "source": [
    "df.head(3)"
   ]
  },
  {
   "cell_type": "code",
   "execution_count": 101,
   "id": "6cc3ddf3",
   "metadata": {},
   "outputs": [
    {
     "data": {
      "text/html": [
       "<div>\n",
       "<style scoped>\n",
       "    .dataframe tbody tr th:only-of-type {\n",
       "        vertical-align: middle;\n",
       "    }\n",
       "\n",
       "    .dataframe tbody tr th {\n",
       "        vertical-align: top;\n",
       "    }\n",
       "\n",
       "    .dataframe thead th {\n",
       "        text-align: right;\n",
       "    }\n",
       "</style>\n",
       "<table border=\"1\" class=\"dataframe\">\n",
       "  <thead>\n",
       "    <tr style=\"text-align: right;\">\n",
       "      <th></th>\n",
       "      <th>Attrition_Flag</th>\n",
       "      <th>Customer_Age</th>\n",
       "      <th>Dependent_count</th>\n",
       "      <th>Months_on_book</th>\n",
       "      <th>Total_Relationship_Count</th>\n",
       "      <th>Months_Inactive_12_mon</th>\n",
       "      <th>Contacts_Count_12_mon</th>\n",
       "      <th>Credit_Limit</th>\n",
       "      <th>Total_Revolving_Bal</th>\n",
       "      <th>Avg_Open_To_Buy</th>\n",
       "      <th>Total_Amt_Chng_Q4_Q1</th>\n",
       "      <th>Total_Trans_Amt</th>\n",
       "      <th>Total_Trans_Ct</th>\n",
       "      <th>Total_Ct_Chng_Q4_Q1</th>\n",
       "      <th>Avg_Utilization_Ratio</th>\n",
       "    </tr>\n",
       "  </thead>\n",
       "  <tbody>\n",
       "    <tr>\n",
       "      <th>0</th>\n",
       "      <td>0</td>\n",
       "      <td>45</td>\n",
       "      <td>3</td>\n",
       "      <td>39</td>\n",
       "      <td>5</td>\n",
       "      <td>1</td>\n",
       "      <td>3</td>\n",
       "      <td>12691.0</td>\n",
       "      <td>777</td>\n",
       "      <td>11914.0</td>\n",
       "      <td>1.335</td>\n",
       "      <td>1144</td>\n",
       "      <td>42</td>\n",
       "      <td>1.625</td>\n",
       "      <td>0.061</td>\n",
       "    </tr>\n",
       "    <tr>\n",
       "      <th>1</th>\n",
       "      <td>0</td>\n",
       "      <td>49</td>\n",
       "      <td>5</td>\n",
       "      <td>44</td>\n",
       "      <td>6</td>\n",
       "      <td>1</td>\n",
       "      <td>2</td>\n",
       "      <td>8256.0</td>\n",
       "      <td>864</td>\n",
       "      <td>7392.0</td>\n",
       "      <td>1.541</td>\n",
       "      <td>1291</td>\n",
       "      <td>33</td>\n",
       "      <td>3.714</td>\n",
       "      <td>0.105</td>\n",
       "    </tr>\n",
       "  </tbody>\n",
       "</table>\n",
       "</div>"
      ],
      "text/plain": [
       "   Attrition_Flag  Customer_Age  Dependent_count  Months_on_book  \\\n",
       "0               0            45                3              39   \n",
       "1               0            49                5              44   \n",
       "\n",
       "   Total_Relationship_Count  Months_Inactive_12_mon  Contacts_Count_12_mon  \\\n",
       "0                         5                       1                      3   \n",
       "1                         6                       1                      2   \n",
       "\n",
       "   Credit_Limit  Total_Revolving_Bal  Avg_Open_To_Buy  Total_Amt_Chng_Q4_Q1  \\\n",
       "0       12691.0                  777          11914.0                 1.335   \n",
       "1        8256.0                  864           7392.0                 1.541   \n",
       "\n",
       "   Total_Trans_Amt  Total_Trans_Ct  Total_Ct_Chng_Q4_Q1  Avg_Utilization_Ratio  \n",
       "0             1144              42                1.625                  0.061  \n",
       "1             1291              33                3.714                  0.105  "
      ]
     },
     "execution_count": 101,
     "metadata": {},
     "output_type": "execute_result"
    }
   ],
   "source": [
    "#Separate numerical features from the dataset\n",
    "dfn=df.select_dtypes(exclude=[object])\n",
    "dfn.head(2)"
   ]
  },
  {
   "cell_type": "code",
   "execution_count": 102,
   "id": "792b6444",
   "metadata": {},
   "outputs": [
    {
     "data": {
      "text/html": [
       "<div>\n",
       "<style scoped>\n",
       "    .dataframe tbody tr th:only-of-type {\n",
       "        vertical-align: middle;\n",
       "    }\n",
       "\n",
       "    .dataframe tbody tr th {\n",
       "        vertical-align: top;\n",
       "    }\n",
       "\n",
       "    .dataframe thead th {\n",
       "        text-align: right;\n",
       "    }\n",
       "</style>\n",
       "<table border=\"1\" class=\"dataframe\">\n",
       "  <thead>\n",
       "    <tr style=\"text-align: right;\">\n",
       "      <th></th>\n",
       "      <th>Avg_Open_To_Buy</th>\n",
       "      <th>Avg_Utilization_Ratio</th>\n",
       "      <th>Contacts_Count_12_mon</th>\n",
       "      <th>Credit_Limit</th>\n",
       "      <th>Customer_Age</th>\n",
       "      <th>Dependent_count</th>\n",
       "      <th>Months_Inactive_12_mon</th>\n",
       "      <th>Months_on_book</th>\n",
       "      <th>Total_Amt_Chng_Q4_Q1</th>\n",
       "      <th>Total_Ct_Chng_Q4_Q1</th>\n",
       "      <th>Total_Relationship_Count</th>\n",
       "      <th>Total_Revolving_Bal</th>\n",
       "      <th>Total_Trans_Amt</th>\n",
       "      <th>Total_Trans_Ct</th>\n",
       "    </tr>\n",
       "    <tr>\n",
       "      <th>Attrition_Flag</th>\n",
       "      <th></th>\n",
       "      <th></th>\n",
       "      <th></th>\n",
       "      <th></th>\n",
       "      <th></th>\n",
       "      <th></th>\n",
       "      <th></th>\n",
       "      <th></th>\n",
       "      <th></th>\n",
       "      <th></th>\n",
       "      <th></th>\n",
       "      <th></th>\n",
       "      <th></th>\n",
       "      <th></th>\n",
       "    </tr>\n",
       "  </thead>\n",
       "  <tbody>\n",
       "    <tr>\n",
       "      <th>0</th>\n",
       "      <td>3469.5</td>\n",
       "      <td>0.211</td>\n",
       "      <td>2</td>\n",
       "      <td>4643.5</td>\n",
       "      <td>46</td>\n",
       "      <td>2</td>\n",
       "      <td>2</td>\n",
       "      <td>36</td>\n",
       "      <td>0.743</td>\n",
       "      <td>0.721</td>\n",
       "      <td>4</td>\n",
       "      <td>1364</td>\n",
       "      <td>4100</td>\n",
       "      <td>71</td>\n",
       "    </tr>\n",
       "    <tr>\n",
       "      <th>1</th>\n",
       "      <td>3488.0</td>\n",
       "      <td>0.000</td>\n",
       "      <td>3</td>\n",
       "      <td>4178.0</td>\n",
       "      <td>47</td>\n",
       "      <td>2</td>\n",
       "      <td>3</td>\n",
       "      <td>36</td>\n",
       "      <td>0.701</td>\n",
       "      <td>0.531</td>\n",
       "      <td>3</td>\n",
       "      <td>0</td>\n",
       "      <td>2329</td>\n",
       "      <td>43</td>\n",
       "    </tr>\n",
       "  </tbody>\n",
       "</table>\n",
       "</div>"
      ],
      "text/plain": [
       "                Avg_Open_To_Buy  Avg_Utilization_Ratio  Contacts_Count_12_mon  \\\n",
       "Attrition_Flag                                                                  \n",
       "0                        3469.5                  0.211                      2   \n",
       "1                        3488.0                  0.000                      3   \n",
       "\n",
       "                Credit_Limit  Customer_Age  Dependent_count  \\\n",
       "Attrition_Flag                                                \n",
       "0                     4643.5            46                2   \n",
       "1                     4178.0            47                2   \n",
       "\n",
       "                Months_Inactive_12_mon  Months_on_book  Total_Amt_Chng_Q4_Q1  \\\n",
       "Attrition_Flag                                                                 \n",
       "0                                    2              36                 0.743   \n",
       "1                                    3              36                 0.701   \n",
       "\n",
       "                Total_Ct_Chng_Q4_Q1  Total_Relationship_Count  \\\n",
       "Attrition_Flag                                                  \n",
       "0                             0.721                         4   \n",
       "1                             0.531                         3   \n",
       "\n",
       "                Total_Revolving_Bal  Total_Trans_Amt  Total_Trans_Ct  \n",
       "Attrition_Flag                                                        \n",
       "0                              1364             4100              71  \n",
       "1                                 0             2329              43  "
      ]
     },
     "execution_count": 102,
     "metadata": {},
     "output_type": "execute_result"
    }
   ],
   "source": [
    "#Creating pivot table to investigate the numerical categories further\n",
    "pivot_num = dfn.pivot_table(index='Attrition_Flag', aggfunc='median')\n",
    "pivot_num"
   ]
  },
  {
   "cell_type": "markdown",
   "id": "1d8bc2a6",
   "metadata": {},
   "source": [
    "The pivot table shows comparison between Attrited and Existing customer based on Credit_Limit, Avg_Open_To_Buy, Total_Amt_Chng_Q4_Q1, Total_Ct_Chng_Q4_Q1 and Avg_Utilization_Ratio. There is no much difference between two groups corresponding to median. "
   ]
  },
  {
   "cell_type": "code",
   "execution_count": 103,
   "id": "665c6341",
   "metadata": {},
   "outputs": [
    {
     "data": {
      "image/png": "[encoded data removed]",
      "text/plain": [
       "<Figure size 1296x720 with 9 Axes>"
      ]
     },
     "metadata": {
      "needs_background": "light"
     },
     "output_type": "display_data"
    }
   ],
   "source": [
    "#Checking the distribution \n",
    "fig, axes = plt.subplots(3, 3, figsize=(18,10))\n",
    "fig.suptitle('Distribution Summary for Numerical Data', size = 26)\n",
    "sns.histplot(dfn['Avg_Open_To_Buy'],ax=axes[0,0], color='red')\n",
    "sns.histplot(dfn['Avg_Utilization_Ratio'],ax=axes[0,1], color='red')\n",
    "sns.histplot(dfn['Total_Amt_Chng_Q4_Q1'],ax=axes[0,2], color ='red')\n",
    "sns.histplot(dfn['Total_Ct_Chng_Q4_Q1'], ax=axes[1,0], color='blue')\n",
    "sns.histplot(dfn['Total_Trans_Amt'],ax=axes[1,1], color='blue' )\n",
    "sns.histplot(dfn['Total_Trans_Ct'],ax=axes[1,2], color ='blue')\n",
    "sns.histplot(dfn['Total_Revolving_Bal'],ax=axes[2,0], color ='yellow')\n",
    "sns.histplot(dfn['Months_on_book'],ax=axes[2,1], color ='yellow')\n",
    "sns.histplot(dfn['Credit_Limit'],ax=axes[2,2], color ='yellow')\n",
    "\n",
    "plt.savefig('num.tiff')"
   ]
  },
  {
   "cell_type": "markdown",
   "id": "6412d8ea",
   "metadata": {},
   "source": [
    "Most of the variables are not evenly distributed e.g Avg_Open_To_Buy, Avg_Utilization_Ratio and Credit_Limit are skewed to the left.\n",
    "\n",
    "Outliers are detected in some variable such as Credit_limit where some customers limit reaches $35.000\n",
    "\n",
    "More than 2000 customers have zero credit balance and >2500 customer have not used their credit card (Avg_Utilization_Ratio = 0).\n",
    "\n",
    "The change in transaction amount is normally distributed with mean 0.7\n",
    "\n",
    "The total transaction amount in the last 12 months is greatly varied. Most customers have made a total of 40-80 transactions in the past 12 months.\n",
    "\n",
    "The change in the number of transactions is relatively stable through out quarters (0 to 1.5)"
   ]
  },
  {
   "cell_type": "code",
   "execution_count": 104,
   "id": "0f5a6a51",
   "metadata": {},
   "outputs": [
    {
     "data": {
      "image/png": "[encoded data removed]",
      "text/plain": [
       "<Figure size 1296x720 with 4 Axes>"
      ]
     },
     "metadata": {
      "needs_background": "light"
     },
     "output_type": "display_data"
    }
   ],
   "source": [
    "fig, axes = plt.subplots(2, 2, figsize=(18,10))\n",
    "fig.suptitle('Countplot for Numerical Variable', size = 26)\n",
    "sns.countplot(ax=axes[0,0], x=df['Dependent_count'], data = df)\n",
    "sns.countplot(ax=axes[0,1], x=df['Total_Relationship_Count'],data = df)\n",
    "sns.countplot(ax=axes[1,0], x=df['Months_Inactive_12_mon'],data = df)\n",
    "sns.countplot(ax=axes[1,1], x=df['Contacts_Count_12_mon'],data = df)\n",
    "\n",
    "plt.savefig('num1.tiff')\n"
   ]
  },
  {
   "cell_type": "code",
   "execution_count": 105,
   "id": "570a2af1",
   "metadata": {},
   "outputs": [
    {
     "data": {
      "image/png": "[encoded data removed]",
      "text/plain": [
       "<Figure size 432x288 with 1 Axes>"
      ]
     },
     "metadata": {
      "needs_background": "light"
     },
     "output_type": "display_data"
    }
   ],
   "source": [
    "sns.countplot(x=dfn['Customer_Age'], data = df, color = 'blue')\n",
    "#age is normally distributed \n",
    "plt.savefig('num2.tiff')"
   ]
  },
  {
   "cell_type": "markdown",
   "id": "631a2dda",
   "metadata": {},
   "source": [
    "Points taken :\n",
    "\n",
    "The majority of the customers have either 2 or 3 dependents.\n",
    "\n",
    "Most customers have exactly 36-months before they terminate their account (outlier) \n",
    "\n",
    "Majority of the customers use 3 or more bank service\n",
    "\n",
    "Most of the customers have been inactive for 3 months or less in the past 12 months.\n",
    "\n",
    "Most of the customers are contacted for 3 times or less in the past 12 months"
   ]
  },
  {
   "cell_type": "markdown",
   "id": "15dfd6ce",
   "metadata": {},
   "source": [
    "# DATA PREPROCESSING"
   ]
  },
  {
   "cell_type": "code",
   "execution_count": 106,
   "id": "c60d52c5",
   "metadata": {},
   "outputs": [
    {
     "data": {
      "text/html": [
       "<div>\n",
       "<style scoped>\n",
       "    .dataframe tbody tr th:only-of-type {\n",
       "        vertical-align: middle;\n",
       "    }\n",
       "\n",
       "    .dataframe tbody tr th {\n",
       "        vertical-align: top;\n",
       "    }\n",
       "\n",
       "    .dataframe thead th {\n",
       "        text-align: right;\n",
       "    }\n",
       "</style>\n",
       "<table border=\"1\" class=\"dataframe\">\n",
       "  <thead>\n",
       "    <tr style=\"text-align: right;\">\n",
       "      <th></th>\n",
       "      <th>Attrition_Flag</th>\n",
       "      <th>Customer_Age</th>\n",
       "      <th>Gender</th>\n",
       "      <th>Dependent_count</th>\n",
       "      <th>Education_Level</th>\n",
       "      <th>Marital_Status</th>\n",
       "      <th>Income_Category</th>\n",
       "      <th>Card_Category</th>\n",
       "      <th>Months_on_book</th>\n",
       "      <th>Total_Relationship_Count</th>\n",
       "      <th>Months_Inactive_12_mon</th>\n",
       "      <th>Contacts_Count_12_mon</th>\n",
       "      <th>Credit_Limit</th>\n",
       "      <th>Total_Revolving_Bal</th>\n",
       "      <th>Avg_Open_To_Buy</th>\n",
       "      <th>Total_Amt_Chng_Q4_Q1</th>\n",
       "      <th>Total_Trans_Amt</th>\n",
       "      <th>Total_Trans_Ct</th>\n",
       "      <th>Total_Ct_Chng_Q4_Q1</th>\n",
       "      <th>Avg_Utilization_Ratio</th>\n",
       "    </tr>\n",
       "  </thead>\n",
       "  <tbody>\n",
       "  </tbody>\n",
       "</table>\n",
       "</div>"
      ],
      "text/plain": [
       "Empty DataFrame\n",
       "Columns: [Attrition_Flag, Customer_Age, Gender, Dependent_count, Education_Level, Marital_Status, Income_Category, Card_Category, Months_on_book, Total_Relationship_Count, Months_Inactive_12_mon, Contacts_Count_12_mon, Credit_Limit, Total_Revolving_Bal, Avg_Open_To_Buy, Total_Amt_Chng_Q4_Q1, Total_Trans_Amt, Total_Trans_Ct, Total_Ct_Chng_Q4_Q1, Avg_Utilization_Ratio]\n",
       "Index: []"
      ]
     },
     "execution_count": 106,
     "metadata": {},
     "output_type": "execute_result"
    }
   ],
   "source": [
    "#Duplicates\n",
    "df[df.duplicated(keep=False)]\n",
    "#No duplicates"
   ]
  },
  {
   "cell_type": "code",
   "execution_count": 107,
   "id": "59859593",
   "metadata": {},
   "outputs": [
    {
     "data": {
      "text/html": [
       "<div>\n",
       "<style scoped>\n",
       "    .dataframe tbody tr th:only-of-type {\n",
       "        vertical-align: middle;\n",
       "    }\n",
       "\n",
       "    .dataframe tbody tr th {\n",
       "        vertical-align: top;\n",
       "    }\n",
       "\n",
       "    .dataframe thead th {\n",
       "        text-align: right;\n",
       "    }\n",
       "</style>\n",
       "<table border=\"1\" class=\"dataframe\">\n",
       "  <thead>\n",
       "    <tr style=\"text-align: right;\">\n",
       "      <th></th>\n",
       "      <th>Attrition_Flag</th>\n",
       "      <th>Customer_Age</th>\n",
       "      <th>Gender</th>\n",
       "      <th>Dependent_count</th>\n",
       "      <th>Education_Level</th>\n",
       "      <th>Marital_Status</th>\n",
       "      <th>Income_Category</th>\n",
       "      <th>Card_Category</th>\n",
       "      <th>Months_on_book</th>\n",
       "      <th>Total_Relationship_Count</th>\n",
       "      <th>Months_Inactive_12_mon</th>\n",
       "      <th>Contacts_Count_12_mon</th>\n",
       "      <th>Credit_Limit</th>\n",
       "      <th>Total_Revolving_Bal</th>\n",
       "      <th>Avg_Open_To_Buy</th>\n",
       "      <th>Total_Amt_Chng_Q4_Q1</th>\n",
       "      <th>Total_Trans_Amt</th>\n",
       "      <th>Total_Trans_Ct</th>\n",
       "      <th>Total_Ct_Chng_Q4_Q1</th>\n",
       "      <th>Avg_Utilization_Ratio</th>\n",
       "    </tr>\n",
       "  </thead>\n",
       "  <tbody>\n",
       "  </tbody>\n",
       "</table>\n",
       "</div>"
      ],
      "text/plain": [
       "Empty DataFrame\n",
       "Columns: [Attrition_Flag, Customer_Age, Gender, Dependent_count, Education_Level, Marital_Status, Income_Category, Card_Category, Months_on_book, Total_Relationship_Count, Months_Inactive_12_mon, Contacts_Count_12_mon, Credit_Limit, Total_Revolving_Bal, Avg_Open_To_Buy, Total_Amt_Chng_Q4_Q1, Total_Trans_Amt, Total_Trans_Ct, Total_Ct_Chng_Q4_Q1, Avg_Utilization_Ratio]\n",
       "Index: []"
      ]
     },
     "execution_count": 107,
     "metadata": {},
     "output_type": "execute_result"
    }
   ],
   "source": [
    "#Missing value\n",
    "df[df.isnull().any(axis = 1)]\n",
    "#No missing values"
   ]
  },
  {
   "cell_type": "code",
   "execution_count": 108,
   "id": "51c0d50e",
   "metadata": {},
   "outputs": [
    {
     "data": {
      "text/plain": [
       "array([1, 0])"
      ]
     },
     "execution_count": 108,
     "metadata": {},
     "output_type": "execute_result"
    }
   ],
   "source": [
    "# Change 'Gender' into numerical value M = 1 F = 0\n",
    "# Import label encoder\n",
    "from sklearn import preprocessing\n",
    " \n",
    "# label_encoder object knows how to understand word labels.\n",
    "label_encoder = preprocessing.LabelEncoder()\n",
    " \n",
    "# Encode labels in column 'diagnosis'.\n",
    "df['Gender']= label_encoder.fit_transform(df['Gender'])\n",
    " \n",
    "df['Gender'].unique()"
   ]
  },
  {
   "cell_type": "code",
   "execution_count": 109,
   "id": "79e080f7",
   "metadata": {},
   "outputs": [
    {
     "data": {
      "text/html": [
       "<div>\n",
       "<style scoped>\n",
       "    .dataframe tbody tr th:only-of-type {\n",
       "        vertical-align: middle;\n",
       "    }\n",
       "\n",
       "    .dataframe tbody tr th {\n",
       "        vertical-align: top;\n",
       "    }\n",
       "\n",
       "    .dataframe thead th {\n",
       "        text-align: right;\n",
       "    }\n",
       "</style>\n",
       "<table border=\"1\" class=\"dataframe\">\n",
       "  <thead>\n",
       "    <tr style=\"text-align: right;\">\n",
       "      <th></th>\n",
       "      <th>Attrition_Flag</th>\n",
       "      <th>Customer_Age</th>\n",
       "      <th>Gender</th>\n",
       "      <th>Dependent_count</th>\n",
       "      <th>Education_Level</th>\n",
       "      <th>Marital_Status</th>\n",
       "      <th>Income_Category</th>\n",
       "      <th>Card_Category</th>\n",
       "      <th>Months_on_book</th>\n",
       "      <th>Total_Relationship_Count</th>\n",
       "      <th>Months_Inactive_12_mon</th>\n",
       "      <th>Contacts_Count_12_mon</th>\n",
       "      <th>Credit_Limit</th>\n",
       "      <th>Total_Revolving_Bal</th>\n",
       "      <th>Avg_Open_To_Buy</th>\n",
       "      <th>Total_Amt_Chng_Q4_Q1</th>\n",
       "      <th>Total_Trans_Amt</th>\n",
       "      <th>Total_Trans_Ct</th>\n",
       "      <th>Total_Ct_Chng_Q4_Q1</th>\n",
       "      <th>Avg_Utilization_Ratio</th>\n",
       "    </tr>\n",
       "  </thead>\n",
       "  <tbody>\n",
       "    <tr>\n",
       "      <th>0</th>\n",
       "      <td>0</td>\n",
       "      <td>45</td>\n",
       "      <td>1</td>\n",
       "      <td>3</td>\n",
       "      <td>High School</td>\n",
       "      <td>Married</td>\n",
       "      <td>$60K - $80K</td>\n",
       "      <td>Blue</td>\n",
       "      <td>39</td>\n",
       "      <td>5</td>\n",
       "      <td>1</td>\n",
       "      <td>3</td>\n",
       "      <td>12691.0</td>\n",
       "      <td>777</td>\n",
       "      <td>11914.0</td>\n",
       "      <td>1.335</td>\n",
       "      <td>1144</td>\n",
       "      <td>42</td>\n",
       "      <td>1.625</td>\n",
       "      <td>0.061</td>\n",
       "    </tr>\n",
       "    <tr>\n",
       "      <th>1</th>\n",
       "      <td>0</td>\n",
       "      <td>49</td>\n",
       "      <td>0</td>\n",
       "      <td>5</td>\n",
       "      <td>Graduate</td>\n",
       "      <td>Single</td>\n",
       "      <td>Less than $40K</td>\n",
       "      <td>Blue</td>\n",
       "      <td>44</td>\n",
       "      <td>6</td>\n",
       "      <td>1</td>\n",
       "      <td>2</td>\n",
       "      <td>8256.0</td>\n",
       "      <td>864</td>\n",
       "      <td>7392.0</td>\n",
       "      <td>1.541</td>\n",
       "      <td>1291</td>\n",
       "      <td>33</td>\n",
       "      <td>3.714</td>\n",
       "      <td>0.105</td>\n",
       "    </tr>\n",
       "  </tbody>\n",
       "</table>\n",
       "</div>"
      ],
      "text/plain": [
       "   Attrition_Flag  Customer_Age  Gender  Dependent_count Education_Level  \\\n",
       "0               0            45       1                3     High School   \n",
       "1               0            49       0                5        Graduate   \n",
       "\n",
       "  Marital_Status Income_Category Card_Category  Months_on_book  \\\n",
       "0        Married     $60K - $80K          Blue              39   \n",
       "1         Single  Less than $40K          Blue              44   \n",
       "\n",
       "   Total_Relationship_Count  Months_Inactive_12_mon  Contacts_Count_12_mon  \\\n",
       "0                         5                       1                      3   \n",
       "1                         6                       1                      2   \n",
       "\n",
       "   Credit_Limit  Total_Revolving_Bal  Avg_Open_To_Buy  Total_Amt_Chng_Q4_Q1  \\\n",
       "0       12691.0                  777          11914.0                 1.335   \n",
       "1        8256.0                  864           7392.0                 1.541   \n",
       "\n",
       "   Total_Trans_Amt  Total_Trans_Ct  Total_Ct_Chng_Q4_Q1  Avg_Utilization_Ratio  \n",
       "0             1144              42                1.625                  0.061  \n",
       "1             1291              33                3.714                  0.105  "
      ]
     },
     "execution_count": 109,
     "metadata": {},
     "output_type": "execute_result"
    }
   ],
   "source": [
    "df.head(2)"
   ]
  },
  {
   "cell_type": "code",
   "execution_count": 110,
   "id": "ca53c78a",
   "metadata": {},
   "outputs": [
    {
     "data": {
      "text/plain": [
       "0    Graduate\n",
       "dtype: object"
      ]
     },
     "execution_count": 110,
     "metadata": {},
     "output_type": "execute_result"
    }
   ],
   "source": [
    "#Dealing with 'Unknown' value \n",
    "#Filling 'Unknown\" value with mode for ordinal variable\n",
    "df[\"Education_Level\"].mode()"
   ]
  },
  {
   "cell_type": "code",
   "execution_count": 111,
   "id": "04fdca4f",
   "metadata": {},
   "outputs": [
    {
     "data": {
      "text/plain": [
       "0    Less than $40K\n",
       "dtype: object"
      ]
     },
     "execution_count": 111,
     "metadata": {},
     "output_type": "execute_result"
    }
   ],
   "source": [
    "df[\"Income_Category\"].mode()"
   ]
  },
  {
   "cell_type": "code",
   "execution_count": 112,
   "id": "d91856af",
   "metadata": {},
   "outputs": [],
   "source": [
    "df = df.replace(\"Unknown\", np.NaN)\n",
    "df[\"Education_Level\"]= df[\"Education_Level\"].fillna(\"Graduate\")\n",
    "df[\"Income_Category\"]= df[\"Income_Category\"].fillna(\"Less than $40K\")"
   ]
  },
  {
   "cell_type": "code",
   "execution_count": 113,
   "id": "26e5471b",
   "metadata": {},
   "outputs": [
    {
     "data": {
      "text/plain": [
       "Attrition_Flag                0\n",
       "Customer_Age                  0\n",
       "Gender                        0\n",
       "Dependent_count               0\n",
       "Education_Level               0\n",
       "Marital_Status              749\n",
       "Income_Category               0\n",
       "Card_Category                 0\n",
       "Months_on_book                0\n",
       "Total_Relationship_Count      0\n",
       "Months_Inactive_12_mon        0\n",
       "Contacts_Count_12_mon         0\n",
       "Credit_Limit                  0\n",
       "Total_Revolving_Bal           0\n",
       "Avg_Open_To_Buy               0\n",
       "Total_Amt_Chng_Q4_Q1          0\n",
       "Total_Trans_Amt               0\n",
       "Total_Trans_Ct                0\n",
       "Total_Ct_Chng_Q4_Q1           0\n",
       "Avg_Utilization_Ratio         0\n",
       "dtype: int64"
      ]
     },
     "execution_count": 113,
     "metadata": {},
     "output_type": "execute_result"
    }
   ],
   "source": [
    "df.isna().sum()"
   ]
  },
  {
   "cell_type": "code",
   "execution_count": 114,
   "id": "828b47d8",
   "metadata": {},
   "outputs": [
    {
     "data": {
      "text/plain": [
       "array(['$60K - $80K', 'Less than $40K', '$80K - $120K', '$40K - $60K',\n",
       "       '$120K +'], dtype=object)"
      ]
     },
     "execution_count": 114,
     "metadata": {},
     "output_type": "execute_result"
    }
   ],
   "source": [
    "df['Income_Category'].unique()"
   ]
  },
  {
   "cell_type": "code",
   "execution_count": 115,
   "id": "1a2cc0c9",
   "metadata": {},
   "outputs": [],
   "source": [
    "edu_order = [\n",
    "    'Uneducated', \n",
    "    'High School', \n",
    "    'College',\n",
    "    'Graduate', \n",
    "    'Post-Graduate', \n",
    "    'Doctorate'    \n",
    "]\n",
    "income_order=[\n",
    "    'Less than $40K',\n",
    "    '$40K - $60K',\n",
    "    '$60K - $80K', \n",
    "    '$80K - $120K', \n",
    "    '$120K +'\n",
    "]"
   ]
  },
  {
   "cell_type": "code",
   "execution_count": 116,
   "id": "a7063dc0",
   "metadata": {},
   "outputs": [],
   "source": [
    "def ordinal_encode(df, column, ordering):\n",
    "    df[column] = df[column].apply(lambda x : ordering.index(x))\n",
    "    return df"
   ]
  },
  {
   "cell_type": "code",
   "execution_count": 117,
   "id": "c24b191b",
   "metadata": {},
   "outputs": [],
   "source": [
    "df=ordinal_encode(df, \"Education_Level\", ordering = edu_order)\n",
    "df=ordinal_encode(df, \"Income_Category\", ordering = income_order)"
   ]
  },
  {
   "cell_type": "code",
   "execution_count": 118,
   "id": "36dd68d6",
   "metadata": {
    "scrolled": true
   },
   "outputs": [
    {
     "data": {
      "text/html": [
       "<div>\n",
       "<style scoped>\n",
       "    .dataframe tbody tr th:only-of-type {\n",
       "        vertical-align: middle;\n",
       "    }\n",
       "\n",
       "    .dataframe tbody tr th {\n",
       "        vertical-align: top;\n",
       "    }\n",
       "\n",
       "    .dataframe thead th {\n",
       "        text-align: right;\n",
       "    }\n",
       "</style>\n",
       "<table border=\"1\" class=\"dataframe\">\n",
       "  <thead>\n",
       "    <tr style=\"text-align: right;\">\n",
       "      <th></th>\n",
       "      <th>Attrition_Flag</th>\n",
       "      <th>Customer_Age</th>\n",
       "      <th>Gender</th>\n",
       "      <th>Dependent_count</th>\n",
       "      <th>Education_Level</th>\n",
       "      <th>Marital_Status</th>\n",
       "      <th>Income_Category</th>\n",
       "      <th>Card_Category</th>\n",
       "      <th>Months_on_book</th>\n",
       "      <th>Total_Relationship_Count</th>\n",
       "      <th>Months_Inactive_12_mon</th>\n",
       "      <th>Contacts_Count_12_mon</th>\n",
       "      <th>Credit_Limit</th>\n",
       "      <th>Total_Revolving_Bal</th>\n",
       "      <th>Avg_Open_To_Buy</th>\n",
       "      <th>Total_Amt_Chng_Q4_Q1</th>\n",
       "      <th>Total_Trans_Amt</th>\n",
       "      <th>Total_Trans_Ct</th>\n",
       "      <th>Total_Ct_Chng_Q4_Q1</th>\n",
       "      <th>Avg_Utilization_Ratio</th>\n",
       "    </tr>\n",
       "  </thead>\n",
       "  <tbody>\n",
       "    <tr>\n",
       "      <th>0</th>\n",
       "      <td>0</td>\n",
       "      <td>45</td>\n",
       "      <td>1</td>\n",
       "      <td>3</td>\n",
       "      <td>1</td>\n",
       "      <td>Married</td>\n",
       "      <td>2</td>\n",
       "      <td>Blue</td>\n",
       "      <td>39</td>\n",
       "      <td>5</td>\n",
       "      <td>1</td>\n",
       "      <td>3</td>\n",
       "      <td>12691.0</td>\n",
       "      <td>777</td>\n",
       "      <td>11914.0</td>\n",
       "      <td>1.335</td>\n",
       "      <td>1144</td>\n",
       "      <td>42</td>\n",
       "      <td>1.625</td>\n",
       "      <td>0.061</td>\n",
       "    </tr>\n",
       "    <tr>\n",
       "      <th>1</th>\n",
       "      <td>0</td>\n",
       "      <td>49</td>\n",
       "      <td>0</td>\n",
       "      <td>5</td>\n",
       "      <td>3</td>\n",
       "      <td>Single</td>\n",
       "      <td>0</td>\n",
       "      <td>Blue</td>\n",
       "      <td>44</td>\n",
       "      <td>6</td>\n",
       "      <td>1</td>\n",
       "      <td>2</td>\n",
       "      <td>8256.0</td>\n",
       "      <td>864</td>\n",
       "      <td>7392.0</td>\n",
       "      <td>1.541</td>\n",
       "      <td>1291</td>\n",
       "      <td>33</td>\n",
       "      <td>3.714</td>\n",
       "      <td>0.105</td>\n",
       "    </tr>\n",
       "    <tr>\n",
       "      <th>2</th>\n",
       "      <td>0</td>\n",
       "      <td>51</td>\n",
       "      <td>1</td>\n",
       "      <td>3</td>\n",
       "      <td>3</td>\n",
       "      <td>Married</td>\n",
       "      <td>3</td>\n",
       "      <td>Blue</td>\n",
       "      <td>36</td>\n",
       "      <td>4</td>\n",
       "      <td>1</td>\n",
       "      <td>0</td>\n",
       "      <td>3418.0</td>\n",
       "      <td>0</td>\n",
       "      <td>3418.0</td>\n",
       "      <td>2.594</td>\n",
       "      <td>1887</td>\n",
       "      <td>20</td>\n",
       "      <td>2.333</td>\n",
       "      <td>0.000</td>\n",
       "    </tr>\n",
       "  </tbody>\n",
       "</table>\n",
       "</div>"
      ],
      "text/plain": [
       "   Attrition_Flag  Customer_Age  Gender  Dependent_count  Education_Level  \\\n",
       "0               0            45       1                3                1   \n",
       "1               0            49       0                5                3   \n",
       "2               0            51       1                3                3   \n",
       "\n",
       "  Marital_Status  Income_Category Card_Category  Months_on_book  \\\n",
       "0        Married                2          Blue              39   \n",
       "1         Single                0          Blue              44   \n",
       "2        Married                3          Blue              36   \n",
       "\n",
       "   Total_Relationship_Count  Months_Inactive_12_mon  Contacts_Count_12_mon  \\\n",
       "0                         5                       1                      3   \n",
       "1                         6                       1                      2   \n",
       "2                         4                       1                      0   \n",
       "\n",
       "   Credit_Limit  Total_Revolving_Bal  Avg_Open_To_Buy  Total_Amt_Chng_Q4_Q1  \\\n",
       "0       12691.0                  777          11914.0                 1.335   \n",
       "1        8256.0                  864           7392.0                 1.541   \n",
       "2        3418.0                    0           3418.0                 2.594   \n",
       "\n",
       "   Total_Trans_Amt  Total_Trans_Ct  Total_Ct_Chng_Q4_Q1  Avg_Utilization_Ratio  \n",
       "0             1144              42                1.625                  0.061  \n",
       "1             1291              33                3.714                  0.105  \n",
       "2             1887              20                2.333                  0.000  "
      ]
     },
     "execution_count": 118,
     "metadata": {},
     "output_type": "execute_result"
    }
   ],
   "source": [
    "df.head(3)"
   ]
  },
  {
   "cell_type": "code",
   "execution_count": 119,
   "id": "95e340fd",
   "metadata": {},
   "outputs": [
    {
     "data": {
      "text/html": [
       "<div>\n",
       "<style scoped>\n",
       "    .dataframe tbody tr th:only-of-type {\n",
       "        vertical-align: middle;\n",
       "    }\n",
       "\n",
       "    .dataframe tbody tr th {\n",
       "        vertical-align: top;\n",
       "    }\n",
       "\n",
       "    .dataframe thead th {\n",
       "        text-align: right;\n",
       "    }\n",
       "</style>\n",
       "<table border=\"1\" class=\"dataframe\">\n",
       "  <thead>\n",
       "    <tr style=\"text-align: right;\">\n",
       "      <th></th>\n",
       "      <th>Attrition_Flag</th>\n",
       "      <th>Customer_Age</th>\n",
       "      <th>Gender</th>\n",
       "      <th>Dependent_count</th>\n",
       "      <th>Education_Level</th>\n",
       "      <th>Income_Category</th>\n",
       "      <th>Months_on_book</th>\n",
       "      <th>Total_Relationship_Count</th>\n",
       "      <th>Months_Inactive_12_mon</th>\n",
       "      <th>Contacts_Count_12_mon</th>\n",
       "      <th>...</th>\n",
       "      <th>Total_Trans_Ct</th>\n",
       "      <th>Total_Ct_Chng_Q4_Q1</th>\n",
       "      <th>Avg_Utilization_Ratio</th>\n",
       "      <th>Marital_Status_Divorced</th>\n",
       "      <th>Marital_Status_Married</th>\n",
       "      <th>Marital_Status_Single</th>\n",
       "      <th>Card_Category_Blue</th>\n",
       "      <th>Card_Category_Gold</th>\n",
       "      <th>Card_Category_Platinum</th>\n",
       "      <th>Card_Category_Silver</th>\n",
       "    </tr>\n",
       "  </thead>\n",
       "  <tbody>\n",
       "    <tr>\n",
       "      <th>0</th>\n",
       "      <td>0</td>\n",
       "      <td>45</td>\n",
       "      <td>1</td>\n",
       "      <td>3</td>\n",
       "      <td>1</td>\n",
       "      <td>2</td>\n",
       "      <td>39</td>\n",
       "      <td>5</td>\n",
       "      <td>1</td>\n",
       "      <td>3</td>\n",
       "      <td>...</td>\n",
       "      <td>42</td>\n",
       "      <td>1.625</td>\n",
       "      <td>0.061</td>\n",
       "      <td>0</td>\n",
       "      <td>1</td>\n",
       "      <td>0</td>\n",
       "      <td>1</td>\n",
       "      <td>0</td>\n",
       "      <td>0</td>\n",
       "      <td>0</td>\n",
       "    </tr>\n",
       "    <tr>\n",
       "      <th>1</th>\n",
       "      <td>0</td>\n",
       "      <td>49</td>\n",
       "      <td>0</td>\n",
       "      <td>5</td>\n",
       "      <td>3</td>\n",
       "      <td>0</td>\n",
       "      <td>44</td>\n",
       "      <td>6</td>\n",
       "      <td>1</td>\n",
       "      <td>2</td>\n",
       "      <td>...</td>\n",
       "      <td>33</td>\n",
       "      <td>3.714</td>\n",
       "      <td>0.105</td>\n",
       "      <td>0</td>\n",
       "      <td>0</td>\n",
       "      <td>1</td>\n",
       "      <td>1</td>\n",
       "      <td>0</td>\n",
       "      <td>0</td>\n",
       "      <td>0</td>\n",
       "    </tr>\n",
       "    <tr>\n",
       "      <th>2</th>\n",
       "      <td>0</td>\n",
       "      <td>51</td>\n",
       "      <td>1</td>\n",
       "      <td>3</td>\n",
       "      <td>3</td>\n",
       "      <td>3</td>\n",
       "      <td>36</td>\n",
       "      <td>4</td>\n",
       "      <td>1</td>\n",
       "      <td>0</td>\n",
       "      <td>...</td>\n",
       "      <td>20</td>\n",
       "      <td>2.333</td>\n",
       "      <td>0.000</td>\n",
       "      <td>0</td>\n",
       "      <td>1</td>\n",
       "      <td>0</td>\n",
       "      <td>1</td>\n",
       "      <td>0</td>\n",
       "      <td>0</td>\n",
       "      <td>0</td>\n",
       "    </tr>\n",
       "  </tbody>\n",
       "</table>\n",
       "<p>3 rows × 25 columns</p>\n",
       "</div>"
      ],
      "text/plain": [
       "   Attrition_Flag  Customer_Age  Gender  Dependent_count  Education_Level  \\\n",
       "0               0            45       1                3                1   \n",
       "1               0            49       0                5                3   \n",
       "2               0            51       1                3                3   \n",
       "\n",
       "   Income_Category  Months_on_book  Total_Relationship_Count  \\\n",
       "0                2              39                         5   \n",
       "1                0              44                         6   \n",
       "2                3              36                         4   \n",
       "\n",
       "   Months_Inactive_12_mon  Contacts_Count_12_mon  ...  Total_Trans_Ct  \\\n",
       "0                       1                      3  ...              42   \n",
       "1                       1                      2  ...              33   \n",
       "2                       1                      0  ...              20   \n",
       "\n",
       "   Total_Ct_Chng_Q4_Q1  Avg_Utilization_Ratio  Marital_Status_Divorced  \\\n",
       "0                1.625                  0.061                        0   \n",
       "1                3.714                  0.105                        0   \n",
       "2                2.333                  0.000                        0   \n",
       "\n",
       "   Marital_Status_Married  Marital_Status_Single  Card_Category_Blue  \\\n",
       "0                       1                      0                   1   \n",
       "1                       0                      1                   1   \n",
       "2                       1                      0                   1   \n",
       "\n",
       "   Card_Category_Gold  Card_Category_Platinum  Card_Category_Silver  \n",
       "0                   0                       0                     0  \n",
       "1                   0                       0                     0  \n",
       "2                   0                       0                     0  \n",
       "\n",
       "[3 rows x 25 columns]"
      ]
     },
     "execution_count": 119,
     "metadata": {},
     "output_type": "execute_result"
    }
   ],
   "source": [
    "df = pd.get_dummies(df, columns =['Marital_Status', 'Card_Category'])\n",
    "df.head(3)"
   ]
  },
  {
   "cell_type": "code",
   "execution_count": 120,
   "id": "b5d9e4e7",
   "metadata": {},
   "outputs": [
    {
     "data": {
      "text/plain": [
       "(10127, 25)"
      ]
     },
     "execution_count": 120,
     "metadata": {},
     "output_type": "execute_result"
    }
   ],
   "source": [
    "df.shape"
   ]
  },
  {
   "cell_type": "code",
   "execution_count": 121,
   "id": "0cb1cab0",
   "metadata": {},
   "outputs": [
    {
     "data": {
      "text/plain": [
       "<AxesSubplot:>"
      ]
     },
     "execution_count": 121,
     "metadata": {},
     "output_type": "execute_result"
    },
    {
     "data": {
      "image/png": "[encoded data removed]",
      "text/plain": [
       "<Figure size 720x432 with 2 Axes>"
      ]
     },
     "metadata": {},
     "output_type": "display_data"
    },
    {
     "name": "stdout",
     "output_type": "stream",
     "text": [
      "[CV 1/5] END criterion=gini, max_depth=40, max_features=sqrt, min_samples_leaf=1, min_samples_split=2, n_estimators=3;, score=0.909 total time=   0.4s\n",
      "[CV 3/5] END criterion=gini, max_depth=90, max_features=sqrt, min_samples_leaf=4, min_samples_split=6, n_estimators=15;, score=0.971 total time=   1.5s\n",
      "[CV 5/5] END criterion=gini, max_depth=90, max_features=sqrt, min_samples_leaf=4, min_samples_split=6, n_estimators=15;, score=0.973 total time=   1.2s\n",
      "[CV 4/5] END criterion=entropy, max_depth=100, max_features=auto, min_samples_leaf=1, min_samples_split=2, n_estimators=16;, score=0.977 total time=   1.6s\n",
      "[CV 3/5] END criterion=gini, max_depth=20, max_features=auto, min_samples_leaf=3, min_samples_split=6, n_estimators=13;, score=0.972 total time=   1.1s\n",
      "[CV 3/5] END criterion=gini, max_depth=20, max_features=auto, min_samples_leaf=4, min_samples_split=6, n_estimators=6;, score=0.958 total time=   0.6s\n",
      "[CV 2/5] END criterion=entropy, max_depth=110, max_features=auto, min_samples_leaf=1, min_samples_split=6, n_estimators=8;, score=0.976 total time=   1.0s\n",
      "[CV 1/5] END criterion=gini, max_depth=100, max_features=auto, min_samples_leaf=3, min_samples_split=10, n_estimators=3;, score=0.917 total time=   0.5s\n",
      "[CV 4/5] END criterion=gini, max_depth=100, max_features=auto, min_samples_leaf=3, min_samples_split=10, n_estimators=3;, score=0.957 total time=   0.4s\n",
      "[CV 2/5] END criterion=gini, max_depth=60, max_features=auto, min_samples_leaf=1, min_samples_split=10, n_estimators=12;, score=0.975 total time=   1.4s\n",
      "[CV 1/5] END criterion=entropy, max_depth=100, max_features=sqrt, min_samples_leaf=4, min_samples_split=2, n_estimators=13;, score=0.937 total time=   1.4s\n",
      "[CV 1/5] END criterion=entropy, max_depth=120, max_features=auto, min_samples_leaf=3, min_samples_split=10, n_estimators=18;, score=0.946 total time=   1.9s\n",
      "[CV 5/5] END criterion=entropy, max_depth=120, max_features=auto, min_samples_leaf=3, min_samples_split=10, n_estimators=18;, score=0.975 total time=   9.3s\n",
      "[CV 5/5] END criterion=entropy, max_depth=90, max_features=sqrt, min_samples_leaf=3, min_samples_split=2, n_estimators=15;, score=0.973 total time=   4.4s\n",
      "[CV 4/5] END criterion=entropy, max_depth=40, max_features=sqrt, min_samples_leaf=3, min_samples_split=6, n_estimators=12;, score=0.979 total time=   3.6s\n",
      "[CV 3/5] END criterion=gini, max_depth=110, max_features=auto, min_samples_leaf=4, min_samples_split=10, n_estimators=18;, score=0.970 total time=   2.4s\n",
      "[CV 2/5] END criterion=entropy, max_depth=90, max_features=auto, min_samples_leaf=4, min_samples_split=2, n_estimators=19;, score=0.979 total time=   1.9s\n",
      "[CV 1/5] END criterion=gini, max_depth=110, max_features=auto, min_samples_leaf=3, min_samples_split=2, n_estimators=11;, score=0.932 total time=   0.9s\n",
      "[CV 4/5] END criterion=gini, max_depth=110, max_features=auto, min_samples_leaf=3, min_samples_split=2, n_estimators=11;, score=0.970 total time=   1.0s\n",
      "[CV 3/5] END criterion=gini, max_depth=60, max_features=auto, min_samples_leaf=3, min_samples_split=2, n_estimators=10;, score=0.968 total time=   0.7s\n",
      "[CV 2/5] END criterion=entropy, max_depth=70, max_features=sqrt, min_samples_leaf=3, min_samples_split=2, n_estimators=7;, score=0.975 total time=   0.6s\n",
      "[CV 5/5] END criterion=entropy, max_depth=70, max_features=sqrt, min_samples_leaf=3, min_samples_split=2, n_estimators=7;, score=0.972 total time=   0.6s\n",
      "[CV 4/5] END criterion=gini, max_depth=120, max_features=auto, min_samples_leaf=1, min_samples_split=2, n_estimators=12;, score=0.979 total time=   0.9s\n",
      "[CV 2/5] END criterion=entropy, max_depth=20, max_features=sqrt, min_samples_leaf=3, min_samples_split=10, n_estimators=13;, score=0.978 total time=   1.0s\n",
      "[CV 1/5] END criterion=entropy, max_depth=40, max_features=auto, min_samples_leaf=1, min_samples_split=6, n_estimators=10;, score=0.935 total time=   0.9s\n"
     ]
    }
   ],
   "source": [
    "sns.set_style('whitegrid')\n",
    "plt.figure(figsize=(10,6))\n",
    "sns.heatmap(dfn.corr(),annot=True,lw=1,robust=True,fmt='.2f',vmin=-0.5,vmax=0.5)"
   ]
  },
  {
   "cell_type": "markdown",
   "id": "5ac041e8",
   "metadata": {},
   "source": [
    "1. Customer_Age has a strong correlation with Months_on_book\n",
    "2. Total_Revolving_Bal has a positive correlation with Avg_Utilization_Ratio (People that use their CC more are likely to have unpaid balance)\n",
    "3. Total_trans_amt has a strong correlation with Total_trans_ct (very straight forward)\n",
    "4. Avg_Open_To_Buy has a perfect correlation with Credit_Limit. Therefore, only one of them will be included as predictor "
   ]
  },
  {
   "cell_type": "code",
   "execution_count": 122,
   "id": "e3964ac4",
   "metadata": {},
   "outputs": [
    {
     "data": {
      "text/html": [
       "<div>\n",
       "<style scoped>\n",
       "    .dataframe tbody tr th:only-of-type {\n",
       "        vertical-align: middle;\n",
       "    }\n",
       "\n",
       "    .dataframe tbody tr th {\n",
       "        vertical-align: top;\n",
       "    }\n",
       "\n",
       "    .dataframe thead th {\n",
       "        text-align: right;\n",
       "    }\n",
       "</style>\n",
       "<table border=\"1\" class=\"dataframe\">\n",
       "  <thead>\n",
       "    <tr style=\"text-align: right;\">\n",
       "      <th></th>\n",
       "      <th>Attrition_Flag</th>\n",
       "      <th>Customer_Age</th>\n",
       "      <th>Gender</th>\n",
       "      <th>Dependent_count</th>\n",
       "      <th>Education_Level</th>\n",
       "      <th>Income_Category</th>\n",
       "      <th>Months_on_book</th>\n",
       "      <th>Total_Relationship_Count</th>\n",
       "      <th>Months_Inactive_12_mon</th>\n",
       "      <th>Contacts_Count_12_mon</th>\n",
       "      <th>...</th>\n",
       "      <th>Total_Trans_Ct</th>\n",
       "      <th>Total_Ct_Chng_Q4_Q1</th>\n",
       "      <th>Avg_Utilization_Ratio</th>\n",
       "      <th>Marital_Status_Divorced</th>\n",
       "      <th>Marital_Status_Married</th>\n",
       "      <th>Marital_Status_Single</th>\n",
       "      <th>Card_Category_Blue</th>\n",
       "      <th>Card_Category_Gold</th>\n",
       "      <th>Card_Category_Platinum</th>\n",
       "      <th>Card_Category_Silver</th>\n",
       "    </tr>\n",
       "  </thead>\n",
       "  <tbody>\n",
       "    <tr>\n",
       "      <th>0</th>\n",
       "      <td>0</td>\n",
       "      <td>45</td>\n",
       "      <td>1</td>\n",
       "      <td>3</td>\n",
       "      <td>1</td>\n",
       "      <td>2</td>\n",
       "      <td>39</td>\n",
       "      <td>5</td>\n",
       "      <td>1</td>\n",
       "      <td>3</td>\n",
       "      <td>...</td>\n",
       "      <td>42</td>\n",
       "      <td>1.625</td>\n",
       "      <td>0.061</td>\n",
       "      <td>0</td>\n",
       "      <td>1</td>\n",
       "      <td>0</td>\n",
       "      <td>1</td>\n",
       "      <td>0</td>\n",
       "      <td>0</td>\n",
       "      <td>0</td>\n",
       "    </tr>\n",
       "    <tr>\n",
       "      <th>1</th>\n",
       "      <td>0</td>\n",
       "      <td>49</td>\n",
       "      <td>0</td>\n",
       "      <td>5</td>\n",
       "      <td>3</td>\n",
       "      <td>0</td>\n",
       "      <td>44</td>\n",
       "      <td>6</td>\n",
       "      <td>1</td>\n",
       "      <td>2</td>\n",
       "      <td>...</td>\n",
       "      <td>33</td>\n",
       "      <td>3.714</td>\n",
       "      <td>0.105</td>\n",
       "      <td>0</td>\n",
       "      <td>0</td>\n",
       "      <td>1</td>\n",
       "      <td>1</td>\n",
       "      <td>0</td>\n",
       "      <td>0</td>\n",
       "      <td>0</td>\n",
       "    </tr>\n",
       "    <tr>\n",
       "      <th>2</th>\n",
       "      <td>0</td>\n",
       "      <td>51</td>\n",
       "      <td>1</td>\n",
       "      <td>3</td>\n",
       "      <td>3</td>\n",
       "      <td>3</td>\n",
       "      <td>36</td>\n",
       "      <td>4</td>\n",
       "      <td>1</td>\n",
       "      <td>0</td>\n",
       "      <td>...</td>\n",
       "      <td>20</td>\n",
       "      <td>2.333</td>\n",
       "      <td>0.000</td>\n",
       "      <td>0</td>\n",
       "      <td>1</td>\n",
       "      <td>0</td>\n",
       "      <td>1</td>\n",
       "      <td>0</td>\n",
       "      <td>0</td>\n",
       "      <td>0</td>\n",
       "    </tr>\n",
       "  </tbody>\n",
       "</table>\n",
       "<p>3 rows × 24 columns</p>\n",
       "</div>"
      ],
      "text/plain": [
       "   Attrition_Flag  Customer_Age  Gender  Dependent_count  Education_Level  \\\n",
       "0               0            45       1                3                1   \n",
       "1               0            49       0                5                3   \n",
       "2               0            51       1                3                3   \n",
       "\n",
       "   Income_Category  Months_on_book  Total_Relationship_Count  \\\n",
       "0                2              39                         5   \n",
       "1                0              44                         6   \n",
       "2                3              36                         4   \n",
       "\n",
       "   Months_Inactive_12_mon  Contacts_Count_12_mon  ...  Total_Trans_Ct  \\\n",
       "0                       1                      3  ...              42   \n",
       "1                       1                      2  ...              33   \n",
       "2                       1                      0  ...              20   \n",
       "\n",
       "   Total_Ct_Chng_Q4_Q1  Avg_Utilization_Ratio  Marital_Status_Divorced  \\\n",
       "0                1.625                  0.061                        0   \n",
       "1                3.714                  0.105                        0   \n",
       "2                2.333                  0.000                        0   \n",
       "\n",
       "   Marital_Status_Married  Marital_Status_Single  Card_Category_Blue  \\\n",
       "0                       1                      0                   1   \n",
       "1                       0                      1                   1   \n",
       "2                       1                      0                   1   \n",
       "\n",
       "   Card_Category_Gold  Card_Category_Platinum  Card_Category_Silver  \n",
       "0                   0                       0                     0  \n",
       "1                   0                       0                     0  \n",
       "2                   0                       0                     0  \n",
       "\n",
       "[3 rows x 24 columns]"
      ]
     },
     "execution_count": 122,
     "metadata": {},
     "output_type": "execute_result"
    }
   ],
   "source": [
    "df.drop(['Avg_Open_To_Buy'], axis =1, inplace = True)\n",
    "df.head(3)"
   ]
  },
  {
   "cell_type": "code",
   "execution_count": 123,
   "id": "75e4441f",
   "metadata": {},
   "outputs": [
    {
     "data": {
      "text/plain": [
       "(10127, 24)"
      ]
     },
     "execution_count": 123,
     "metadata": {},
     "output_type": "execute_result"
    }
   ],
   "source": [
    "df.shape"
   ]
  },
  {
   "cell_type": "markdown",
   "id": "79b289da",
   "metadata": {},
   "source": [
    "# TEST AND TRAIN SPLIT"
   ]
  },
  {
   "cell_type": "code",
   "execution_count": 124,
   "id": "eb81b127",
   "metadata": {},
   "outputs": [],
   "source": [
    "# Spliting dataset into predictor and target\n",
    "X = df.drop(['Attrition_Flag'], axis=1)\n",
    "y = df['Attrition_Flag']"
   ]
  },
  {
   "cell_type": "code",
   "execution_count": 125,
   "id": "9c8da005",
   "metadata": {
    "scrolled": true
   },
   "outputs": [
    {
     "data": {
      "text/html": [
       "<div>\n",
       "<style scoped>\n",
       "    .dataframe tbody tr th:only-of-type {\n",
       "        vertical-align: middle;\n",
       "    }\n",
       "\n",
       "    .dataframe tbody tr th {\n",
       "        vertical-align: top;\n",
       "    }\n",
       "\n",
       "    .dataframe thead th {\n",
       "        text-align: right;\n",
       "    }\n",
       "</style>\n",
       "<table border=\"1\" class=\"dataframe\">\n",
       "  <thead>\n",
       "    <tr style=\"text-align: right;\">\n",
       "      <th></th>\n",
       "      <th>Customer_Age</th>\n",
       "      <th>Gender</th>\n",
       "      <th>Dependent_count</th>\n",
       "      <th>Education_Level</th>\n",
       "      <th>Income_Category</th>\n",
       "      <th>Months_on_book</th>\n",
       "      <th>Total_Relationship_Count</th>\n",
       "      <th>Months_Inactive_12_mon</th>\n",
       "      <th>Contacts_Count_12_mon</th>\n",
       "      <th>Credit_Limit</th>\n",
       "      <th>...</th>\n",
       "      <th>Total_Trans_Ct</th>\n",
       "      <th>Total_Ct_Chng_Q4_Q1</th>\n",
       "      <th>Avg_Utilization_Ratio</th>\n",
       "      <th>Marital_Status_Divorced</th>\n",
       "      <th>Marital_Status_Married</th>\n",
       "      <th>Marital_Status_Single</th>\n",
       "      <th>Card_Category_Blue</th>\n",
       "      <th>Card_Category_Gold</th>\n",
       "      <th>Card_Category_Platinum</th>\n",
       "      <th>Card_Category_Silver</th>\n",
       "    </tr>\n",
       "  </thead>\n",
       "  <tbody>\n",
       "    <tr>\n",
       "      <th>0</th>\n",
       "      <td>-0.165406</td>\n",
       "      <td>1.059956</td>\n",
       "      <td>0.503368</td>\n",
       "      <td>-0.893680</td>\n",
       "      <td>0.597300</td>\n",
       "      <td>0.384621</td>\n",
       "      <td>0.763943</td>\n",
       "      <td>-1.327136</td>\n",
       "      <td>0.492404</td>\n",
       "      <td>0.446622</td>\n",
       "      <td>...</td>\n",
       "      <td>-0.973895</td>\n",
       "      <td>3.834003</td>\n",
       "      <td>-0.775882</td>\n",
       "      <td>-0.282405</td>\n",
       "      <td>1.077338</td>\n",
       "      <td>-0.798507</td>\n",
       "      <td>0.270611</td>\n",
       "      <td>-0.107644</td>\n",
       "      <td>-0.044484</td>\n",
       "      <td>-0.240794</td>\n",
       "    </tr>\n",
       "    <tr>\n",
       "      <th>1</th>\n",
       "      <td>0.333570</td>\n",
       "      <td>-0.943436</td>\n",
       "      <td>2.043199</td>\n",
       "      <td>0.593388</td>\n",
       "      <td>-0.887628</td>\n",
       "      <td>1.010715</td>\n",
       "      <td>1.407306</td>\n",
       "      <td>-1.327136</td>\n",
       "      <td>-0.411616</td>\n",
       "      <td>-0.041367</td>\n",
       "      <td>...</td>\n",
       "      <td>-1.357340</td>\n",
       "      <td>12.608573</td>\n",
       "      <td>-0.616276</td>\n",
       "      <td>-0.282405</td>\n",
       "      <td>-0.928214</td>\n",
       "      <td>1.252337</td>\n",
       "      <td>0.270611</td>\n",
       "      <td>-0.107644</td>\n",
       "      <td>-0.044484</td>\n",
       "      <td>-0.240794</td>\n",
       "    </tr>\n",
       "    <tr>\n",
       "      <th>2</th>\n",
       "      <td>0.583058</td>\n",
       "      <td>1.059956</td>\n",
       "      <td>0.503368</td>\n",
       "      <td>0.593388</td>\n",
       "      <td>1.339764</td>\n",
       "      <td>0.008965</td>\n",
       "      <td>0.120579</td>\n",
       "      <td>-1.327136</td>\n",
       "      <td>-2.219655</td>\n",
       "      <td>-0.573698</td>\n",
       "      <td>...</td>\n",
       "      <td>-1.911206</td>\n",
       "      <td>6.807864</td>\n",
       "      <td>-0.997155</td>\n",
       "      <td>-0.282405</td>\n",
       "      <td>1.077338</td>\n",
       "      <td>-0.798507</td>\n",
       "      <td>0.270611</td>\n",
       "      <td>-0.107644</td>\n",
       "      <td>-0.044484</td>\n",
       "      <td>-0.240794</td>\n",
       "    </tr>\n",
       "    <tr>\n",
       "      <th>3</th>\n",
       "      <td>-0.789126</td>\n",
       "      <td>-0.943436</td>\n",
       "      <td>1.273283</td>\n",
       "      <td>-0.893680</td>\n",
       "      <td>-0.887628</td>\n",
       "      <td>-0.241473</td>\n",
       "      <td>-0.522785</td>\n",
       "      <td>1.641478</td>\n",
       "      <td>-1.315636</td>\n",
       "      <td>-0.585251</td>\n",
       "      <td>...</td>\n",
       "      <td>-1.911206</td>\n",
       "      <td>6.807864</td>\n",
       "      <td>1.759686</td>\n",
       "      <td>-0.282405</td>\n",
       "      <td>-0.928214</td>\n",
       "      <td>-0.798507</td>\n",
       "      <td>0.270611</td>\n",
       "      <td>-0.107644</td>\n",
       "      <td>-0.044484</td>\n",
       "      <td>-0.240794</td>\n",
       "    </tr>\n",
       "    <tr>\n",
       "      <th>4</th>\n",
       "      <td>-0.789126</td>\n",
       "      <td>1.059956</td>\n",
       "      <td>0.503368</td>\n",
       "      <td>-1.637214</td>\n",
       "      <td>0.597300</td>\n",
       "      <td>-1.869317</td>\n",
       "      <td>0.763943</td>\n",
       "      <td>-1.327136</td>\n",
       "      <td>-2.219655</td>\n",
       "      <td>-0.430877</td>\n",
       "      <td>...</td>\n",
       "      <td>-1.570365</td>\n",
       "      <td>7.509325</td>\n",
       "      <td>-0.997155</td>\n",
       "      <td>-0.282405</td>\n",
       "      <td>1.077338</td>\n",
       "      <td>-0.798507</td>\n",
       "      <td>0.270611</td>\n",
       "      <td>-0.107644</td>\n",
       "      <td>-0.044484</td>\n",
       "      <td>-0.240794</td>\n",
       "    </tr>\n",
       "    <tr>\n",
       "      <th>...</th>\n",
       "      <td>...</td>\n",
       "      <td>...</td>\n",
       "      <td>...</td>\n",
       "      <td>...</td>\n",
       "      <td>...</td>\n",
       "      <td>...</td>\n",
       "      <td>...</td>\n",
       "      <td>...</td>\n",
       "      <td>...</td>\n",
       "      <td>...</td>\n",
       "      <td>...</td>\n",
       "      <td>...</td>\n",
       "      <td>...</td>\n",
       "      <td>...</td>\n",
       "      <td>...</td>\n",
       "      <td>...</td>\n",
       "      <td>...</td>\n",
       "      <td>...</td>\n",
       "      <td>...</td>\n",
       "      <td>...</td>\n",
       "      <td>...</td>\n",
       "    </tr>\n",
       "    <tr>\n",
       "      <th>10122</th>\n",
       "      <td>0.458314</td>\n",
       "      <td>1.059956</td>\n",
       "      <td>-0.266547</td>\n",
       "      <td>0.593388</td>\n",
       "      <td>-0.145164</td>\n",
       "      <td>0.509840</td>\n",
       "      <td>-0.522785</td>\n",
       "      <td>-0.337598</td>\n",
       "      <td>0.492404</td>\n",
       "      <td>-0.509330</td>\n",
       "      <td>...</td>\n",
       "      <td>2.221481</td>\n",
       "      <td>0.608119</td>\n",
       "      <td>0.678714</td>\n",
       "      <td>-0.282405</td>\n",
       "      <td>-0.928214</td>\n",
       "      <td>1.252337</td>\n",
       "      <td>0.270611</td>\n",
       "      <td>-0.107644</td>\n",
       "      <td>-0.044484</td>\n",
       "      <td>-0.240794</td>\n",
       "    </tr>\n",
       "    <tr>\n",
       "      <th>10123</th>\n",
       "      <td>-0.664382</td>\n",
       "      <td>1.059956</td>\n",
       "      <td>-0.266547</td>\n",
       "      <td>0.593388</td>\n",
       "      <td>-0.145164</td>\n",
       "      <td>-1.368442</td>\n",
       "      <td>0.120579</td>\n",
       "      <td>-0.337598</td>\n",
       "      <td>0.492404</td>\n",
       "      <td>-0.479181</td>\n",
       "      <td>...</td>\n",
       "      <td>0.176440</td>\n",
       "      <td>-0.122745</td>\n",
       "      <td>0.856458</td>\n",
       "      <td>3.541013</td>\n",
       "      <td>-0.928214</td>\n",
       "      <td>-0.798507</td>\n",
       "      <td>0.270611</td>\n",
       "      <td>-0.107644</td>\n",
       "      <td>-0.044484</td>\n",
       "      <td>-0.240794</td>\n",
       "    </tr>\n",
       "    <tr>\n",
       "      <th>10124</th>\n",
       "      <td>-0.290150</td>\n",
       "      <td>-0.943436</td>\n",
       "      <td>-1.036462</td>\n",
       "      <td>-0.893680</td>\n",
       "      <td>-0.887628</td>\n",
       "      <td>0.008965</td>\n",
       "      <td>0.763943</td>\n",
       "      <td>0.651940</td>\n",
       "      <td>1.396424</td>\n",
       "      <td>-0.354626</td>\n",
       "      <td>...</td>\n",
       "      <td>-0.207005</td>\n",
       "      <td>0.444305</td>\n",
       "      <td>-0.997155</td>\n",
       "      <td>-0.282405</td>\n",
       "      <td>1.077338</td>\n",
       "      <td>-0.798507</td>\n",
       "      <td>0.270611</td>\n",
       "      <td>-0.107644</td>\n",
       "      <td>-0.044484</td>\n",
       "      <td>-0.240794</td>\n",
       "    </tr>\n",
       "    <tr>\n",
       "      <th>10125</th>\n",
       "      <td>-2.036565</td>\n",
       "      <td>1.059956</td>\n",
       "      <td>-0.266547</td>\n",
       "      <td>0.593388</td>\n",
       "      <td>-0.145164</td>\n",
       "      <td>0.008965</td>\n",
       "      <td>0.120579</td>\n",
       "      <td>0.651940</td>\n",
       "      <td>0.492404</td>\n",
       "      <td>-0.368710</td>\n",
       "      <td>...</td>\n",
       "      <td>-0.121795</td>\n",
       "      <td>0.041070</td>\n",
       "      <td>-0.997155</td>\n",
       "      <td>-0.282405</td>\n",
       "      <td>-0.928214</td>\n",
       "      <td>-0.798507</td>\n",
       "      <td>0.270611</td>\n",
       "      <td>-0.107644</td>\n",
       "      <td>-0.044484</td>\n",
       "      <td>-0.240794</td>\n",
       "    </tr>\n",
       "    <tr>\n",
       "      <th>10126</th>\n",
       "      <td>-0.414894</td>\n",
       "      <td>-0.943436</td>\n",
       "      <td>-0.266547</td>\n",
       "      <td>0.593388</td>\n",
       "      <td>-0.887628</td>\n",
       "      <td>-1.368442</td>\n",
       "      <td>1.407306</td>\n",
       "      <td>-0.337598</td>\n",
       "      <td>1.396424</td>\n",
       "      <td>0.193220</td>\n",
       "      <td>...</td>\n",
       "      <td>-0.164400</td>\n",
       "      <td>-0.265557</td>\n",
       "      <td>-0.311572</td>\n",
       "      <td>-0.282405</td>\n",
       "      <td>1.077338</td>\n",
       "      <td>-0.798507</td>\n",
       "      <td>-3.695345</td>\n",
       "      <td>-0.107644</td>\n",
       "      <td>-0.044484</td>\n",
       "      <td>4.152932</td>\n",
       "    </tr>\n",
       "  </tbody>\n",
       "</table>\n",
       "<p>10127 rows × 23 columns</p>\n",
       "</div>"
      ],
      "text/plain": [
       "       Customer_Age    Gender  Dependent_count  Education_Level  \\\n",
       "0         -0.165406  1.059956         0.503368        -0.893680   \n",
       "1          0.333570 -0.943436         2.043199         0.593388   \n",
       "2          0.583058  1.059956         0.503368         0.593388   \n",
       "3         -0.789126 -0.943436         1.273283        -0.893680   \n",
       "4         -0.789126  1.059956         0.503368        -1.637214   \n",
       "...             ...       ...              ...              ...   \n",
       "10122      0.458314  1.059956        -0.266547         0.593388   \n",
       "10123     -0.664382  1.059956        -0.266547         0.593388   \n",
       "10124     -0.290150 -0.943436        -1.036462        -0.893680   \n",
       "10125     -2.036565  1.059956        -0.266547         0.593388   \n",
       "10126     -0.414894 -0.943436        -0.266547         0.593388   \n",
       "\n",
       "       Income_Category  Months_on_book  Total_Relationship_Count  \\\n",
       "0             0.597300        0.384621                  0.763943   \n",
       "1            -0.887628        1.010715                  1.407306   \n",
       "2             1.339764        0.008965                  0.120579   \n",
       "3            -0.887628       -0.241473                 -0.522785   \n",
       "4             0.597300       -1.869317                  0.763943   \n",
       "...                ...             ...                       ...   \n",
       "10122        -0.145164        0.509840                 -0.522785   \n",
       "10123        -0.145164       -1.368442                  0.120579   \n",
       "10124        -0.887628        0.008965                  0.763943   \n",
       "10125        -0.145164        0.008965                  0.120579   \n",
       "10126        -0.887628       -1.368442                  1.407306   \n",
       "\n",
       "       Months_Inactive_12_mon  Contacts_Count_12_mon  Credit_Limit  ...  \\\n",
       "0                   -1.327136               0.492404      0.446622  ...   \n",
       "1                   -1.327136              -0.411616     -0.041367  ...   \n",
       "2                   -1.327136              -2.219655     -0.573698  ...   \n",
       "3                    1.641478              -1.315636     -0.585251  ...   \n",
       "4                   -1.327136              -2.219655     -0.430877  ...   \n",
       "...                       ...                    ...           ...  ...   \n",
       "10122               -0.337598               0.492404     -0.509330  ...   \n",
       "10123               -0.337598               0.492404     -0.479181  ...   \n",
       "10124                0.651940               1.396424     -0.354626  ...   \n",
       "10125                0.651940               0.492404     -0.368710  ...   \n",
       "10126               -0.337598               1.396424      0.193220  ...   \n",
       "\n",
       "       Total_Trans_Ct  Total_Ct_Chng_Q4_Q1  Avg_Utilization_Ratio  \\\n",
       "0           -0.973895             3.834003              -0.775882   \n",
       "1           -1.357340            12.608573              -0.616276   \n",
       "2           -1.911206             6.807864              -0.997155   \n",
       "3           -1.911206             6.807864               1.759686   \n",
       "4           -1.570365             7.509325              -0.997155   \n",
       "...               ...                  ...                    ...   \n",
       "10122        2.221481             0.608119               0.678714   \n",
       "10123        0.176440            -0.122745               0.856458   \n",
       "10124       -0.207005             0.444305              -0.997155   \n",
       "10125       -0.121795             0.041070              -0.997155   \n",
       "10126       -0.164400            -0.265557              -0.311572   \n",
       "\n",
       "       Marital_Status_Divorced  Marital_Status_Married  Marital_Status_Single  \\\n",
       "0                    -0.282405                1.077338              -0.798507   \n",
       "1                    -0.282405               -0.928214               1.252337   \n",
       "2                    -0.282405                1.077338              -0.798507   \n",
       "3                    -0.282405               -0.928214              -0.798507   \n",
       "4                    -0.282405                1.077338              -0.798507   \n",
       "...                        ...                     ...                    ...   \n",
       "10122                -0.282405               -0.928214               1.252337   \n",
       "10123                 3.541013               -0.928214              -0.798507   \n",
       "10124                -0.282405                1.077338              -0.798507   \n",
       "10125                -0.282405               -0.928214              -0.798507   \n",
       "10126                -0.282405                1.077338              -0.798507   \n",
       "\n",
       "       Card_Category_Blue  Card_Category_Gold  Card_Category_Platinum  \\\n",
       "0                0.270611           -0.107644               -0.044484   \n",
       "1                0.270611           -0.107644               -0.044484   \n",
       "2                0.270611           -0.107644               -0.044484   \n",
       "3                0.270611           -0.107644               -0.044484   \n",
       "4                0.270611           -0.107644               -0.044484   \n",
       "...                   ...                 ...                     ...   \n",
       "10122            0.270611           -0.107644               -0.044484   \n",
       "10123            0.270611           -0.107644               -0.044484   \n",
       "10124            0.270611           -0.107644               -0.044484   \n",
       "10125            0.270611           -0.107644               -0.044484   \n",
       "10126           -3.695345           -0.107644               -0.044484   \n",
       "\n",
       "       Card_Category_Silver  \n",
       "0                 -0.240794  \n",
       "1                 -0.240794  \n",
       "2                 -0.240794  \n",
       "3                 -0.240794  \n",
       "4                 -0.240794  \n",
       "...                     ...  \n",
       "10122             -0.240794  \n",
       "10123             -0.240794  \n",
       "10124             -0.240794  \n",
       "10125             -0.240794  \n",
       "10126              4.152932  \n",
       "\n",
       "[10127 rows x 23 columns]"
      ]
     },
     "execution_count": 125,
     "metadata": {},
     "output_type": "execute_result"
    }
   ],
   "source": [
    "# Feature Scaling with Standard Scaler\n",
    "from sklearn.preprocessing import StandardScaler\n",
    "sc = StandardScaler()\n",
    "X = pd.DataFrame(sc.fit_transform(X), columns = X.columns)\n",
    "X"
   ]
  },
  {
   "cell_type": "code",
   "execution_count": 126,
   "id": "923eea88",
   "metadata": {
    "scrolled": true
   },
   "outputs": [
    {
     "data": {
      "text/plain": [
       "(10127, 23)"
      ]
     },
     "execution_count": 126,
     "metadata": {},
     "output_type": "execute_result"
    }
   ],
   "source": [
    "X.shape"
   ]
  },
  {
   "cell_type": "code",
   "execution_count": 127,
   "id": "fbf5feda",
   "metadata": {},
   "outputs": [
    {
     "name": "stdout",
     "output_type": "stream",
     "text": [
      "Proportion of training set :\n",
      "0    6786\n",
      "1    1315\n",
      "Name: Attrition_Flag, dtype: int64\n",
      "Proportion of testing set :\n",
      "0    1714\n",
      "1     312\n",
      "Name: Attrition_Flag, dtype: int64\n"
     ]
    }
   ],
   "source": [
    "# Splitting Dataset into Training and Test Set\n",
    "from sklearn.model_selection import train_test_split\n",
    "X_train, X_test, y_train, y_test = train_test_split(X, y, test_size=0.2, random_state=2)\n",
    "\n",
    "print(\"Proportion of training set :\")\n",
    "print(y_train.value_counts())\n",
    "print(\"Proportion of testing set :\")\n",
    "print(y_test.value_counts())"
   ]
  },
  {
   "cell_type": "markdown",
   "id": "e1b22ed8",
   "metadata": {},
   "source": [
    "# Machine Learning Model"
   ]
  },
  {
   "cell_type": "code",
   "execution_count": 128,
   "id": "540de81f",
   "metadata": {},
   "outputs": [],
   "source": [
    "from sklearn.linear_model import LogisticRegression\n",
    "from sklearn.svm import SVC\n",
    "from sklearn.tree import DecisionTreeClassifier\n",
    "from sklearn.neural_network import MLPClassifier\n",
    "from sklearn.ensemble import RandomForestClassifier\n",
    "from sklearn.metrics import accuracy_score\n",
    "from sklearn.metrics import classification_report,confusion_matrix\n",
    "from sklearn.metrics import precision_score, recall_score\n",
    "from sklearn.neighbors import KNeighborsClassifier\n",
    "from sklearn.metrics import fbeta_score\n",
    "from sklearn.metrics import f1_score\n",
    "from sklearn.metrics import roc_auc_score"
   ]
  },
  {
   "cell_type": "markdown",
   "id": "f2892eef",
   "metadata": {},
   "source": [
    "# Random Forest"
   ]
  },
  {
   "cell_type": "code",
   "execution_count": 129,
   "id": "8f190c3c",
   "metadata": {},
   "outputs": [
    {
     "data": {
      "text/plain": [
       "96.29812438302073"
      ]
     },
     "execution_count": 129,
     "metadata": {},
     "output_type": "execute_result"
    }
   ],
   "source": [
    "#As we can evaluate above, Random Forest gives the highest accuracy \n",
    "model_rf = RandomForestClassifier(random_state=12)\n",
    "model_rf.fit(X_train, y_train)\n",
    "model_rf.score(X_test, y_test)*100"
   ]
  },
  {
   "cell_type": "code",
   "execution_count": 175,
   "id": "f35b7685",
   "metadata": {
    "scrolled": false
   },
   "outputs": [
    {
     "name": "stdout",
     "output_type": "stream",
     "text": [
      "[[1702   12]\n",
      " [  63  249]]\n"
     ]
    },
    {
     "data": {
      "image/png": "[encoded data removed]",
      "text/plain": [
       "<Figure size 432x288 with 2 Axes>"
      ]
     },
     "metadata": {},
     "output_type": "display_data"
    },
    {
     "name": "stdout",
     "output_type": "stream",
     "text": [
      "Accuracy : 0.9629812438302073\n",
      "Precision : 0.9540229885057471\n",
      "Recall : 0.7980769230769231\n",
      "f2 : 0.8250497017892645\n",
      "              precision    recall  f1-score   support\n",
      "\n",
      "           0       0.96      0.99      0.98      1714\n",
      "           1       0.95      0.80      0.87       312\n",
      "\n",
      "    accuracy                           0.96      2026\n",
      "   macro avg       0.96      0.90      0.92      2026\n",
      "weighted avg       0.96      0.96      0.96      2026\n",
      "\n"
     ]
    }
   ],
   "source": [
    "y_pred = model_rf.predict(X_test)\n",
    "cm_rf = confusion_matrix(y_test, y_pred)\n",
    "print(cm_rf)\n",
    "sns.heatmap(cm_rf, annot=True, fmt='g')\n",
    "plt.show()\n",
    "print(\"Accuracy :\" , accuracy_score(y_test, y_pred))\n",
    "print(\"Precision :\", precision_score(y_test, y_pred))\n",
    "print(\"Recall :\", recall_score(y_test, y_pred))\n",
    "print(\"f2 :\", fbeta_score(y_test, y_pred, beta=2.0))\n",
    "print(classification_report(y_test, y_pred))"
   ]
  },
  {
   "cell_type": "markdown",
   "id": "f487ad42",
   "metadata": {},
   "source": [
    "With Random Forest we can get 96.54% accuracy with 94.16% precision and 82.69% recall. However, due to imbalance dataset, the accuracy is bias. \n",
    "\n",
    "Thus, we focus on the precision, recall and f-beta score. \n",
    "\n",
    "With respect to our case, it is important to have a model that can give a high recall power. "
   ]
  },
  {
   "cell_type": "markdown",
   "id": "4db2b700",
   "metadata": {},
   "source": [
    "# Logistic Regression"
   ]
  },
  {
   "cell_type": "code",
   "execution_count": 131,
   "id": "f1123c11",
   "metadata": {},
   "outputs": [
    {
     "data": {
      "text/plain": [
       "LogisticRegression(C=0.5, n_jobs=6, random_state=0)"
      ]
     },
     "execution_count": 131,
     "metadata": {},
     "output_type": "execute_result"
    }
   ],
   "source": [
    "model_lr = LogisticRegression(C=0.5, penalty='l2',n_jobs=6, random_state=0)\n",
    "model_lr.fit(X_train, y_train)"
   ]
  },
  {
   "cell_type": "code",
   "execution_count": 176,
   "id": "81c0e491",
   "metadata": {},
   "outputs": [
    {
     "name": "stdout",
     "output_type": "stream",
     "text": [
      "[[1652   62]\n",
      " [ 134  178]]\n",
      "Accuracy : 0.9032576505429417\n",
      "Precision : 0.7416666666666667\n",
      "Recall : 0.5705128205128205\n",
      "f2 : 0.5981182795698925\n",
      "              precision    recall  f1-score   support\n",
      "\n",
      "           0       0.92      0.96      0.94      1714\n",
      "           1       0.74      0.57      0.64       312\n",
      "\n",
      "    accuracy                           0.90      2026\n",
      "   macro avg       0.83      0.77      0.79      2026\n",
      "weighted avg       0.90      0.90      0.90      2026\n",
      "\n"
     ]
    }
   ],
   "source": [
    "y_pred_lr = model_lr.predict(X_test)\n",
    "cm_lr = confusion_matrix(y_test, y_pred_lr)\n",
    "print(cm_lr)\n",
    "print(\"Accuracy :\", accuracy_score(y_test, y_pred_lr))\n",
    "print(\"Precision :\", precision_score(y_test, y_pred_lr))\n",
    "print(\"Recall :\", recall_score(y_test, y_pred_lr))\n",
    "print(\"f2 :\", fbeta_score(y_test, y_pred_lr, beta=2.0))\n",
    "print(classification_report(y_test, y_pred_lr))"
   ]
  },
  {
   "cell_type": "markdown",
   "id": "e5296681",
   "metadata": {},
   "source": [
    "Logistoc Regression gives us a lower accuracy with 74.16% precision and 57.05 recall. Random Forest gives a more satisfactory result compare to Logistic Regression"
   ]
  },
  {
   "cell_type": "markdown",
   "id": "f479471e",
   "metadata": {},
   "source": [
    "# KNN"
   ]
  },
  {
   "cell_type": "code",
   "execution_count": 177,
   "id": "48889098",
   "metadata": {
    "scrolled": true
   },
   "outputs": [
    {
     "name": "stdout",
     "output_type": "stream",
     "text": [
      "[[1632   82]\n",
      " [ 141  171]]\n",
      "Accurcay: 0.8899308983218164\n",
      "Precision : 0.6758893280632411\n",
      "Recall : 0.5480769230769231\n",
      "f2 : 0.5696202531645571\n",
      "              precision    recall  f1-score   support\n",
      "\n",
      "           0       0.92      0.95      0.94      1714\n",
      "           1       0.68      0.55      0.61       312\n",
      "\n",
      "    accuracy                           0.89      2026\n",
      "   macro avg       0.80      0.75      0.77      2026\n",
      "weighted avg       0.88      0.89      0.89      2026\n",
      "\n"
     ]
    }
   ],
   "source": [
    "model_knn = KNeighborsClassifier(n_neighbors = 1)\n",
    "model_knn.fit(X_train, y_train)\n",
    "y_pred_knn = model_knn.predict(X_test)\n",
    "print(confusion_matrix(y_test, y_pred_knn))\n",
    "print(\"Accurcay:\", accuracy_score(y_test, y_pred_knn))\n",
    "print(\"Precision :\", precision_score(y_test, y_pred_knn))\n",
    "print(\"Recall :\", recall_score(y_test, y_pred_knn))\n",
    "print(\"f2 :\", fbeta_score(y_test, y_pred_knn, beta=2.0))\n",
    "print(classification_report(y_test, y_pred_knn))"
   ]
  },
  {
   "cell_type": "markdown",
   "id": "a9b9623d",
   "metadata": {},
   "source": [
    "KNN gives 88.99% accucary with 67.58 precision and 54.80 recall."
   ]
  },
  {
   "cell_type": "markdown",
   "id": "1f3aa312",
   "metadata": {},
   "source": [
    "# Decision Tree"
   ]
  },
  {
   "cell_type": "code",
   "execution_count": 179,
   "id": "1fffa14b",
   "metadata": {},
   "outputs": [
    {
     "name": "stdout",
     "output_type": "stream",
     "text": [
      "[[1643   71]\n",
      " [  53  259]]\n",
      "Accuracy: 0.9387956564659428\n",
      "Precision : 0.7848484848484848\n",
      "Recall : 0.8301282051282052\n",
      "f2 : 0.8206590621039289\n",
      "              precision    recall  f1-score   support\n",
      "\n",
      "           0       0.97      0.96      0.96      1714\n",
      "           1       0.78      0.83      0.81       312\n",
      "\n",
      "    accuracy                           0.94      2026\n",
      "   macro avg       0.88      0.89      0.89      2026\n",
      "weighted avg       0.94      0.94      0.94      2026\n",
      "\n"
     ]
    }
   ],
   "source": [
    "# Create Decision Tree classifer object\n",
    "model_dt = DecisionTreeClassifier(random_state = 12)\n",
    "# Train Decision Tree Classifer\n",
    "model_dt.fit(X_train,y_train)\n",
    "#Predict the response for test dataset\n",
    "y_pred_dt = model_dt.predict(X_test)\n",
    "# Predictions and Evaluations\n",
    "# Let's evaluate our decision tree model ! \n",
    "print(confusion_matrix(y_test, y_pred_dt))\n",
    "print(\"Accuracy:\", accuracy_score(y_test, y_pred_dt))\n",
    "print(\"Precision :\", precision_score(y_test, y_pred_dt))\n",
    "print(\"Recall :\", recall_score(y_test, y_pred_dt))\n",
    "print(\"f2 :\", fbeta_score(y_test, y_pred_dt, beta=2.0))\n",
    "print(classification_report(y_test, y_pred_dt))"
   ]
  },
  {
   "cell_type": "markdown",
   "id": "cee67d97",
   "metadata": {},
   "source": [
    "Decision tree gives us 93.83% accuracy with 79.8% precision and 80.12% recall"
   ]
  },
  {
   "cell_type": "markdown",
   "id": "4d369ccd",
   "metadata": {},
   "source": [
    "# SVM"
   ]
  },
  {
   "cell_type": "code",
   "execution_count": 180,
   "id": "220943d9",
   "metadata": {
    "scrolled": true
   },
   "outputs": [
    {
     "name": "stdout",
     "output_type": "stream",
     "text": [
      "0.9072063178677197\n",
      "Confusion Matrix:\n",
      " [[1671   43]\n",
      " [ 145  167]]\n",
      "Accucracy : 0.9072063178677197\n",
      "Precision : 0.7952380952380952\n",
      "Recall : 0.5352564102564102\n",
      "f2 : 0.5727023319615913\n",
      "              precision    recall  f1-score   support\n",
      "\n",
      "           0       0.92      0.97      0.95      1714\n",
      "           1       0.80      0.54      0.64       312\n",
      "\n",
      "    accuracy                           0.91      2026\n",
      "   macro avg       0.86      0.76      0.79      2026\n",
      "weighted avg       0.90      0.91      0.90      2026\n",
      "\n"
     ]
    }
   ],
   "source": [
    "from sklearn.svm import SVC\n",
    "model_svc = SVC(C= .1, kernel='linear', gamma= 1, probability=False)\n",
    "model_svc.fit(X_train, y_train)\n",
    "print(model_svc.score(X_test, y_test))\n",
    "y_pred_svc = model_svc.predict(X_test)\n",
    "print(\"Confusion Matrix:\\n\",confusion_matrix(y_test, y_pred_svc))\n",
    "print(\"Accucracy :\", accuracy_score(y_test, y_pred_svc))\n",
    "print(\"Precision :\", precision_score(y_test, y_pred_svc))\n",
    "print(\"Recall :\", recall_score(y_test, y_pred_svc))\n",
    "print(\"f2 :\", fbeta_score(y_test, y_pred_svc, beta=2.0))\n",
    "print(classification_report(y_test, y_pred_svc))\n"
   ]
  },
  {
   "cell_type": "markdown",
   "id": "f629dba2",
   "metadata": {},
   "source": [
    "## Decision tree gives us 93.83% accuracy with 79.8% precision and 80.12% recall"
   ]
  },
  {
   "cell_type": "markdown",
   "id": "2c60a0e3",
   "metadata": {},
   "source": [
    "# NN"
   ]
  },
  {
   "cell_type": "code",
   "execution_count": 181,
   "id": "9bb2e3df",
   "metadata": {
    "scrolled": true
   },
   "outputs": [
    {
     "name": "stdout",
     "output_type": "stream",
     "text": [
      "[[1662   82]\n",
      " [  52  230]]\n",
      "Accuracy : 0.9338598223099703\n",
      "Precision : 0.8156028368794326\n",
      "Recall : 0.7371794871794872\n",
      "f2 : 0.7516339869281046\n",
      "              precision    recall  f1-score   support\n",
      "\n",
      "           0       0.95      0.97      0.96      1714\n",
      "           1       0.82      0.74      0.77       312\n",
      "\n",
      "    accuracy                           0.93      2026\n",
      "   macro avg       0.88      0.85      0.87      2026\n",
      "weighted avg       0.93      0.93      0.93      2026\n",
      "\n"
     ]
    }
   ],
   "source": [
    "classifier = MLPClassifier(hidden_layer_sizes=(150,100,50), max_iter=300,activation = 'relu',solver='adam',random_state=1)\n",
    "classifier.fit(X_train, y_train)\n",
    "y_pred_nn = classifier.predict(X_test)\n",
    "cm = confusion_matrix(y_pred_nn, y_test)\n",
    "print(cm)\n",
    "print(\"Accuracy :\", accuracy_score(y_test, y_pred_nn))\n",
    "print(\"Precision :\", precision_score(y_test, y_pred_nn))\n",
    "print(\"Recall :\", recall_score(y_test, y_pred_nn))\n",
    "print(\"f2 :\", fbeta_score(y_test, y_pred_nn, beta=2.0))\n",
    "print(classification_report(y_test, y_pred_nn))\n",
    "\n"
   ]
  },
  {
   "cell_type": "markdown",
   "id": "e319dbff",
   "metadata": {},
   "source": [
    "### Decision tree gives us 93.83% accuracy with 79.8% precision and 80.12% recall"
   ]
  },
  {
   "cell_type": "markdown",
   "id": "f4295152",
   "metadata": {},
   "source": [
    "From 6 model, we may conclude that Random Forest gives the best result with 96.54% accuracy with 94.16% precision and 82.69% recall\n"
   ]
  },
  {
   "cell_type": "code",
   "execution_count": 154,
   "id": "b1a66a26",
   "metadata": {},
   "outputs": [],
   "source": [
    "import warnings\n",
    "warnings.filterwarnings('ignore')"
   ]
  },
  {
   "cell_type": "code",
   "execution_count": 161,
   "id": "7892fa2d",
   "metadata": {},
   "outputs": [],
   "source": [
    "from sklearn.metrics import roc_curve, roc_auc_score\n",
    "\n",
    "# Instantiate the classfiers and make a list\n",
    "classifiers = [LogisticRegression(),  \n",
    "               KNeighborsClassifier(), \n",
    "               DecisionTreeClassifier(),\n",
    "               RandomForestClassifier(),\n",
    "               SVC(probability=True),\n",
    "               MLPClassifier()]\n",
    "\n",
    "# Define a result table as a DataFrame\n",
    "result_table = pd.DataFrame(columns=['classifiers', 'fpr','tpr','auc'])\n",
    "\n",
    "# Train the models and record the results\n",
    "for cls in classifiers:\n",
    "    model = cls.fit(X_train, y_train)\n",
    "    yproba = model.predict_proba(X_test)[::,1]\n",
    "    \n",
    "    fpr, tpr, _ = roc_curve(y_test,  yproba)\n",
    "    auc = roc_auc_score(y_test, yproba)\n",
    "    \n",
    "    result_table = result_table.append({'classifiers':cls.__class__.__name__,\n",
    "                                        'fpr':fpr, \n",
    "                                        'tpr':tpr, \n",
    "                                        'auc':auc}, ignore_index=True)\n",
    "\n",
    "# Set name of the classifiers as index labels\n",
    "result_table.set_index('classifiers', inplace=True)"
   ]
  },
  {
   "cell_type": "code",
   "execution_count": 163,
   "id": "de5ec64f",
   "metadata": {
    "scrolled": true
   },
   "outputs": [
    {
     "data": {
      "image/png": "[encoded data removed]",
      "text/plain": [
       "<Figure size 576x432 with 1 Axes>"
      ]
     },
     "metadata": {},
     "output_type": "display_data"
    }
   ],
   "source": [
    "fig = plt.figure(figsize=(8,6))\n",
    "\n",
    "for i in result_table.index:\n",
    "    plt.plot(result_table.loc[i]['fpr'], \n",
    "             result_table.loc[i]['tpr'], \n",
    "             label=\"{}, AUC={:.3f}\".format(i, result_table.loc[i]['auc']))\n",
    "    \n",
    "plt.plot([0,1], [0,1], color='orange', linestyle='--')\n",
    "\n",
    "plt.xticks(np.arange(0.0, 1.1, step=0.1))\n",
    "plt.xlabel(\"Flase Positive Rate\", fontsize=15)\n",
    "\n",
    "plt.yticks(np.arange(0.0, 1.1, step=0.1))\n",
    "plt.ylabel(\"True Positive Rate\", fontsize=15)\n",
    "\n",
    "plt.title('ROC Curve Analysis', fontweight='bold', fontsize=15)\n",
    "plt.legend(prop={'size':13}, loc='lower right')\n",
    "\n",
    "plt.show()\n",
    "fig.savefig('multiple_roc_curve.png')"
   ]
  },
  {
   "cell_type": "markdown",
   "id": "2fa13328",
   "metadata": {},
   "source": [
    "The more that the curve hugs the top left corner of the plot, the better the model does at classifying the data into categories.The closer AUC is to 1, the better the model. A model with an AUC equal to 0.5 is no better than a model that makes random classifications. As we can see, Random Forest gives the best AUC\n",
    "\n"
   ]
  },
  {
   "cell_type": "code",
   "execution_count": 164,
   "id": "8c09babb",
   "metadata": {
    "scrolled": true
   },
   "outputs": [
    {
     "name": "stdout",
     "output_type": "stream",
     "text": [
      "Requirement already satisfied: imblearn in /opt/anaconda3/lib/python3.9/site-packages (0.0)\n",
      "Requirement already satisfied: imbalanced-learn in /opt/anaconda3/lib/python3.9/site-packages (from imblearn) (0.9.0)\n",
      "Requirement already satisfied: joblib>=0.11 in /opt/anaconda3/lib/python3.9/site-packages (from imbalanced-learn->imblearn) (1.1.0)\n",
      "Requirement already satisfied: threadpoolctl>=2.0.0 in /opt/anaconda3/lib/python3.9/site-packages (from imbalanced-learn->imblearn) (2.2.0)\n",
      "Requirement already satisfied: scipy>=1.1.0 in /opt/anaconda3/lib/python3.9/site-packages (from imbalanced-learn->imblearn) (1.7.1)\n",
      "Requirement already satisfied: scikit-learn>=1.0.1 in /opt/anaconda3/lib/python3.9/site-packages (from imbalanced-learn->imblearn) (1.0.2)\n",
      "Requirement already satisfied: numpy>=1.14.6 in /opt/anaconda3/lib/python3.9/site-packages (from imbalanced-learn->imblearn) (1.20.3)\n"
     ]
    }
   ],
   "source": [
    "#ADDRESSING IMBALANCE DATASET \n",
    "!pip install imblearn"
   ]
  },
  {
   "cell_type": "code",
   "execution_count": 182,
   "id": "a0c1272b",
   "metadata": {
    "scrolled": true
   },
   "outputs": [
    {
     "name": "stdout",
     "output_type": "stream",
     "text": [
      "Before OverSampling, counts of label '1': 1315\n",
      "Before OverSampling, counts of label '0': 6786 \n",
      "\n",
      "After OverSampling, the shape of train_X: (13572, 23)\n",
      "After OverSampling, the shape of train_y: (13572,) \n",
      "\n",
      "After OverSampling, counts of label '1': 6786\n",
      "After OverSampling, counts of label '0': 6786\n"
     ]
    }
   ],
   "source": [
    "print(\"Before OverSampling, counts of label '1': {}\".format(sum(y_train == 1)))\n",
    "print(\"Before OverSampling, counts of label '0': {} \\n\".format(sum(y_train == 0)))\n",
    "  \n",
    "# import SMOTE module from imblearn library\n",
    "# pip install imblearn (if you don't have imblearn in your system)\n",
    "from imblearn.over_sampling import SMOTE\n",
    "sm = SMOTE(random_state = 12)\n",
    "X_train_res, y_train_res = sm.fit_sample(X_train, y_train.ravel())\n",
    "  \n",
    "print('After OverSampling, the shape of train_X: {}'.format(X_train_res.shape))\n",
    "print('After OverSampling, the shape of train_y: {} \\n'.format(y_train_res.shape))\n",
    "  \n",
    "print(\"After OverSampling, counts of label '1': {}\".format(sum(y_train_res == 1)))\n",
    "print(\"After OverSampling, counts of label '0': {}\".format(sum(y_train_res == 0)))"
   ]
  },
  {
   "cell_type": "code",
   "execution_count": 183,
   "id": "14b5938a",
   "metadata": {},
   "outputs": [
    {
     "data": {
      "image/png": "[encoded data removed]",
      "text/plain": [
       "<Figure size 432x288 with 1 Axes>"
      ]
     },
     "metadata": {},
     "output_type": "display_data"
    }
   ],
   "source": [
    "#Attrition_Flag is in binary form, therefore we can use pie chart to visualize the proportions\n",
    "x = ['Existing', 'Attrited']\n",
    "y = [6786, 6786]\n",
    "labels = x\n",
    "sizes = y\n",
    "\n",
    "colors = ['blue', 'red']\n",
    "explode = (0, 0.1)  # explode 1st slice\n",
    "\n",
    "# Plot\n",
    "plt.pie(sizes, explode=explode, labels=labels, colors=colors,\n",
    "autopct='%1.1f%%', shadow=True, startangle=140)\n",
    "\n",
    "plt.title(' Proportion of attrited vs existed customers after SMOTE', fontsize=15)\n",
    "plt.axis('equal')\n",
    "plt.show()"
   ]
  },
  {
   "cell_type": "code",
   "execution_count": 184,
   "id": "c9355046",
   "metadata": {},
   "outputs": [
    {
     "name": "stdout",
     "output_type": "stream",
     "text": [
      "[[1677   37]\n",
      " [  48  264]]\n"
     ]
    },
    {
     "data": {
      "image/png": "[encoded data removed]",
      "text/plain": [
       "<Figure size 432x288 with 2 Axes>"
      ]
     },
     "metadata": {},
     "output_type": "display_data"
    },
    {
     "name": "stdout",
     "output_type": "stream",
     "text": [
      "Accuracy : 0.9580454096742349\n",
      "Precision : 0.8770764119601329\n",
      "Recall : 0.8461538461538461\n",
      "f2 : 0.8521626856036152\n",
      "              precision    recall  f1-score   support\n",
      "\n",
      "           0       0.97      0.98      0.98      1714\n",
      "           1       0.88      0.85      0.86       312\n",
      "\n",
      "    accuracy                           0.96      2026\n",
      "   macro avg       0.92      0.91      0.92      2026\n",
      "weighted avg       0.96      0.96      0.96      2026\n",
      "\n"
     ]
    }
   ],
   "source": [
    "model_smote = RandomForestClassifier(random_state= 12)\n",
    "model_smote.fit(X_train_res, y_train_res)\n",
    "y_pred_smote = model_smote.predict(X_test)\n",
    "cm_smote = confusion_matrix(y_test, y_pred_smote)\n",
    "print(cm_smote)\n",
    "sns.heatmap(cm_smote, annot=True, fmt='g')\n",
    "plt.show()\n",
    "print(\"Accuracy :\" , accuracy_score(y_test, y_pred_smote))\n",
    "print(\"Precision :\", precision_score(y_test, y_pred_smote))\n",
    "print(\"Recall :\", recall_score(y_test, y_pred_smote))\n",
    "print(\"f2 :\", fbeta_score(y_test, y_pred_smote, beta=2.0))\n",
    "print(classification_report(y_test, y_pred_smote))"
   ]
  },
  {
   "cell_type": "markdown",
   "id": "7d4a00e9",
   "metadata": {},
   "source": [
    "When we have a strong class imbalance, we have very few cases in one class, resulting in the model hardly ever predicting that class. Using SMOTE we can tweak the model to reduce false negatives (positives that are predicted as negative), at the cost of increasing false positives(negative but predicted positive). The result of using SMOTE is generally an increase in recall, at the cost of lower precision. This means that we will add more predictions of the minority class: some of them correct (increasing recall), but some of them wrong (decreasing precision). The overall model accuracy may also decrease, but this is not a problem: accuracy should not be used as a metric in case of imbalanced data.\n",
    "\n",
    "\n",
    "Before and After SMOTE :\n",
    "Recall of churners increase from 82.69 to 84.61 while the precision decreases from 94.16 to 87.70. We are able to identify more churners. "
   ]
  },
  {
   "cell_type": "markdown",
   "id": "654218e2",
   "metadata": {},
   "source": [
    "# Hyperparameter Tunning"
   ]
  },
  {
   "cell_type": "code",
   "execution_count": 191,
   "id": "472a8287",
   "metadata": {},
   "outputs": [],
   "source": [
    "from sklearn.model_selection import RandomizedSearchCV"
   ]
  },
  {
   "cell_type": "code",
   "execution_count": 192,
   "id": "343775c2",
   "metadata": {},
   "outputs": [],
   "source": [
    "n_estimators = [int(x) for x in np.linspace(start = 1, stop = 20, num = 20)] # number of trees in the random forest\n",
    "max_features = ['auto', 'sqrt'] # number of features in consideration at every split\n",
    "max_depth = [int(x) for x in np.linspace(10, 120, num = 12)] # maximum number of levels allowed in each decision tree\n",
    "min_samples_split = [2, 6, 10] # minimum sample number to split a node\n",
    "min_samples_leaf = [1, 3, 4] # minimum sample number that can be stored in a leaf node\n",
    "bootstrap = [True, False] # method used to sample data points\n",
    "\n",
    "random_param = {'n_estimators': n_estimators,\n",
    "\n",
    "'max_features': max_features,\n",
    "\n",
    "'max_depth': max_depth,\n",
    "\n",
    "'min_samples_split': min_samples_split,\n",
    "\n",
    "'min_samples_leaf': min_samples_leaf,\n",
    "\n",
    "'criterion': ['entropy', 'gini']}"
   ]
  },
  {
   "cell_type": "code",
   "execution_count": 193,
   "id": "9ac452f0",
   "metadata": {},
   "outputs": [
    {
     "name": "stdout",
     "output_type": "stream",
     "text": [
      "Fitting 5 folds for each of 20 candidates, totalling 100 fits\n"
     ]
    },
    {
     "data": {
      "text/plain": [
       "RandomizedSearchCV(cv=5, estimator=RandomForestClassifier(random_state=12),\n",
       "                   n_iter=20, n_jobs=-1,\n",
       "                   param_distributions={'criterion': ['entropy', 'gini'],\n",
       "                                        'max_depth': [10, 20, 30, 40, 50, 60,\n",
       "                                                      70, 80, 90, 100, 110,\n",
       "                                                      120],\n",
       "                                        'max_features': ['auto', 'sqrt'],\n",
       "                                        'min_samples_leaf': [1, 3, 4],\n",
       "                                        'min_samples_split': [2, 6, 10],\n",
       "                                        'n_estimators': [1, 2, 3, 4, 5, 6, 7, 8,\n",
       "                                                         9, 10, 11, 12, 13, 14,\n",
       "                                                         15, 16, 17, 18, 19,\n",
       "                                                         20]},\n",
       "                   verbose=5)"
      ]
     },
     "execution_count": 193,
     "metadata": {},
     "output_type": "execute_result"
    }
   ],
   "source": [
    "clf =  RandomForestClassifier(random_state= 12)\n",
    "model_rf_2 = RandomizedSearchCV(estimator = clf, param_distributions = random_param, n_iter = 20, \n",
    "                            cv = 5, verbose= 5, n_jobs = -1)\n",
    "model_rf_2.fit(X_train_res,y_train_res)"
   ]
  },
  {
   "cell_type": "code",
   "execution_count": 194,
   "id": "4d679893",
   "metadata": {},
   "outputs": [
    {
     "name": "stdout",
     "output_type": "stream",
     "text": [
      "RandomForestClassifier(criterion='entropy', max_depth=80, max_features='sqrt',\n",
      "                       min_samples_split=10, n_estimators=20, random_state=12)\n"
     ]
    },
    {
     "data": {
      "image/png": "[encoded data removed]",
      "text/plain": [
       "<Figure size 432x288 with 2 Axes>"
      ]
     },
     "metadata": {},
     "output_type": "display_data"
    }
   ],
   "source": [
    "table = pd.pivot_table(pd.DataFrame(model_rf_2.cv_results_), values='mean_test_score', index='param_n_estimators', \n",
    "                       columns='param_criterion')\n",
    "sns.heatmap(table)\n",
    "print(model_rf_2.best_estimator_)"
   ]
  },
  {
   "cell_type": "code",
   "execution_count": 195,
   "id": "45ede833",
   "metadata": {
    "scrolled": false
   },
   "outputs": [
    {
     "name": "stdout",
     "output_type": "stream",
     "text": [
      "[[1666   48]\n",
      " [  39  273]]\n"
     ]
    },
    {
     "data": {
      "image/png": "[encoded data removed]",
      "text/plain": [
       "<Figure size 432x288 with 2 Axes>"
      ]
     },
     "metadata": {},
     "output_type": "display_data"
    },
    {
     "name": "stdout",
     "output_type": "stream",
     "text": [
      "Accuracy : 0.9570582428430404\n",
      "Precision : 0.8504672897196262\n",
      "Recall : 0.875\n",
      "f2 : 0.869980879541109\n",
      "              precision    recall  f1-score   support\n",
      "\n",
      "           0       0.98      0.97      0.97      1714\n",
      "           1       0.85      0.88      0.86       312\n",
      "\n",
      "    accuracy                           0.96      2026\n",
      "   macro avg       0.91      0.92      0.92      2026\n",
      "weighted avg       0.96      0.96      0.96      2026\n",
      "\n",
      "[CV 4/5] END criterion=gini, max_depth=40, max_features=auto, min_samples_leaf=3, min_samples_split=6, n_estimators=15;, score=0.974 total time=   0.6s\n",
      "[CV 1/5] END criterion=gini, max_depth=20, max_features=sqrt, min_samples_leaf=1, min_samples_split=2, n_estimators=2;, score=0.838 total time=   0.1s\n",
      "[CV 4/5] END criterion=gini, max_depth=20, max_features=sqrt, min_samples_leaf=1, min_samples_split=2, n_estimators=2;, score=0.934 total time=   0.1s\n",
      "[CV 3/5] END criterion=entropy, max_depth=10, max_features=auto, min_samples_leaf=4, min_samples_split=6, n_estimators=4;, score=0.950 total time=   0.1s\n",
      "[CV 1/5] END criterion=entropy, max_depth=100, max_features=sqrt, min_samples_leaf=4, min_samples_split=2, n_estimators=8;, score=0.932 total time=   0.3s\n",
      "[CV 5/5] END criterion=entropy, max_depth=100, max_features=sqrt, min_samples_leaf=4, min_samples_split=2, n_estimators=8;, score=0.965 total time=   0.3s\n",
      "[CV 5/5] END criterion=gini, max_depth=120, max_features=auto, min_samples_leaf=4, min_samples_split=10, n_estimators=8;, score=0.965 total time=   0.3s\n",
      "[CV 3/5] END criterion=gini, max_depth=120, max_features=sqrt, min_samples_leaf=3, min_samples_split=6, n_estimators=19;, score=0.973 total time=   0.7s\n",
      "[CV 2/5] END criterion=entropy, max_depth=30, max_features=sqrt, min_samples_leaf=3, min_samples_split=2, n_estimators=17;, score=0.980 total time=   0.7s\n",
      "[CV 1/5] END criterion=gini, max_depth=110, max_features=auto, min_samples_leaf=1, min_samples_split=6, n_estimators=11;, score=0.930 total time=   0.5s\n",
      "[CV 4/5] END criterion=gini, max_depth=110, max_features=auto, min_samples_leaf=1, min_samples_split=6, n_estimators=11;, score=0.976 total time=   0.4s\n",
      "[CV 3/5] END criterion=entropy, max_depth=80, max_features=auto, min_samples_leaf=1, min_samples_split=10, n_estimators=15;, score=0.975 total time=   0.7s\n",
      "[CV 1/5] END criterion=entropy, max_depth=110, max_features=sqrt, min_samples_leaf=1, min_samples_split=10, n_estimators=4;, score=0.912 total time=   0.2s\n",
      "[CV 5/5] END criterion=entropy, max_depth=110, max_features=sqrt, min_samples_leaf=1, min_samples_split=10, n_estimators=4;, score=0.957 total time=   0.2s\n",
      "[CV 2/5] END criterion=gini, max_depth=10, max_features=sqrt, min_samples_leaf=4, min_samples_split=6, n_estimators=18;, score=0.974 total time=   0.5s\n",
      "[CV 1/5] END criterion=gini, max_depth=110, max_features=sqrt, min_samples_leaf=4, min_samples_split=10, n_estimators=15;, score=0.940 total time=   0.5s\n",
      "[CV 5/5] END criterion=gini, max_depth=110, max_features=sqrt, min_samples_leaf=4, min_samples_split=10, n_estimators=15;, score=0.970 total time=   0.5s\n",
      "[CV 1/5] END criterion=entropy, max_depth=40, max_features=sqrt, min_samples_leaf=1, min_samples_split=6, n_estimators=7;, score=0.934 total time=   0.3s\n",
      "[CV 1/5] END criterion=gini, max_depth=120, max_features=auto, min_samples_leaf=1, min_samples_split=10, n_estimators=1;, score=0.860 total time=   0.1s\n",
      "[CV 3/5] END criterion=gini, max_depth=120, max_features=auto, min_samples_leaf=1, min_samples_split=10, n_estimators=1;, score=0.909 total time=   0.1s\n",
      "[CV 5/5] END criterion=gini, max_depth=120, max_features=auto, min_samples_leaf=1, min_samples_split=10, n_estimators=1;, score=0.915 total time=   0.0s\n",
      "[CV 2/5] END criterion=entropy, max_depth=30, max_features=sqrt, min_samples_leaf=4, min_samples_split=10, n_estimators=12;, score=0.978 total time=   0.5s\n",
      "[CV 1/5] END criterion=gini, max_depth=90, max_features=auto, min_samples_leaf=3, min_samples_split=2, n_estimators=15;, score=0.937 total time=   0.5s\n",
      "[CV 1/5] END criterion=gini, max_depth=110, max_features=auto, min_samples_leaf=3, min_samples_split=10, n_estimators=1;, score=0.854 total time=   0.1s\n",
      "[CV 2/5] END criterion=gini, max_depth=110, max_features=auto, min_samples_leaf=3, min_samples_split=10, n_estimators=1;, score=0.918 total time=   0.1s\n",
      "[CV 4/5] END criterion=gini, max_depth=110, max_features=auto, min_samples_leaf=3, min_samples_split=10, n_estimators=1;, score=0.919 total time=   0.1s\n",
      "[CV 1/5] END criterion=entropy, max_depth=30, max_features=sqrt, min_samples_leaf=1, min_samples_split=10, n_estimators=13;, score=0.940 total time=   0.6s\n",
      "[CV 5/5] END criterion=entropy, max_depth=30, max_features=sqrt, min_samples_leaf=1, min_samples_split=10, n_estimators=13;, score=0.977 total time=   0.5s\n",
      "[CV 1/5] END criterion=entropy, max_depth=70, max_features=sqrt, min_samples_leaf=3, min_samples_split=2, n_estimators=3;, score=0.912 total time=   0.2s\n",
      "[CV 3/5] END criterion=gini, max_depth=20, max_features=sqrt, min_samples_leaf=4, min_samples_split=2, n_estimators=8;, score=0.965 total time=   0.2s\n",
      "[CV 5/5] END criterion=gini, max_depth=20, max_features=sqrt, min_samples_leaf=4, min_samples_split=2, n_estimators=8;, score=0.971 total time=   0.4s\n",
      "[CV 4/5] END criterion=entropy, max_depth=60, max_features=sqrt, min_samples_leaf=3, min_samples_split=6, n_estimators=11;, score=0.978 total time=   0.7s\n",
      "[CV 4/5] END criterion=gini, max_depth=90, max_features=sqrt, min_samples_leaf=1, min_samples_split=6, n_estimators=5;, score=0.968 total time=   0.2s\n",
      "[CV 2/5] END criterion=gini, max_depth=30, max_features=auto, min_samples_leaf=4, min_samples_split=10, n_estimators=9;, score=0.968 total time=   0.3s\n",
      "[CV 1/5] END criterion=gini, max_depth=100, max_features=auto, min_samples_leaf=4, min_samples_split=10, n_estimators=16;, score=0.940 total time=   0.6s\n",
      "[CV 1/5] END criterion=entropy, max_depth=80, max_features=auto, min_samples_leaf=1, min_samples_split=6, n_estimators=10;, score=0.935 total time=   0.4s\n",
      "[CV 5/5] END criterion=entropy, max_depth=80, max_features=auto, min_samples_leaf=1, min_samples_split=6, n_estimators=10;, score=0.973 total time=   0.6s\n",
      "[CV 5/5] END criterion=gini, max_depth=90, max_features=auto, min_samples_leaf=3, min_samples_split=6, n_estimators=7;, score=0.971 total time=   0.4s\n",
      "[CV 3/5] END criterion=gini, max_depth=30, max_features=auto, min_samples_leaf=4, min_samples_split=6, n_estimators=20;, score=0.974 total time=   0.8s\n",
      "[CV 2/5] END criterion=entropy, max_depth=30, max_features=auto, min_samples_leaf=4, min_samples_split=10, n_estimators=18;, score=0.980 total time=   0.8s\n",
      "[CV 1/5] END criterion=entropy, max_depth=10, max_features=sqrt, min_samples_leaf=3, min_samples_split=2, n_estimators=14;, score=0.938 total time=   0.6s\n",
      "[CV 4/5] END criterion=entropy, max_depth=10, max_features=sqrt, min_samples_leaf=3, min_samples_split=2, n_estimators=14;, score=0.971 total time=   0.5s\n",
      "[CV 4/5] END criterion=gini, max_depth=50, max_features=auto, min_samples_leaf=3, min_samples_split=10, n_estimators=8;, score=0.973 total time=   0.3s\n",
      "[CV 3/5] END criterion=entropy, max_depth=110, max_features=auto, min_samples_leaf=1, min_samples_split=6, n_estimators=3;, score=0.958 total time=   0.2s\n",
      "[CV 2/5] END criterion=entropy, max_depth=80, max_features=sqrt, min_samples_leaf=1, min_samples_split=10, n_estimators=20;, score=0.982 total time=   0.7s\n",
      "[CV 5/5] END criterion=entropy, max_depth=80, max_features=sqrt, min_samples_leaf=1, min_samples_split=10, n_estimators=20;, score=0.976 total time=   0.7s\n",
      "[CV 3/5] END criterion=gini, max_depth=20, max_features=sqrt, min_samples_leaf=3, min_samples_split=6, n_estimators=8;, score=0.968 total time=   0.2s\n",
      "[CV 2/5] END criterion=gini, max_depth=10, max_features=auto, min_samples_leaf=3, min_samples_split=10, n_estimators=20;, score=0.973 total time=   0.6s\n",
      "[CV 1/5] END criterion=entropy, max_depth=90, max_features=auto, min_samples_leaf=1, min_samples_split=10, n_estimators=9;, score=0.933 total time=   0.3s\n",
      "[CV 4/5] END criterion=entropy, max_depth=90, max_features=auto, min_samples_leaf=1, min_samples_split=10, n_estimators=9;, score=0.974 total time=   0.3s\n",
      "[CV 4/5] END criterion=gini, max_depth=70, max_features=auto, min_samples_leaf=3, min_samples_split=2, n_estimators=7;, score=0.969 total time=   0.2s\n",
      "[CV 3/5] END criterion=entropy, max_depth=70, max_features=sqrt, min_samples_leaf=4, min_samples_split=2, n_estimators=20;, score=0.972 total time=   0.7s\n",
      "[CV 2/5] END criterion=gini, max_depth=40, max_features=auto, min_samples_leaf=3, min_samples_split=6, n_estimators=15;, score=0.977 total time=   0.6s\n",
      "[CV 5/5] END criterion=gini, max_depth=40, max_features=auto, min_samples_leaf=3, min_samples_split=6, n_estimators=15;, score=0.975 total time=   0.5s\n",
      "[CV 4/5] END criterion=entropy, max_depth=100, max_features=sqrt, min_samples_leaf=4, min_samples_split=2, n_estimators=8;, score=0.975 total time=   0.3s\n",
      "[CV 3/5] END criterion=gini, max_depth=120, max_features=auto, min_samples_leaf=4, min_samples_split=10, n_estimators=8;, score=0.966 total time=   0.4s\n",
      "[CV 1/5] END criterion=gini, max_depth=120, max_features=sqrt, min_samples_leaf=3, min_samples_split=6, n_estimators=19;, score=0.938 total time=   0.7s\n",
      "[CV 1/5] END criterion=entropy, max_depth=30, max_features=sqrt, min_samples_leaf=3, min_samples_split=2, n_estimators=17;, score=0.948 total time=   0.7s\n",
      "[CV 5/5] END criterion=entropy, max_depth=30, max_features=sqrt, min_samples_leaf=3, min_samples_split=2, n_estimators=17;, score=0.973 total time=   0.8s\n",
      "[CV 1/5] END criterion=entropy, max_depth=80, max_features=auto, min_samples_leaf=1, min_samples_split=10, n_estimators=15;, score=0.943 total time=   0.7s\n",
      "[CV 5/5] END criterion=entropy, max_depth=80, max_features=auto, min_samples_leaf=1, min_samples_split=10, n_estimators=15;, score=0.978 total time=   0.6s\n",
      "[CV 4/5] END criterion=gini, max_depth=10, max_features=sqrt, min_samples_leaf=4, min_samples_split=6, n_estimators=18;, score=0.974 total time=   0.5s\n",
      "[CV 3/5] END criterion=gini, max_depth=110, max_features=sqrt, min_samples_leaf=4, min_samples_split=10, n_estimators=15;, score=0.970 total time=   0.5s\n",
      "[CV 2/5] END criterion=entropy, max_depth=120, max_features=sqrt, min_samples_leaf=3, min_samples_split=6, n_estimators=5;, score=0.972 total time=   0.2s\n",
      "[CV 4/5] END criterion=entropy, max_depth=120, max_features=sqrt, min_samples_leaf=3, min_samples_split=6, n_estimators=5;, score=0.971 total time=   0.2s\n",
      "[CV 3/5] END criterion=entropy, max_depth=40, max_features=sqrt, min_samples_leaf=1, min_samples_split=6, n_estimators=7;, score=0.968 total time=   0.3s\n",
      "[CV 2/5] END criterion=gini, max_depth=120, max_features=auto, min_samples_leaf=1, min_samples_split=10, n_estimators=1;, score=0.921 total time=   0.1s\n",
      "[CV 4/5] END criterion=gini, max_depth=120, max_features=auto, min_samples_leaf=1, min_samples_split=10, n_estimators=1;, score=0.924 total time=   0.0s\n",
      "[CV 1/5] END criterion=entropy, max_depth=30, max_features=sqrt, min_samples_leaf=4, min_samples_split=10, n_estimators=12;, score=0.935 total time=   0.5s\n",
      "[CV 5/5] END criterion=entropy, max_depth=30, max_features=sqrt, min_samples_leaf=4, min_samples_split=10, n_estimators=12;, score=0.972 total time=   0.4s\n",
      "[CV 4/5] END criterion=gini, max_depth=90, max_features=auto, min_samples_leaf=3, min_samples_split=2, n_estimators=15;, score=0.974 total time=   0.6s\n",
      "[CV 3/5] END criterion=entropy, max_depth=30, max_features=sqrt, min_samples_leaf=1, min_samples_split=10, n_estimators=13;, score=0.974 total time=   0.6s\n",
      "[CV 3/5] END criterion=entropy, max_depth=100, max_features=sqrt, min_samples_leaf=3, min_samples_split=6, n_estimators=5;, score=0.961 total time=   0.2s\n",
      "[CV 2/5] END criterion=entropy, max_depth=70, max_features=sqrt, min_samples_leaf=3, min_samples_split=2, n_estimators=3;, score=0.965 total time=   0.2s\n",
      "[CV 2/5] END criterion=gini, max_depth=20, max_features=sqrt, min_samples_leaf=4, min_samples_split=2, n_estimators=8;, score=0.971 total time=   0.3s\n",
      "[CV 1/5] END criterion=entropy, max_depth=60, max_features=sqrt, min_samples_leaf=3, min_samples_split=6, n_estimators=11;, score=0.944 total time=   0.6s\n",
      "[CV 1/5] END criterion=gini, max_depth=90, max_features=sqrt, min_samples_leaf=1, min_samples_split=6, n_estimators=5;, score=0.909 total time=   0.4s\n",
      "[CV 3/5] END criterion=gini, max_depth=90, max_features=sqrt, min_samples_leaf=1, min_samples_split=6, n_estimators=5;, score=0.963 total time=   0.2s\n",
      "[CV 1/5] END criterion=gini, max_depth=30, max_features=auto, min_samples_leaf=4, min_samples_split=10, n_estimators=9;, score=0.924 total time=   0.3s\n",
      "[CV 5/5] END criterion=gini, max_depth=30, max_features=auto, min_samples_leaf=4, min_samples_split=10, n_estimators=9;, score=0.969 total time=   0.3s\n",
      "[CV 4/5] END criterion=gini, max_depth=100, max_features=auto, min_samples_leaf=4, min_samples_split=10, n_estimators=16;, score=0.976 total time=   0.6s\n",
      "[CV 3/5] END criterion=entropy, max_depth=80, max_features=auto, min_samples_leaf=1, min_samples_split=6, n_estimators=10;, score=0.974 total time=   0.6s\n",
      "[CV 2/5] END criterion=gini, max_depth=90, max_features=auto, min_samples_leaf=3, min_samples_split=6, n_estimators=7;, score=0.971 total time=   0.3s\n",
      "[CV 1/5] END criterion=gini, max_depth=30, max_features=auto, min_samples_leaf=4, min_samples_split=6, n_estimators=20;, score=0.940 total time=   0.8s\n",
      "[CV 5/5] END criterion=gini, max_depth=30, max_features=auto, min_samples_leaf=4, min_samples_split=6, n_estimators=20;, score=0.973 total time=   0.7s\n",
      "[CV 4/5] END criterion=entropy, max_depth=30, max_features=auto, min_samples_leaf=4, min_samples_split=10, n_estimators=18;, score=0.978 total time=   0.8s\n",
      "[CV 5/5] END criterion=entropy, max_depth=10, max_features=sqrt, min_samples_leaf=3, min_samples_split=2, n_estimators=14;, score=0.965 total time=   0.5s\n",
      "[CV 5/5] END criterion=gini, max_depth=50, max_features=auto, min_samples_leaf=3, min_samples_split=10, n_estimators=8;, score=0.971 total time=   0.3s\n",
      "[CV 5/5] END criterion=entropy, max_depth=110, max_features=auto, min_samples_leaf=1, min_samples_split=6, n_estimators=3;, score=0.957 total time=   0.1s\n",
      "[CV 4/5] END criterion=entropy, max_depth=80, max_features=sqrt, min_samples_leaf=1, min_samples_split=10, n_estimators=20;, score=0.979 total time=   0.8s\n",
      "[CV 2/5] END criterion=gini, max_depth=110, max_features=auto, min_samples_leaf=4, min_samples_split=6, n_estimators=12;, score=0.974 total time=   0.4s\n",
      "[CV 4/5] END criterion=gini, max_depth=110, max_features=auto, min_samples_leaf=4, min_samples_split=6, n_estimators=12;, score=0.972 total time=   0.4s\n",
      "[CV 5/5] END criterion=gini, max_depth=20, max_features=sqrt, min_samples_leaf=3, min_samples_split=6, n_estimators=8;, score=0.971 total time=   0.3s\n",
      "[CV 4/5] END criterion=gini, max_depth=10, max_features=auto, min_samples_leaf=3, min_samples_split=10, n_estimators=20;, score=0.971 total time=   0.6s\n",
      "[CV 3/5] END criterion=entropy, max_depth=90, max_features=auto, min_samples_leaf=1, min_samples_split=10, n_estimators=9;, score=0.972 total time=   0.3s\n",
      "[CV 1/5] END criterion=gini, max_depth=70, max_features=auto, min_samples_leaf=3, min_samples_split=2, n_estimators=7;, score=0.922 total time=   0.2s\n",
      "[CV 3/5] END criterion=gini, max_depth=70, max_features=auto, min_samples_leaf=3, min_samples_split=2, n_estimators=7;, score=0.966 total time=   0.2s\n",
      "[CV 2/5] END criterion=entropy, max_depth=70, max_features=sqrt, min_samples_leaf=4, min_samples_split=2, n_estimators=20;, score=0.981 total time=   0.7s\n",
      "[CV 3/5] END criterion=gini, max_depth=40, max_features=auto, min_samples_leaf=3, min_samples_split=6, n_estimators=15;, score=0.972 total time=   0.6s\n",
      "[CV 2/5] END criterion=gini, max_depth=20, max_features=sqrt, min_samples_leaf=1, min_samples_split=2, n_estimators=2;, score=0.938 total time=   0.1s\n",
      "[CV 5/5] END criterion=gini, max_depth=20, max_features=sqrt, min_samples_leaf=1, min_samples_split=2, n_estimators=2;, score=0.922 total time=   0.1s\n",
      "[CV 2/5] END criterion=entropy, max_depth=10, max_features=auto, min_samples_leaf=4, min_samples_split=6, n_estimators=4;, score=0.962 total time=   0.1s\n",
      "[CV 5/5] END criterion=entropy, max_depth=10, max_features=auto, min_samples_leaf=4, min_samples_split=6, n_estimators=4;, score=0.958 total time=   0.1s\n",
      "[CV 3/5] END criterion=entropy, max_depth=100, max_features=sqrt, min_samples_leaf=4, min_samples_split=2, n_estimators=8;, score=0.967 total time=   0.3s\n",
      "[CV 2/5] END criterion=gini, max_depth=120, max_features=auto, min_samples_leaf=4, min_samples_split=10, n_estimators=8;, score=0.968 total time=   0.4s\n",
      "[CV 2/5] END criterion=gini, max_depth=120, max_features=sqrt, min_samples_leaf=3, min_samples_split=6, n_estimators=19;, score=0.976 total time=   0.6s\n",
      "[CV 5/5] END criterion=gini, max_depth=120, max_features=sqrt, min_samples_leaf=3, min_samples_split=6, n_estimators=19;, score=0.975 total time=   0.6s\n",
      "[CV 4/5] END criterion=entropy, max_depth=30, max_features=sqrt, min_samples_leaf=3, min_samples_split=2, n_estimators=17;, score=0.980 total time=   0.8s\n",
      "[CV 5/5] END criterion=gini, max_depth=110, max_features=auto, min_samples_leaf=1, min_samples_split=6, n_estimators=11;, score=0.972 total time=   0.4s\n",
      "[CV 4/5] END criterion=entropy, max_depth=80, max_features=auto, min_samples_leaf=1, min_samples_split=10, n_estimators=15;, score=0.976 total time=   0.7s\n",
      "[CV 3/5] END criterion=entropy, max_depth=110, max_features=sqrt, min_samples_leaf=1, min_samples_split=10, n_estimators=4;, score=0.959 total time=   0.2s\n",
      "[CV 1/5] END criterion=gini, max_depth=10, max_features=sqrt, min_samples_leaf=4, min_samples_split=6, n_estimators=18;, score=0.936 total time=   0.6s\n",
      "[CV 5/5] END criterion=gini, max_depth=10, max_features=sqrt, min_samples_leaf=4, min_samples_split=6, n_estimators=18;, score=0.968 total time=   0.5s\n",
      "[CV 4/5] END criterion=gini, max_depth=110, max_features=sqrt, min_samples_leaf=4, min_samples_split=10, n_estimators=15;, score=0.975 total time=   0.5s\n",
      "[CV 5/5] END criterion=entropy, max_depth=120, max_features=sqrt, min_samples_leaf=3, min_samples_split=6, n_estimators=5;, score=0.967 total time=   0.2s\n",
      "[CV 4/5] END criterion=entropy, max_depth=40, max_features=sqrt, min_samples_leaf=1, min_samples_split=6, n_estimators=7;, score=0.977 total time=   0.3s\n",
      "[CV 3/5] END criterion=entropy, max_depth=30, max_features=sqrt, min_samples_leaf=4, min_samples_split=10, n_estimators=12;, score=0.969 total time=   0.5s\n",
      "[CV 2/5] END criterion=gini, max_depth=90, max_features=auto, min_samples_leaf=3, min_samples_split=2, n_estimators=15;, score=0.977 total time=   0.5s\n",
      "[CV 5/5] END criterion=gini, max_depth=90, max_features=auto, min_samples_leaf=3, min_samples_split=2, n_estimators=15;, score=0.975 total time=   0.6s\n",
      "[CV 4/5] END criterion=entropy, max_depth=30, max_features=sqrt, min_samples_leaf=1, min_samples_split=10, n_estimators=13;, score=0.976 total time=   0.5s\n",
      "[CV 4/5] END criterion=entropy, max_depth=100, max_features=sqrt, min_samples_leaf=3, min_samples_split=6, n_estimators=5;, score=0.971 total time=   0.2s\n",
      "[CV 3/5] END criterion=entropy, max_depth=70, max_features=sqrt, min_samples_leaf=3, min_samples_split=2, n_estimators=3;, score=0.952 total time=   0.2s\n",
      "[CV 5/5] END criterion=entropy, max_depth=70, max_features=sqrt, min_samples_leaf=3, min_samples_split=2, n_estimators=3;, score=0.962 total time=   0.1s\n",
      "[CV 4/5] END criterion=gini, max_depth=20, max_features=sqrt, min_samples_leaf=4, min_samples_split=2, n_estimators=8;, score=0.973 total time=   0.3s\n",
      "[CV 3/5] END criterion=entropy, max_depth=60, max_features=sqrt, min_samples_leaf=3, min_samples_split=6, n_estimators=11;, score=0.972 total time=   0.5s\n",
      "[CV 2/5] END criterion=gini, max_depth=90, max_features=sqrt, min_samples_leaf=1, min_samples_split=6, n_estimators=5;, score=0.973 total time=   0.4s\n",
      "[CV 5/5] END criterion=gini, max_depth=90, max_features=sqrt, min_samples_leaf=1, min_samples_split=6, n_estimators=5;, score=0.972 total time=   0.2s\n",
      "[CV 4/5] END criterion=gini, max_depth=30, max_features=auto, min_samples_leaf=4, min_samples_split=10, n_estimators=9;, score=0.972 total time=   0.3s\n",
      "[CV 3/5] END criterion=gini, max_depth=100, max_features=auto, min_samples_leaf=4, min_samples_split=10, n_estimators=16;, score=0.969 total time=   0.6s\n",
      "[CV 2/5] END criterion=entropy, max_depth=80, max_features=auto, min_samples_leaf=1, min_samples_split=6, n_estimators=10;, score=0.978 total time=   0.4s\n",
      "[CV 4/5] END criterion=entropy, max_depth=80, max_features=auto, min_samples_leaf=1, min_samples_split=6, n_estimators=10;, score=0.977 total time=   0.6s\n",
      "[CV 4/5] END criterion=gini, max_depth=90, max_features=auto, min_samples_leaf=3, min_samples_split=6, n_estimators=7;, score=0.969 total time=   0.4s\n",
      "[CV 4/5] END criterion=gini, max_depth=30, max_features=auto, min_samples_leaf=4, min_samples_split=6, n_estimators=20;, score=0.979 total time=   0.8s\n",
      "[CV 3/5] END criterion=entropy, max_depth=30, max_features=auto, min_samples_leaf=4, min_samples_split=10, n_estimators=18;, score=0.971 total time=   0.8s\n",
      "[CV 2/5] END criterion=entropy, max_depth=10, max_features=sqrt, min_samples_leaf=3, min_samples_split=2, n_estimators=14;, score=0.972 total time=   0.5s\n",
      "[CV 3/5] END criterion=entropy, max_depth=10, max_features=sqrt, min_samples_leaf=3, min_samples_split=2, n_estimators=14;, score=0.959 total time=   0.5s\n",
      "[CV 3/5] END criterion=gini, max_depth=50, max_features=auto, min_samples_leaf=3, min_samples_split=10, n_estimators=8;, score=0.967 total time=   0.3s\n",
      "[CV 2/5] END criterion=entropy, max_depth=110, max_features=auto, min_samples_leaf=1, min_samples_split=6, n_estimators=3;, score=0.957 total time=   0.2s\n",
      "[CV 1/5] END criterion=entropy, max_depth=80, max_features=sqrt, min_samples_leaf=1, min_samples_split=10, n_estimators=20;, score=0.944 total time=   0.8s\n",
      "[CV 3/5] END criterion=gini, max_depth=110, max_features=auto, min_samples_leaf=4, min_samples_split=6, n_estimators=12;, score=0.969 total time=   0.4s\n",
      "[CV 5/5] END criterion=gini, max_depth=110, max_features=auto, min_samples_leaf=4, min_samples_split=6, n_estimators=12;, score=0.972 total time=   0.4s\n",
      "[CV 4/5] END criterion=gini, max_depth=20, max_features=sqrt, min_samples_leaf=3, min_samples_split=6, n_estimators=8;, score=0.969 total time=   0.2s\n",
      "[CV 3/5] END criterion=gini, max_depth=10, max_features=auto, min_samples_leaf=3, min_samples_split=10, n_estimators=20;, score=0.965 total time=   0.6s\n",
      "[CV 2/5] END criterion=entropy, max_depth=90, max_features=auto, min_samples_leaf=1, min_samples_split=10, n_estimators=9;, score=0.978 total time=   0.3s\n",
      "[CV 5/5] END criterion=entropy, max_depth=90, max_features=auto, min_samples_leaf=1, min_samples_split=10, n_estimators=9;, score=0.973 total time=   0.3s\n",
      "[CV 5/5] END criterion=gini, max_depth=70, max_features=auto, min_samples_leaf=3, min_samples_split=2, n_estimators=7;, score=0.971 total time=   0.2s\n",
      "[CV 4/5] END criterion=entropy, max_depth=70, max_features=sqrt, min_samples_leaf=4, min_samples_split=2, n_estimators=20;, score=0.982 total time=   0.7s\n",
      "[CV 1/5] END criterion=gini, max_depth=40, max_features=auto, min_samples_leaf=3, min_samples_split=6, n_estimators=15;, score=0.937 total time=   0.6s\n",
      "[CV 3/5] END criterion=gini, max_depth=20, max_features=sqrt, min_samples_leaf=1, min_samples_split=2, n_estimators=2;, score=0.942 total time=   0.1s\n",
      "[CV 1/5] END criterion=entropy, max_depth=10, max_features=auto, min_samples_leaf=4, min_samples_split=6, n_estimators=4;, score=0.918 total time=   0.2s\n",
      "[CV 4/5] END criterion=entropy, max_depth=10, max_features=auto, min_samples_leaf=4, min_samples_split=6, n_estimators=4;, score=0.963 total time=   0.1s\n",
      "[CV 2/5] END criterion=entropy, max_depth=100, max_features=sqrt, min_samples_leaf=4, min_samples_split=2, n_estimators=8;, score=0.978 total time=   0.3s\n",
      "[CV 1/5] END criterion=gini, max_depth=120, max_features=auto, min_samples_leaf=4, min_samples_split=10, n_estimators=8;, score=0.922 total time=   0.3s\n",
      "[CV 4/5] END criterion=gini, max_depth=120, max_features=auto, min_samples_leaf=4, min_samples_split=10, n_estimators=8;, score=0.970 total time=   0.3s\n",
      "[CV 4/5] END criterion=gini, max_depth=120, max_features=sqrt, min_samples_leaf=3, min_samples_split=6, n_estimators=19;, score=0.977 total time=   0.7s\n",
      "[CV 3/5] END criterion=entropy, max_depth=30, max_features=sqrt, min_samples_leaf=3, min_samples_split=2, n_estimators=17;, score=0.976 total time=   0.7s\n",
      "[CV 2/5] END criterion=gini, max_depth=110, max_features=auto, min_samples_leaf=1, min_samples_split=6, n_estimators=11;, score=0.978 total time=   0.5s\n",
      "[CV 3/5] END criterion=gini, max_depth=110, max_features=auto, min_samples_leaf=1, min_samples_split=6, n_estimators=11;, score=0.974 total time=   0.4s\n",
      "[CV 2/5] END criterion=entropy, max_depth=80, max_features=auto, min_samples_leaf=1, min_samples_split=10, n_estimators=15;, score=0.981 total time=   0.7s\n",
      "[CV 2/5] END criterion=entropy, max_depth=110, max_features=sqrt, min_samples_leaf=1, min_samples_split=10, n_estimators=4;, score=0.968 total time=   0.2s\n",
      "[CV 4/5] END criterion=entropy, max_depth=110, max_features=sqrt, min_samples_leaf=1, min_samples_split=10, n_estimators=4;, score=0.966 total time=   0.2s\n",
      "[CV 3/5] END criterion=gini, max_depth=10, max_features=sqrt, min_samples_leaf=4, min_samples_split=6, n_estimators=18;, score=0.966 total time=   0.6s\n",
      "[CV 2/5] END criterion=gini, max_depth=110, max_features=sqrt, min_samples_leaf=4, min_samples_split=10, n_estimators=15;, score=0.974 total time=   0.5s\n",
      "[CV 1/5] END criterion=entropy, max_depth=120, max_features=sqrt, min_samples_leaf=3, min_samples_split=6, n_estimators=5;, score=0.926 total time=   0.2s\n",
      "[CV 3/5] END criterion=entropy, max_depth=120, max_features=sqrt, min_samples_leaf=3, min_samples_split=6, n_estimators=5;, score=0.961 total time=   0.2s\n",
      "[CV 2/5] END criterion=entropy, max_depth=40, max_features=sqrt, min_samples_leaf=1, min_samples_split=6, n_estimators=7;, score=0.976 total time=   0.3s\n",
      "[CV 5/5] END criterion=entropy, max_depth=40, max_features=sqrt, min_samples_leaf=1, min_samples_split=6, n_estimators=7;, score=0.972 total time=   0.3s\n",
      "[CV 4/5] END criterion=entropy, max_depth=30, max_features=sqrt, min_samples_leaf=4, min_samples_split=10, n_estimators=12;, score=0.977 total time=   0.4s\n",
      "[CV 3/5] END criterion=gini, max_depth=90, max_features=auto, min_samples_leaf=3, min_samples_split=2, n_estimators=15;, score=0.972 total time=   0.5s\n",
      "[CV 3/5] END criterion=gini, max_depth=110, max_features=auto, min_samples_leaf=3, min_samples_split=10, n_estimators=1;, score=0.931 total time=   0.1s\n",
      "[CV 5/5] END criterion=gini, max_depth=110, max_features=auto, min_samples_leaf=3, min_samples_split=10, n_estimators=1;, score=0.923 total time=   0.1s\n",
      "[CV 2/5] END criterion=entropy, max_depth=30, max_features=sqrt, min_samples_leaf=1, min_samples_split=10, n_estimators=13;, score=0.980 total time=   0.5s\n",
      "[CV 1/5] END criterion=entropy, max_depth=100, max_features=sqrt, min_samples_leaf=3, min_samples_split=6, n_estimators=5;, score=0.926 total time=   0.2s\n",
      "[CV 2/5] END criterion=entropy, max_depth=100, max_features=sqrt, min_samples_leaf=3, min_samples_split=6, n_estimators=5;, score=0.972 total time=   0.2s\n",
      "[CV 5/5] END criterion=entropy, max_depth=100, max_features=sqrt, min_samples_leaf=3, min_samples_split=6, n_estimators=5;, score=0.967 total time=   0.2s\n",
      "[CV 4/5] END criterion=entropy, max_depth=70, max_features=sqrt, min_samples_leaf=3, min_samples_split=2, n_estimators=3;, score=0.961 total time=   0.2s\n",
      "[CV 1/5] END criterion=gini, max_depth=20, max_features=sqrt, min_samples_leaf=4, min_samples_split=2, n_estimators=8;, score=0.933 total time=   0.3s\n",
      "[CV 2/5] END criterion=entropy, max_depth=60, max_features=sqrt, min_samples_leaf=3, min_samples_split=6, n_estimators=11;, score=0.976 total time=   0.5s\n",
      "[CV 5/5] END criterion=entropy, max_depth=60, max_features=sqrt, min_samples_leaf=3, min_samples_split=6, n_estimators=11;, score=0.971 total time=   0.7s\n",
      "[CV 3/5] END criterion=gini, max_depth=30, max_features=auto, min_samples_leaf=4, min_samples_split=10, n_estimators=9;, score=0.965 total time=   0.3s\n",
      "[CV 2/5] END criterion=gini, max_depth=100, max_features=auto, min_samples_leaf=4, min_samples_split=10, n_estimators=16;, score=0.975 total time=   0.5s\n",
      "[CV 5/5] END criterion=gini, max_depth=100, max_features=auto, min_samples_leaf=4, min_samples_split=10, n_estimators=16;, score=0.970 total time=   0.7s\n",
      "[CV 1/5] END criterion=gini, max_depth=90, max_features=auto, min_samples_leaf=3, min_samples_split=6, n_estimators=7;, score=0.922 total time=   0.3s\n",
      "[CV 3/5] END criterion=gini, max_depth=90, max_features=auto, min_samples_leaf=3, min_samples_split=6, n_estimators=7;, score=0.966 total time=   0.4s\n",
      "[CV 2/5] END criterion=gini, max_depth=30, max_features=auto, min_samples_leaf=4, min_samples_split=6, n_estimators=20;, score=0.979 total time=   0.8s\n",
      "[CV 1/5] END criterion=entropy, max_depth=30, max_features=auto, min_samples_leaf=4, min_samples_split=10, n_estimators=18;, score=0.947 total time=   0.8s\n",
      "[CV 5/5] END criterion=entropy, max_depth=30, max_features=auto, min_samples_leaf=4, min_samples_split=10, n_estimators=18;, score=0.974 total time=   0.8s\n",
      "[CV 1/5] END criterion=gini, max_depth=50, max_features=auto, min_samples_leaf=3, min_samples_split=10, n_estimators=8;, score=0.933 total time=   0.3s\n",
      "[CV 2/5] END criterion=gini, max_depth=50, max_features=auto, min_samples_leaf=3, min_samples_split=10, n_estimators=8;, score=0.975 total time=   0.3s\n",
      "[CV 1/5] END criterion=entropy, max_depth=110, max_features=auto, min_samples_leaf=1, min_samples_split=6, n_estimators=3;, score=0.914 total time=   0.1s\n",
      "[CV 4/5] END criterion=entropy, max_depth=110, max_features=auto, min_samples_leaf=1, min_samples_split=6, n_estimators=3;, score=0.966 total time=   0.2s\n",
      "[CV 3/5] END criterion=entropy, max_depth=80, max_features=sqrt, min_samples_leaf=1, min_samples_split=10, n_estimators=20;, score=0.976 total time=   0.7s\n",
      "[CV 1/5] END criterion=gini, max_depth=110, max_features=auto, min_samples_leaf=4, min_samples_split=6, n_estimators=12;, score=0.935 total time=   0.4s\n",
      "[CV 1/5] END criterion=gini, max_depth=20, max_features=sqrt, min_samples_leaf=3, min_samples_split=6, n_estimators=8;, score=0.930 total time=   0.3s\n",
      "[CV 2/5] END criterion=gini, max_depth=20, max_features=sqrt, min_samples_leaf=3, min_samples_split=6, n_estimators=8;, score=0.974 total time=   0.2s\n",
      "[CV 1/5] END criterion=gini, max_depth=10, max_features=auto, min_samples_leaf=3, min_samples_split=10, n_estimators=20;, score=0.937 total time=   0.6s\n",
      "[CV 5/5] END criterion=gini, max_depth=10, max_features=auto, min_samples_leaf=3, min_samples_split=10, n_estimators=20;, score=0.972 total time=   0.5s\n",
      "[CV 2/5] END criterion=gini, max_depth=70, max_features=auto, min_samples_leaf=3, min_samples_split=2, n_estimators=7;, score=0.971 total time=   0.2s\n",
      "[CV 1/5] END criterion=entropy, max_depth=70, max_features=sqrt, min_samples_leaf=4, min_samples_split=2, n_estimators=20;, score=0.940 total time=   0.7s\n",
      "[CV 5/5] END criterion=entropy, max_depth=70, max_features=sqrt, min_samples_leaf=4, min_samples_split=2, n_estimators=20;, score=0.977 total time=   0.5s\n"
     ]
    }
   ],
   "source": [
    "y_pred_be = model_rf_2.best_estimator_.predict(X_test)\n",
    "cm_be = confusion_matrix(y_test, y_pred_be)\n",
    "print(cm_be)\n",
    "sns.heatmap(cm_be, annot=True, fmt='g')\n",
    "plt.show()\n",
    "print(\"Accuracy :\", accuracy_score(y_test, y_pred_be))\n",
    "print(\"Precision :\", precision_score(y_test, y_pred_be))\n",
    "print(\"Recall :\", recall_score(y_test, y_pred_be))\n",
    "print(\"f2 :\", fbeta_score(y_test, y_pred_be, beta=2.0))\n",
    "print(classification_report(y_test, y_pred_be))"
   ]
  },
  {
   "cell_type": "code",
   "execution_count": 102,
   "id": "c26fb5dd",
   "metadata": {},
   "outputs": [],
   "source": [
    "from sklearn.metrics import roc_curve, roc_auc_score"
   ]
  },
  {
   "cell_type": "code",
   "execution_count": 172,
   "id": "8636df90",
   "metadata": {
    "scrolled": true
   },
   "outputs": [
    {
     "data": {
      "image/png": "[encoded data removed]",
      "text/plain": [
       "<Figure size 432x288 with 1 Axes>"
      ]
     },
     "metadata": {},
     "output_type": "display_data"
    },
    {
     "name": "stdout",
     "output_type": "stream",
     "text": [
      "[CV 3/5] END criterion=gini, max_depth=20, max_features=sqrt, min_samples_leaf=3, min_samples_split=6, n_estimators=1;, score=0.924 total time=   0.1s\n",
      "[CV 3/5] END criterion=entropy, max_depth=100, max_features=sqrt, min_samples_leaf=1, min_samples_split=2, n_estimators=5;, score=0.966 total time=   0.2s\n",
      "[CV 1/5] END criterion=gini, max_depth=60, max_features=auto, min_samples_leaf=3, min_samples_split=10, n_estimators=15;, score=0.934 total time=   0.5s\n",
      "[CV 1/5] END criterion=gini, max_depth=80, max_features=sqrt, min_samples_leaf=3, min_samples_split=10, n_estimators=1;, score=0.854 total time=   0.1s\n",
      "[CV 3/5] END criterion=gini, max_depth=80, max_features=sqrt, min_samples_leaf=3, min_samples_split=10, n_estimators=1;, score=0.931 total time=   0.0s\n",
      "[CV 5/5] END criterion=gini, max_depth=80, max_features=sqrt, min_samples_leaf=3, min_samples_split=10, n_estimators=1;, score=0.923 total time=   0.0s\n",
      "[CV 2/5] END criterion=entropy, max_depth=30, max_features=sqrt, min_samples_leaf=3, min_samples_split=6, n_estimators=3;, score=0.965 total time=   0.1s\n",
      "[CV 4/5] END criterion=entropy, max_depth=30, max_features=sqrt, min_samples_leaf=3, min_samples_split=6, n_estimators=3;, score=0.961 total time=   0.1s\n",
      "[CV 3/5] END criterion=gini, max_depth=120, max_features=auto, min_samples_leaf=4, min_samples_split=2, n_estimators=15;, score=0.971 total time=   0.5s\n",
      "[CV 2/5] END criterion=entropy, max_depth=40, max_features=sqrt, min_samples_leaf=3, min_samples_split=6, n_estimators=15;, score=0.978 total time=   0.5s\n",
      "[CV 5/5] END criterion=entropy, max_depth=40, max_features=sqrt, min_samples_leaf=3, min_samples_split=6, n_estimators=15;, score=0.973 total time=   0.5s\n",
      "[CV 4/5] END criterion=gini, max_depth=50, max_features=auto, min_samples_leaf=4, min_samples_split=10, n_estimators=20;, score=0.974 total time=   0.6s\n",
      "[CV 4/5] END criterion=gini, max_depth=100, max_features=auto, min_samples_leaf=3, min_samples_split=2, n_estimators=9;, score=0.971 total time=   0.3s\n",
      "[CV 3/5] END criterion=entropy, max_depth=90, max_features=sqrt, min_samples_leaf=1, min_samples_split=10, n_estimators=20;, score=0.976 total time=   0.7s\n",
      "[CV 2/5] END criterion=gini, max_depth=20, max_features=sqrt, min_samples_leaf=1, min_samples_split=6, n_estimators=1;, score=0.913 total time=   0.1s\n",
      "[CV 4/5] END criterion=gini, max_depth=20, max_features=sqrt, min_samples_leaf=1, min_samples_split=6, n_estimators=1;, score=0.926 total time=   0.0s\n",
      "[CV 2/5] END criterion=gini, max_depth=110, max_features=auto, min_samples_leaf=4, min_samples_split=6, n_estimators=8;, score=0.971 total time=   0.2s\n",
      "[CV 5/5] END criterion=gini, max_depth=110, max_features=auto, min_samples_leaf=4, min_samples_split=6, n_estimators=8;, score=0.967 total time=   0.2s\n",
      "[CV 4/5] END criterion=entropy, max_depth=50, max_features=sqrt, min_samples_leaf=3, min_samples_split=2, n_estimators=9;, score=0.974 total time=   0.3s\n",
      "[CV 3/5] END criterion=gini, max_depth=30, max_features=sqrt, min_samples_leaf=4, min_samples_split=2, n_estimators=14;, score=0.969 total time=   0.4s\n",
      "[CV 3/5] END criterion=gini, max_depth=60, max_features=sqrt, min_samples_leaf=3, min_samples_split=6, n_estimators=2;, score=0.948 total time=   0.1s\n",
      "[CV 5/5] END criterion=gini, max_depth=60, max_features=sqrt, min_samples_leaf=3, min_samples_split=6, n_estimators=2;, score=0.952 total time=   0.1s\n",
      "[CV 3/5] END criterion=gini, max_depth=100, max_features=auto, min_samples_leaf=1, min_samples_split=2, n_estimators=15;, score=0.972 total time=   0.5s\n",
      "[CV 2/5] END criterion=gini, max_depth=10, max_features=auto, min_samples_leaf=3, min_samples_split=10, n_estimators=1;, score=0.911 total time=   0.0s\n",
      "[CV 4/5] END criterion=gini, max_depth=10, max_features=auto, min_samples_leaf=3, min_samples_split=10, n_estimators=1;, score=0.920 total time=   0.0s\n",
      "[CV 2/5] END criterion=entropy, max_depth=10, max_features=auto, min_samples_leaf=4, min_samples_split=2, n_estimators=20;, score=0.977 total time=   0.6s\n",
      "[CV 5/5] END criterion=entropy, max_depth=10, max_features=auto, min_samples_leaf=4, min_samples_split=2, n_estimators=20;, score=0.967 total time=   0.6s\n",
      "[CV 4/5] END criterion=gini, max_depth=120, max_features=auto, min_samples_leaf=1, min_samples_split=10, n_estimators=18;, score=0.981 total time=   0.6s\n",
      "[CV 1/5] END criterion=gini, max_depth=20, max_features=sqrt, min_samples_leaf=3, min_samples_split=6, n_estimators=1;, score=0.871 total time=   0.1s\n",
      "[CV 5/5] END criterion=gini, max_depth=20, max_features=sqrt, min_samples_leaf=3, min_samples_split=6, n_estimators=1;, score=0.919 total time=   0.0s\n",
      "[CV 4/5] END criterion=entropy, max_depth=100, max_features=sqrt, min_samples_leaf=1, min_samples_split=2, n_estimators=5;, score=0.969 total time=   0.2s\n",
      "[CV 3/5] END criterion=gini, max_depth=60, max_features=auto, min_samples_leaf=3, min_samples_split=10, n_estimators=15;, score=0.967 total time=   0.5s\n",
      "[CV 2/5] END criterion=gini, max_depth=80, max_features=sqrt, min_samples_leaf=3, min_samples_split=10, n_estimators=1;, score=0.918 total time=   0.0s\n",
      "[CV 4/5] END criterion=gini, max_depth=80, max_features=sqrt, min_samples_leaf=3, min_samples_split=10, n_estimators=1;, score=0.919 total time=   0.0s\n",
      "[CV 1/5] END criterion=entropy, max_depth=30, max_features=sqrt, min_samples_leaf=3, min_samples_split=6, n_estimators=3;, score=0.912 total time=   0.1s\n",
      "[CV 5/5] END criterion=entropy, max_depth=30, max_features=sqrt, min_samples_leaf=3, min_samples_split=6, n_estimators=3;, score=0.962 total time=   0.1s\n",
      "[CV 2/5] END criterion=gini, max_depth=120, max_features=auto, min_samples_leaf=4, min_samples_split=2, n_estimators=15;, score=0.976 total time=   0.4s\n",
      "[CV 1/5] END criterion=entropy, max_depth=40, max_features=sqrt, min_samples_leaf=3, min_samples_split=6, n_estimators=15;, score=0.948 total time=   0.6s\n",
      "[CV 1/5] END criterion=gini, max_depth=50, max_features=auto, min_samples_leaf=4, min_samples_split=10, n_estimators=20;, score=0.941 total time=   0.6s\n",
      "[CV 5/5] END criterion=gini, max_depth=50, max_features=auto, min_samples_leaf=4, min_samples_split=10, n_estimators=20;, score=0.971 total time=   0.6s\n",
      "[CV 1/5] END criterion=entropy, max_depth=90, max_features=sqrt, min_samples_leaf=1, min_samples_split=10, n_estimators=20;, score=0.944 total time=   0.7s\n",
      "[CV 5/5] END criterion=entropy, max_depth=90, max_features=sqrt, min_samples_leaf=1, min_samples_split=10, n_estimators=20;, score=0.976 total time=   0.6s\n",
      "[CV 2/5] END criterion=entropy, max_depth=50, max_features=sqrt, min_samples_leaf=3, min_samples_split=2, n_estimators=9;, score=0.973 total time=   0.3s\n",
      "[CV 5/5] END criterion=entropy, max_depth=50, max_features=sqrt, min_samples_leaf=3, min_samples_split=2, n_estimators=9;, score=0.973 total time=   0.3s\n",
      "[CV 4/5] END criterion=gini, max_depth=30, max_features=sqrt, min_samples_leaf=4, min_samples_split=2, n_estimators=14;, score=0.974 total time=   0.4s\n",
      "[CV 2/5] END criterion=gini, max_depth=100, max_features=auto, min_samples_leaf=1, min_samples_split=2, n_estimators=15;, score=0.978 total time=   0.5s\n",
      "[CV 1/5] END criterion=gini, max_depth=10, max_features=auto, min_samples_leaf=3, min_samples_split=10, n_estimators=1;, score=0.870 total time=   0.0s\n",
      "[CV 3/5] END criterion=gini, max_depth=10, max_features=auto, min_samples_leaf=3, min_samples_split=10, n_estimators=1;, score=0.895 total time=   0.0s\n",
      "[CV 5/5] END criterion=gini, max_depth=10, max_features=auto, min_samples_leaf=3, min_samples_split=10, n_estimators=1;, score=0.908 total time=   0.0s\n",
      "[CV 3/5] END criterion=entropy, max_depth=10, max_features=auto, min_samples_leaf=4, min_samples_split=2, n_estimators=20;, score=0.967 total time=   0.6s\n",
      "[CV 2/5] END criterion=gini, max_depth=100, max_features=auto, min_samples_leaf=1, min_samples_split=6, n_estimators=6;, score=0.975 total time=   0.2s\n",
      "[CV 3/5] END criterion=gini, max_depth=100, max_features=auto, min_samples_leaf=1, min_samples_split=6, n_estimators=6;, score=0.967 total time=   0.2s\n",
      "[CV 1/5] END criterion=gini, max_depth=120, max_features=auto, min_samples_leaf=1, min_samples_split=10, n_estimators=18;, score=0.941 total time=   0.7s\n",
      "[CV 4/5] END criterion=gini, max_depth=20, max_features=sqrt, min_samples_leaf=3, min_samples_split=6, n_estimators=1;, score=0.919 total time=   0.1s\n",
      "[CV 1/5] END criterion=entropy, max_depth=100, max_features=sqrt, min_samples_leaf=1, min_samples_split=2, n_estimators=5;, score=0.933 total time=   0.2s\n",
      "[CV 5/5] END criterion=entropy, max_depth=100, max_features=sqrt, min_samples_leaf=1, min_samples_split=2, n_estimators=5;, score=0.970 total time=   0.2s\n",
      "[CV 4/5] END criterion=gini, max_depth=60, max_features=auto, min_samples_leaf=3, min_samples_split=10, n_estimators=15;, score=0.975 total time=   0.5s\n",
      "[CV 3/5] END criterion=entropy, max_depth=30, max_features=sqrt, min_samples_leaf=3, min_samples_split=6, n_estimators=3;, score=0.952 total time=   0.1s\n",
      "[CV 1/5] END criterion=gini, max_depth=120, max_features=auto, min_samples_leaf=4, min_samples_split=2, n_estimators=15;, score=0.940 total time=   0.5s\n",
      "[CV 5/5] END criterion=gini, max_depth=120, max_features=auto, min_samples_leaf=4, min_samples_split=2, n_estimators=15;, score=0.973 total time=   0.5s\n",
      "[CV 4/5] END criterion=entropy, max_depth=40, max_features=sqrt, min_samples_leaf=3, min_samples_split=6, n_estimators=15;, score=0.979 total time=   0.5s\n",
      "[CV 3/5] END criterion=gini, max_depth=50, max_features=auto, min_samples_leaf=4, min_samples_split=10, n_estimators=20;, score=0.970 total time=   0.6s\n",
      "[CV 3/5] END criterion=gini, max_depth=100, max_features=auto, min_samples_leaf=3, min_samples_split=2, n_estimators=9;, score=0.969 total time=   0.3s\n",
      "[CV 2/5] END criterion=entropy, max_depth=90, max_features=sqrt, min_samples_leaf=1, min_samples_split=10, n_estimators=20;, score=0.982 total time=   0.7s\n",
      "[CV 1/5] END criterion=gini, max_depth=20, max_features=sqrt, min_samples_leaf=1, min_samples_split=6, n_estimators=1;, score=0.847 total time=   0.1s\n",
      "[CV 3/5] END criterion=gini, max_depth=20, max_features=sqrt, min_samples_leaf=1, min_samples_split=6, n_estimators=1;, score=0.928 total time=   0.0s\n",
      "[CV 5/5] END criterion=gini, max_depth=20, max_features=sqrt, min_samples_leaf=1, min_samples_split=6, n_estimators=1;, score=0.923 total time=   0.0s\n",
      "[CV 3/5] END criterion=gini, max_depth=110, max_features=auto, min_samples_leaf=4, min_samples_split=6, n_estimators=8;, score=0.965 total time=   0.2s\n",
      "[CV 1/5] END criterion=entropy, max_depth=50, max_features=sqrt, min_samples_leaf=3, min_samples_split=2, n_estimators=9;, score=0.941 total time=   0.3s\n",
      "[CV 1/5] END criterion=gini, max_depth=30, max_features=sqrt, min_samples_leaf=4, min_samples_split=2, n_estimators=14;, score=0.937 total time=   0.4s\n",
      "[CV 5/5] END criterion=gini, max_depth=30, max_features=sqrt, min_samples_leaf=4, min_samples_split=2, n_estimators=14;, score=0.972 total time=   0.4s\n",
      "[CV 4/5] END criterion=gini, max_depth=100, max_features=auto, min_samples_leaf=1, min_samples_split=2, n_estimators=15;, score=0.979 total time=   0.5s\n",
      "[CV 1/5] END criterion=entropy, max_depth=10, max_features=auto, min_samples_leaf=4, min_samples_split=2, n_estimators=20;, score=0.942 total time=   0.7s\n",
      "[CV 1/5] END criterion=gini, max_depth=100, max_features=auto, min_samples_leaf=1, min_samples_split=6, n_estimators=6;, score=0.915 total time=   0.2s\n",
      "[CV 4/5] END criterion=gini, max_depth=100, max_features=auto, min_samples_leaf=1, min_samples_split=6, n_estimators=6;, score=0.971 total time=   0.2s\n",
      "[CV 2/5] END criterion=gini, max_depth=120, max_features=auto, min_samples_leaf=1, min_samples_split=10, n_estimators=18;, score=0.980 total time=   0.7s\n",
      "[CV 5/5] END criterion=gini, max_depth=120, max_features=auto, min_samples_leaf=1, min_samples_split=10, n_estimators=18;, score=0.977 total time=   0.3s\n",
      "[CV 2/5] END criterion=gini, max_depth=20, max_features=sqrt, min_samples_leaf=3, min_samples_split=6, n_estimators=1;, score=0.920 total time=   0.1s\n",
      "[CV 2/5] END criterion=entropy, max_depth=100, max_features=sqrt, min_samples_leaf=1, min_samples_split=2, n_estimators=5;, score=0.967 total time=   0.2s\n",
      "[CV 2/5] END criterion=gini, max_depth=60, max_features=auto, min_samples_leaf=3, min_samples_split=10, n_estimators=15;, score=0.979 total time=   0.4s\n",
      "[CV 5/5] END criterion=gini, max_depth=60, max_features=auto, min_samples_leaf=3, min_samples_split=10, n_estimators=15;, score=0.976 total time=   0.5s\n",
      "[CV 4/5] END criterion=gini, max_depth=120, max_features=auto, min_samples_leaf=4, min_samples_split=2, n_estimators=15;, score=0.971 total time=   0.5s\n",
      "[CV 3/5] END criterion=entropy, max_depth=40, max_features=sqrt, min_samples_leaf=3, min_samples_split=6, n_estimators=15;, score=0.976 total time=   0.5s\n",
      "[CV 2/5] END criterion=gini, max_depth=50, max_features=auto, min_samples_leaf=4, min_samples_split=10, n_estimators=20;, score=0.976 total time=   0.6s\n",
      "[CV 1/5] END criterion=gini, max_depth=100, max_features=auto, min_samples_leaf=3, min_samples_split=2, n_estimators=9;, score=0.927 total time=   0.3s\n",
      "[CV 2/5] END criterion=gini, max_depth=100, max_features=auto, min_samples_leaf=3, min_samples_split=2, n_estimators=9;, score=0.973 total time=   0.3s\n",
      "[CV 5/5] END criterion=gini, max_depth=100, max_features=auto, min_samples_leaf=3, min_samples_split=2, n_estimators=9;, score=0.972 total time=   0.3s\n",
      "[CV 4/5] END criterion=entropy, max_depth=90, max_features=sqrt, min_samples_leaf=1, min_samples_split=10, n_estimators=20;, score=0.979 total time=   0.7s\n",
      "[CV 1/5] END criterion=gini, max_depth=110, max_features=auto, min_samples_leaf=4, min_samples_split=6, n_estimators=8;, score=0.933 total time=   0.3s\n",
      "[CV 4/5] END criterion=gini, max_depth=110, max_features=auto, min_samples_leaf=4, min_samples_split=6, n_estimators=8;, score=0.973 total time=   0.2s\n",
      "[CV 3/5] END criterion=entropy, max_depth=50, max_features=sqrt, min_samples_leaf=3, min_samples_split=2, n_estimators=9;, score=0.968 total time=   0.3s\n",
      "[CV 2/5] END criterion=gini, max_depth=30, max_features=sqrt, min_samples_leaf=4, min_samples_split=2, n_estimators=14;, score=0.975 total time=   0.4s\n",
      "[CV 1/5] END criterion=gini, max_depth=60, max_features=sqrt, min_samples_leaf=3, min_samples_split=6, n_estimators=2;, score=0.876 total time=   0.1s\n",
      "[CV 2/5] END criterion=gini, max_depth=60, max_features=sqrt, min_samples_leaf=3, min_samples_split=6, n_estimators=2;, score=0.947 total time=   0.1s\n",
      "[CV 4/5] END criterion=gini, max_depth=60, max_features=sqrt, min_samples_leaf=3, min_samples_split=6, n_estimators=2;, score=0.943 total time=   0.1s\n",
      "[CV 1/5] END criterion=gini, max_depth=100, max_features=auto, min_samples_leaf=1, min_samples_split=2, n_estimators=15;, score=0.945 total time=   0.5s\n",
      "[CV 5/5] END criterion=gini, max_depth=100, max_features=auto, min_samples_leaf=1, min_samples_split=2, n_estimators=15;, score=0.973 total time=   0.5s\n",
      "[CV 4/5] END criterion=entropy, max_depth=10, max_features=auto, min_samples_leaf=4, min_samples_split=2, n_estimators=20;, score=0.975 total time=   0.6s\n",
      "[CV 5/5] END criterion=gini, max_depth=100, max_features=auto, min_samples_leaf=1, min_samples_split=6, n_estimators=6;, score=0.975 total time=   0.2s\n",
      "[CV 3/5] END criterion=gini, max_depth=120, max_features=auto, min_samples_leaf=1, min_samples_split=10, n_estimators=18;, score=0.971 total time=   0.6s\n"
     ]
    }
   ],
   "source": [
    "# predict probabilities\n",
    "pred_prob1 = model_smote.predict_proba(X_test)\n",
    "pred_prob2 = model_rf_2.best_estimator_.predict_proba(X_test)\n",
    "\n",
    "# roc curve for models\n",
    "fpr1, tpr1, thresh1 = roc_curve(y_test, pred_prob1[:,1], pos_label=1)\n",
    "fpr2, tpr2, thresh2 = roc_curve(y_test, pred_prob2[:,1], pos_label=1)\n",
    "\n",
    "# auc scores\n",
    "auc_score1 = roc_auc_score(y_test, pred_prob1[:,1])\n",
    "auc_score2 = roc_auc_score(y_test, pred_prob2[:,1])\n",
    "\n",
    "# plot roc curves\n",
    "plt.plot(fpr1, tpr1, linestyle='--',color='orange', label='model_smote (area = %0.2f)' % auc_score1)\n",
    "plt.plot(fpr2, tpr2, linestyle='--',color='green', label='model_rf_2 (area = %0.2f)' % auc_score2)\n",
    "\n",
    "# title\n",
    "plt.title('ROC curve')\n",
    "# x label\n",
    "plt.xlabel('False Positive Rate')\n",
    "# y label\n",
    "plt.ylabel('True Positive rate')\n",
    "\n",
    "plt.legend(loc='best')\n",
    "plt.show()"
   ]
  },
  {
   "cell_type": "markdown",
   "id": "5ac493ef",
   "metadata": {},
   "source": [
    "# Feature Importance"
   ]
  },
  {
   "cell_type": "code",
   "execution_count": 80,
   "id": "bfca77e1",
   "metadata": {},
   "outputs": [],
   "source": [
    "# Let's load the packages\n",
    "\n",
    "from sklearn.datasets import load_boston\n",
    "from sklearn.ensemble import RandomForestRegressor\n",
    "from sklearn.inspection import permutation_importance"
   ]
  },
  {
   "cell_type": "code",
   "execution_count": 86,
   "id": "15cf513e",
   "metadata": {
    "scrolled": true
   },
   "outputs": [],
   "source": [
    "importances = model_rf_2.best_estimator_.feature_importances_\n",
    "# Sort the feature importance in descending order\n",
    "\n",
    "sorted_indices = np.argsort(importances)[::-1]\n"
   ]
  },
  {
   "cell_type": "code",
   "execution_count": 87,
   "id": "b41ea174",
   "metadata": {},
   "outputs": [
    {
     "data": {
      "image/png": "[encoded data removed]",
      "text/plain": [
       "<Figure size 432x288 with 1 Axes>"
      ]
     },
     "metadata": {},
     "output_type": "display_data"
    }
   ],
   "source": [
    "import matplotlib.pyplot as plt\n",
    " \n",
    "plt.title('Feature Importance')\n",
    "plt.bar(range(X_train_res.shape[1]), importances[sorted_indices], align='center')\n",
    "plt.xticks(range(X_train_res.shape[1]), X_train_res.columns[sorted_indices], rotation=90)\n",
    "plt.tight_layout()\n",
    "plt.show()"
   ]
  },
  {
   "cell_type": "code",
   "execution_count": null,
   "id": "ad57a800",
   "metadata": {},
   "outputs": [],
   "source": []
  }
 ],
 "metadata": {
  "kernelspec": {
   "display_name": "Python 3 (ipykernel)",
   "language": "python",
   "name": "python3"
  },
  "language_info": {
   "codemirror_mode": {
    "name": "ipython",
    "version": 3
   },
   "file_extension": ".py",
   "mimetype": "text/x-python",
   "name": "python",
   "nbconvert_exporter": "python",
   "pygments_lexer": "ipython3",
   "version": "3.9.7"
  }
 },
 "nbformat": 4,
 "nbformat_minor": 5
}
